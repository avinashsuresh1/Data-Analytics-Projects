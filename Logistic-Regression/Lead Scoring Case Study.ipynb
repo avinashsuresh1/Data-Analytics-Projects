{
 "cells": [
  {
   "cell_type": "markdown",
   "metadata": {},
   "source": [
    "# Lead Scoring Case Study"
   ]
  },
  {
   "cell_type": "code",
   "execution_count": 189,
   "metadata": {},
   "outputs": [],
   "source": [
    "# Import necessary libraries\n",
    "import pandas as pd\n",
    "import numpy as np\n",
    "import matplotlib.pyplot as plt\n",
    "import seaborn as sns"
   ]
  },
  {
   "cell_type": "code",
   "execution_count": 190,
   "metadata": {},
   "outputs": [],
   "source": [
    "# Ignore Warnings\n",
    "import warnings\n",
    "warnings.filterwarnings('ignore')"
   ]
  },
  {
   "cell_type": "markdown",
   "metadata": {},
   "source": [
    "### Exploratory Data Analysis"
   ]
  },
  {
   "cell_type": "code",
   "execution_count": 191,
   "metadata": {},
   "outputs": [
    {
     "data": {
      "text/html": [
       "<div>\n",
       "<style scoped>\n",
       "    .dataframe tbody tr th:only-of-type {\n",
       "        vertical-align: middle;\n",
       "    }\n",
       "\n",
       "    .dataframe tbody tr th {\n",
       "        vertical-align: top;\n",
       "    }\n",
       "\n",
       "    .dataframe thead th {\n",
       "        text-align: right;\n",
       "    }\n",
       "</style>\n",
       "<table border=\"1\" class=\"dataframe\">\n",
       "  <thead>\n",
       "    <tr style=\"text-align: right;\">\n",
       "      <th></th>\n",
       "      <th>Prospect ID</th>\n",
       "      <th>Lead Number</th>\n",
       "      <th>Lead Origin</th>\n",
       "      <th>Lead Source</th>\n",
       "      <th>Do Not Email</th>\n",
       "      <th>Do Not Call</th>\n",
       "      <th>Converted</th>\n",
       "      <th>TotalVisits</th>\n",
       "      <th>Total Time Spent on Website</th>\n",
       "      <th>Page Views Per Visit</th>\n",
       "      <th>...</th>\n",
       "      <th>Get updates on DM Content</th>\n",
       "      <th>Lead Profile</th>\n",
       "      <th>City</th>\n",
       "      <th>Asymmetrique Activity Index</th>\n",
       "      <th>Asymmetrique Profile Index</th>\n",
       "      <th>Asymmetrique Activity Score</th>\n",
       "      <th>Asymmetrique Profile Score</th>\n",
       "      <th>I agree to pay the amount through cheque</th>\n",
       "      <th>A free copy of Mastering The Interview</th>\n",
       "      <th>Last Notable Activity</th>\n",
       "    </tr>\n",
       "  </thead>\n",
       "  <tbody>\n",
       "    <tr>\n",
       "      <th>0</th>\n",
       "      <td>7927b2df-8bba-4d29-b9a2-b6e0beafe620</td>\n",
       "      <td>660737</td>\n",
       "      <td>API</td>\n",
       "      <td>Olark Chat</td>\n",
       "      <td>No</td>\n",
       "      <td>No</td>\n",
       "      <td>0</td>\n",
       "      <td>0.0</td>\n",
       "      <td>0</td>\n",
       "      <td>0.0</td>\n",
       "      <td>...</td>\n",
       "      <td>No</td>\n",
       "      <td>Select</td>\n",
       "      <td>Select</td>\n",
       "      <td>02.Medium</td>\n",
       "      <td>02.Medium</td>\n",
       "      <td>15.0</td>\n",
       "      <td>15.0</td>\n",
       "      <td>No</td>\n",
       "      <td>No</td>\n",
       "      <td>Modified</td>\n",
       "    </tr>\n",
       "    <tr>\n",
       "      <th>1</th>\n",
       "      <td>2a272436-5132-4136-86fa-dcc88c88f482</td>\n",
       "      <td>660728</td>\n",
       "      <td>API</td>\n",
       "      <td>Organic Search</td>\n",
       "      <td>No</td>\n",
       "      <td>No</td>\n",
       "      <td>0</td>\n",
       "      <td>5.0</td>\n",
       "      <td>674</td>\n",
       "      <td>2.5</td>\n",
       "      <td>...</td>\n",
       "      <td>No</td>\n",
       "      <td>Select</td>\n",
       "      <td>Select</td>\n",
       "      <td>02.Medium</td>\n",
       "      <td>02.Medium</td>\n",
       "      <td>15.0</td>\n",
       "      <td>15.0</td>\n",
       "      <td>No</td>\n",
       "      <td>No</td>\n",
       "      <td>Email Opened</td>\n",
       "    </tr>\n",
       "    <tr>\n",
       "      <th>2</th>\n",
       "      <td>8cc8c611-a219-4f35-ad23-fdfd2656bd8a</td>\n",
       "      <td>660727</td>\n",
       "      <td>Landing Page Submission</td>\n",
       "      <td>Direct Traffic</td>\n",
       "      <td>No</td>\n",
       "      <td>No</td>\n",
       "      <td>1</td>\n",
       "      <td>2.0</td>\n",
       "      <td>1532</td>\n",
       "      <td>2.0</td>\n",
       "      <td>...</td>\n",
       "      <td>No</td>\n",
       "      <td>Potential Lead</td>\n",
       "      <td>Mumbai</td>\n",
       "      <td>02.Medium</td>\n",
       "      <td>01.High</td>\n",
       "      <td>14.0</td>\n",
       "      <td>20.0</td>\n",
       "      <td>No</td>\n",
       "      <td>Yes</td>\n",
       "      <td>Email Opened</td>\n",
       "    </tr>\n",
       "    <tr>\n",
       "      <th>3</th>\n",
       "      <td>0cc2df48-7cf4-4e39-9de9-19797f9b38cc</td>\n",
       "      <td>660719</td>\n",
       "      <td>Landing Page Submission</td>\n",
       "      <td>Direct Traffic</td>\n",
       "      <td>No</td>\n",
       "      <td>No</td>\n",
       "      <td>0</td>\n",
       "      <td>1.0</td>\n",
       "      <td>305</td>\n",
       "      <td>1.0</td>\n",
       "      <td>...</td>\n",
       "      <td>No</td>\n",
       "      <td>Select</td>\n",
       "      <td>Mumbai</td>\n",
       "      <td>02.Medium</td>\n",
       "      <td>01.High</td>\n",
       "      <td>13.0</td>\n",
       "      <td>17.0</td>\n",
       "      <td>No</td>\n",
       "      <td>No</td>\n",
       "      <td>Modified</td>\n",
       "    </tr>\n",
       "    <tr>\n",
       "      <th>4</th>\n",
       "      <td>3256f628-e534-4826-9d63-4a8b88782852</td>\n",
       "      <td>660681</td>\n",
       "      <td>Landing Page Submission</td>\n",
       "      <td>Google</td>\n",
       "      <td>No</td>\n",
       "      <td>No</td>\n",
       "      <td>1</td>\n",
       "      <td>2.0</td>\n",
       "      <td>1428</td>\n",
       "      <td>1.0</td>\n",
       "      <td>...</td>\n",
       "      <td>No</td>\n",
       "      <td>Select</td>\n",
       "      <td>Mumbai</td>\n",
       "      <td>02.Medium</td>\n",
       "      <td>01.High</td>\n",
       "      <td>15.0</td>\n",
       "      <td>18.0</td>\n",
       "      <td>No</td>\n",
       "      <td>No</td>\n",
       "      <td>Modified</td>\n",
       "    </tr>\n",
       "  </tbody>\n",
       "</table>\n",
       "<p>5 rows × 37 columns</p>\n",
       "</div>"
      ],
      "text/plain": [
       "                            Prospect ID  Lead Number              Lead Origin  \\\n",
       "0  7927b2df-8bba-4d29-b9a2-b6e0beafe620       660737                      API   \n",
       "1  2a272436-5132-4136-86fa-dcc88c88f482       660728                      API   \n",
       "2  8cc8c611-a219-4f35-ad23-fdfd2656bd8a       660727  Landing Page Submission   \n",
       "3  0cc2df48-7cf4-4e39-9de9-19797f9b38cc       660719  Landing Page Submission   \n",
       "4  3256f628-e534-4826-9d63-4a8b88782852       660681  Landing Page Submission   \n",
       "\n",
       "      Lead Source Do Not Email Do Not Call  Converted  TotalVisits  \\\n",
       "0      Olark Chat           No          No          0          0.0   \n",
       "1  Organic Search           No          No          0          5.0   \n",
       "2  Direct Traffic           No          No          1          2.0   \n",
       "3  Direct Traffic           No          No          0          1.0   \n",
       "4          Google           No          No          1          2.0   \n",
       "\n",
       "   Total Time Spent on Website  Page Views Per Visit  ...  \\\n",
       "0                            0                   0.0  ...   \n",
       "1                          674                   2.5  ...   \n",
       "2                         1532                   2.0  ...   \n",
       "3                          305                   1.0  ...   \n",
       "4                         1428                   1.0  ...   \n",
       "\n",
       "  Get updates on DM Content    Lead Profile    City  \\\n",
       "0                        No          Select  Select   \n",
       "1                        No          Select  Select   \n",
       "2                        No  Potential Lead  Mumbai   \n",
       "3                        No          Select  Mumbai   \n",
       "4                        No          Select  Mumbai   \n",
       "\n",
       "  Asymmetrique Activity Index Asymmetrique Profile Index  \\\n",
       "0                   02.Medium                  02.Medium   \n",
       "1                   02.Medium                  02.Medium   \n",
       "2                   02.Medium                    01.High   \n",
       "3                   02.Medium                    01.High   \n",
       "4                   02.Medium                    01.High   \n",
       "\n",
       "  Asymmetrique Activity Score Asymmetrique Profile Score  \\\n",
       "0                        15.0                       15.0   \n",
       "1                        15.0                       15.0   \n",
       "2                        14.0                       20.0   \n",
       "3                        13.0                       17.0   \n",
       "4                        15.0                       18.0   \n",
       "\n",
       "  I agree to pay the amount through cheque  \\\n",
       "0                                       No   \n",
       "1                                       No   \n",
       "2                                       No   \n",
       "3                                       No   \n",
       "4                                       No   \n",
       "\n",
       "  A free copy of Mastering The Interview Last Notable Activity  \n",
       "0                                     No              Modified  \n",
       "1                                     No          Email Opened  \n",
       "2                                    Yes          Email Opened  \n",
       "3                                     No              Modified  \n",
       "4                                     No              Modified  \n",
       "\n",
       "[5 rows x 37 columns]"
      ]
     },
     "execution_count": 191,
     "metadata": {},
     "output_type": "execute_result"
    }
   ],
   "source": [
    "# Load data\n",
    "leads = pd.read_csv('Leads.csv')\n",
    "leads.head()"
   ]
  },
  {
   "cell_type": "code",
   "execution_count": 192,
   "metadata": {},
   "outputs": [
    {
     "data": {
      "text/plain": [
       "(9240, 37)"
      ]
     },
     "execution_count": 192,
     "metadata": {},
     "output_type": "execute_result"
    }
   ],
   "source": [
    "# Shape of dataframe\n",
    "leads.shape"
   ]
  },
  {
   "cell_type": "code",
   "execution_count": 193,
   "metadata": {},
   "outputs": [
    {
     "name": "stdout",
     "output_type": "stream",
     "text": [
      "<class 'pandas.core.frame.DataFrame'>\n",
      "RangeIndex: 9240 entries, 0 to 9239\n",
      "Data columns (total 37 columns):\n",
      " #   Column                                         Non-Null Count  Dtype  \n",
      "---  ------                                         --------------  -----  \n",
      " 0   Prospect ID                                    9240 non-null   object \n",
      " 1   Lead Number                                    9240 non-null   int64  \n",
      " 2   Lead Origin                                    9240 non-null   object \n",
      " 3   Lead Source                                    9204 non-null   object \n",
      " 4   Do Not Email                                   9240 non-null   object \n",
      " 5   Do Not Call                                    9240 non-null   object \n",
      " 6   Converted                                      9240 non-null   int64  \n",
      " 7   TotalVisits                                    9103 non-null   float64\n",
      " 8   Total Time Spent on Website                    9240 non-null   int64  \n",
      " 9   Page Views Per Visit                           9103 non-null   float64\n",
      " 10  Last Activity                                  9137 non-null   object \n",
      " 11  Country                                        6779 non-null   object \n",
      " 12  Specialization                                 7802 non-null   object \n",
      " 13  How did you hear about X Education             7033 non-null   object \n",
      " 14  What is your current occupation                6550 non-null   object \n",
      " 15  What matters most to you in choosing a course  6531 non-null   object \n",
      " 16  Search                                         9240 non-null   object \n",
      " 17  Magazine                                       9240 non-null   object \n",
      " 18  Newspaper Article                              9240 non-null   object \n",
      " 19  X Education Forums                             9240 non-null   object \n",
      " 20  Newspaper                                      9240 non-null   object \n",
      " 21  Digital Advertisement                          9240 non-null   object \n",
      " 22  Through Recommendations                        9240 non-null   object \n",
      " 23  Receive More Updates About Our Courses         9240 non-null   object \n",
      " 24  Tags                                           5887 non-null   object \n",
      " 25  Lead Quality                                   4473 non-null   object \n",
      " 26  Update me on Supply Chain Content              9240 non-null   object \n",
      " 27  Get updates on DM Content                      9240 non-null   object \n",
      " 28  Lead Profile                                   6531 non-null   object \n",
      " 29  City                                           7820 non-null   object \n",
      " 30  Asymmetrique Activity Index                    5022 non-null   object \n",
      " 31  Asymmetrique Profile Index                     5022 non-null   object \n",
      " 32  Asymmetrique Activity Score                    5022 non-null   float64\n",
      " 33  Asymmetrique Profile Score                     5022 non-null   float64\n",
      " 34  I agree to pay the amount through cheque       9240 non-null   object \n",
      " 35  A free copy of Mastering The Interview         9240 non-null   object \n",
      " 36  Last Notable Activity                          9240 non-null   object \n",
      "dtypes: float64(4), int64(3), object(30)\n",
      "memory usage: 2.6+ MB\n"
     ]
    }
   ],
   "source": [
    "# Info\n",
    "leads.info() #looks like there are missing values"
   ]
  },
  {
   "cell_type": "code",
   "execution_count": 194,
   "metadata": {},
   "outputs": [
    {
     "data": {
      "text/html": [
       "<div>\n",
       "<style scoped>\n",
       "    .dataframe tbody tr th:only-of-type {\n",
       "        vertical-align: middle;\n",
       "    }\n",
       "\n",
       "    .dataframe tbody tr th {\n",
       "        vertical-align: top;\n",
       "    }\n",
       "\n",
       "    .dataframe thead th {\n",
       "        text-align: right;\n",
       "    }\n",
       "</style>\n",
       "<table border=\"1\" class=\"dataframe\">\n",
       "  <thead>\n",
       "    <tr style=\"text-align: right;\">\n",
       "      <th></th>\n",
       "      <th>Lead Number</th>\n",
       "      <th>Converted</th>\n",
       "      <th>TotalVisits</th>\n",
       "      <th>Total Time Spent on Website</th>\n",
       "      <th>Page Views Per Visit</th>\n",
       "      <th>Asymmetrique Activity Score</th>\n",
       "      <th>Asymmetrique Profile Score</th>\n",
       "    </tr>\n",
       "  </thead>\n",
       "  <tbody>\n",
       "    <tr>\n",
       "      <th>count</th>\n",
       "      <td>9240.000000</td>\n",
       "      <td>9240.000000</td>\n",
       "      <td>9103.000000</td>\n",
       "      <td>9240.000000</td>\n",
       "      <td>9103.000000</td>\n",
       "      <td>5022.000000</td>\n",
       "      <td>5022.000000</td>\n",
       "    </tr>\n",
       "    <tr>\n",
       "      <th>mean</th>\n",
       "      <td>617188.435606</td>\n",
       "      <td>0.385390</td>\n",
       "      <td>3.445238</td>\n",
       "      <td>487.698268</td>\n",
       "      <td>2.362820</td>\n",
       "      <td>14.306252</td>\n",
       "      <td>16.344883</td>\n",
       "    </tr>\n",
       "    <tr>\n",
       "      <th>std</th>\n",
       "      <td>23405.995698</td>\n",
       "      <td>0.486714</td>\n",
       "      <td>4.854853</td>\n",
       "      <td>548.021466</td>\n",
       "      <td>2.161418</td>\n",
       "      <td>1.386694</td>\n",
       "      <td>1.811395</td>\n",
       "    </tr>\n",
       "    <tr>\n",
       "      <th>min</th>\n",
       "      <td>579533.000000</td>\n",
       "      <td>0.000000</td>\n",
       "      <td>0.000000</td>\n",
       "      <td>0.000000</td>\n",
       "      <td>0.000000</td>\n",
       "      <td>7.000000</td>\n",
       "      <td>11.000000</td>\n",
       "    </tr>\n",
       "    <tr>\n",
       "      <th>25%</th>\n",
       "      <td>596484.500000</td>\n",
       "      <td>0.000000</td>\n",
       "      <td>1.000000</td>\n",
       "      <td>12.000000</td>\n",
       "      <td>1.000000</td>\n",
       "      <td>14.000000</td>\n",
       "      <td>15.000000</td>\n",
       "    </tr>\n",
       "    <tr>\n",
       "      <th>50%</th>\n",
       "      <td>615479.000000</td>\n",
       "      <td>0.000000</td>\n",
       "      <td>3.000000</td>\n",
       "      <td>248.000000</td>\n",
       "      <td>2.000000</td>\n",
       "      <td>14.000000</td>\n",
       "      <td>16.000000</td>\n",
       "    </tr>\n",
       "    <tr>\n",
       "      <th>75%</th>\n",
       "      <td>637387.250000</td>\n",
       "      <td>1.000000</td>\n",
       "      <td>5.000000</td>\n",
       "      <td>936.000000</td>\n",
       "      <td>3.000000</td>\n",
       "      <td>15.000000</td>\n",
       "      <td>18.000000</td>\n",
       "    </tr>\n",
       "    <tr>\n",
       "      <th>max</th>\n",
       "      <td>660737.000000</td>\n",
       "      <td>1.000000</td>\n",
       "      <td>251.000000</td>\n",
       "      <td>2272.000000</td>\n",
       "      <td>55.000000</td>\n",
       "      <td>18.000000</td>\n",
       "      <td>20.000000</td>\n",
       "    </tr>\n",
       "  </tbody>\n",
       "</table>\n",
       "</div>"
      ],
      "text/plain": [
       "         Lead Number    Converted  TotalVisits  Total Time Spent on Website  \\\n",
       "count    9240.000000  9240.000000  9103.000000                  9240.000000   \n",
       "mean   617188.435606     0.385390     3.445238                   487.698268   \n",
       "std     23405.995698     0.486714     4.854853                   548.021466   \n",
       "min    579533.000000     0.000000     0.000000                     0.000000   \n",
       "25%    596484.500000     0.000000     1.000000                    12.000000   \n",
       "50%    615479.000000     0.000000     3.000000                   248.000000   \n",
       "75%    637387.250000     1.000000     5.000000                   936.000000   \n",
       "max    660737.000000     1.000000   251.000000                  2272.000000   \n",
       "\n",
       "       Page Views Per Visit  Asymmetrique Activity Score  \\\n",
       "count           9103.000000                  5022.000000   \n",
       "mean               2.362820                    14.306252   \n",
       "std                2.161418                     1.386694   \n",
       "min                0.000000                     7.000000   \n",
       "25%                1.000000                    14.000000   \n",
       "50%                2.000000                    14.000000   \n",
       "75%                3.000000                    15.000000   \n",
       "max               55.000000                    18.000000   \n",
       "\n",
       "       Asymmetrique Profile Score  \n",
       "count                 5022.000000  \n",
       "mean                    16.344883  \n",
       "std                      1.811395  \n",
       "min                     11.000000  \n",
       "25%                     15.000000  \n",
       "50%                     16.000000  \n",
       "75%                     18.000000  \n",
       "max                     20.000000  "
      ]
     },
     "execution_count": 194,
     "metadata": {},
     "output_type": "execute_result"
    }
   ],
   "source": [
    "# How is the data distributed?\n",
    "leads.describe()"
   ]
  },
  {
   "cell_type": "code",
   "execution_count": 195,
   "metadata": {},
   "outputs": [
    {
     "data": {
      "text/plain": [
       "Prospect ID                                         0\n",
       "Lead Number                                         0\n",
       "Lead Origin                                         0\n",
       "Lead Source                                        36\n",
       "Do Not Email                                        0\n",
       "Do Not Call                                         0\n",
       "Converted                                           0\n",
       "TotalVisits                                       137\n",
       "Total Time Spent on Website                         0\n",
       "Page Views Per Visit                              137\n",
       "Last Activity                                     103\n",
       "Country                                          2461\n",
       "Specialization                                   1438\n",
       "How did you hear about X Education               2207\n",
       "What is your current occupation                  2690\n",
       "What matters most to you in choosing a course    2709\n",
       "Search                                              0\n",
       "Magazine                                            0\n",
       "Newspaper Article                                   0\n",
       "X Education Forums                                  0\n",
       "Newspaper                                           0\n",
       "Digital Advertisement                               0\n",
       "Through Recommendations                             0\n",
       "Receive More Updates About Our Courses              0\n",
       "Tags                                             3353\n",
       "Lead Quality                                     4767\n",
       "Update me on Supply Chain Content                   0\n",
       "Get updates on DM Content                           0\n",
       "Lead Profile                                     2709\n",
       "City                                             1420\n",
       "Asymmetrique Activity Index                      4218\n",
       "Asymmetrique Profile Index                       4218\n",
       "Asymmetrique Activity Score                      4218\n",
       "Asymmetrique Profile Score                       4218\n",
       "I agree to pay the amount through cheque            0\n",
       "A free copy of Mastering The Interview              0\n",
       "Last Notable Activity                               0\n",
       "dtype: int64"
      ]
     },
     "execution_count": 195,
     "metadata": {},
     "output_type": "execute_result"
    }
   ],
   "source": [
    "# Missing values\n",
    "leads.isnull().sum()"
   ]
  },
  {
   "cell_type": "code",
   "execution_count": 196,
   "metadata": {},
   "outputs": [],
   "source": [
    "# Two columns are like keys of the table which do not contain useful information for us, so we drop them\n",
    "leads1 = leads.drop(['Prospect ID','Lead Number'], axis=1)"
   ]
  },
  {
   "cell_type": "code",
   "execution_count": 197,
   "metadata": {},
   "outputs": [
    {
     "data": {
      "text/html": [
       "<div>\n",
       "<style scoped>\n",
       "    .dataframe tbody tr th:only-of-type {\n",
       "        vertical-align: middle;\n",
       "    }\n",
       "\n",
       "    .dataframe tbody tr th {\n",
       "        vertical-align: top;\n",
       "    }\n",
       "\n",
       "    .dataframe thead th {\n",
       "        text-align: right;\n",
       "    }\n",
       "</style>\n",
       "<table border=\"1\" class=\"dataframe\">\n",
       "  <thead>\n",
       "    <tr style=\"text-align: right;\">\n",
       "      <th></th>\n",
       "      <th>Lead Origin</th>\n",
       "      <th>Lead Source</th>\n",
       "      <th>Do Not Email</th>\n",
       "      <th>Do Not Call</th>\n",
       "      <th>Converted</th>\n",
       "      <th>TotalVisits</th>\n",
       "      <th>Total Time Spent on Website</th>\n",
       "      <th>Page Views Per Visit</th>\n",
       "      <th>Last Activity</th>\n",
       "      <th>Country</th>\n",
       "      <th>...</th>\n",
       "      <th>Get updates on DM Content</th>\n",
       "      <th>Lead Profile</th>\n",
       "      <th>City</th>\n",
       "      <th>Asymmetrique Activity Index</th>\n",
       "      <th>Asymmetrique Profile Index</th>\n",
       "      <th>Asymmetrique Activity Score</th>\n",
       "      <th>Asymmetrique Profile Score</th>\n",
       "      <th>I agree to pay the amount through cheque</th>\n",
       "      <th>A free copy of Mastering The Interview</th>\n",
       "      <th>Last Notable Activity</th>\n",
       "    </tr>\n",
       "  </thead>\n",
       "  <tbody>\n",
       "    <tr>\n",
       "      <th>0</th>\n",
       "      <td>API</td>\n",
       "      <td>Olark Chat</td>\n",
       "      <td>No</td>\n",
       "      <td>No</td>\n",
       "      <td>0</td>\n",
       "      <td>0.0</td>\n",
       "      <td>0</td>\n",
       "      <td>0.0</td>\n",
       "      <td>Page Visited on Website</td>\n",
       "      <td>NaN</td>\n",
       "      <td>...</td>\n",
       "      <td>No</td>\n",
       "      <td>Select</td>\n",
       "      <td>Select</td>\n",
       "      <td>02.Medium</td>\n",
       "      <td>02.Medium</td>\n",
       "      <td>15.0</td>\n",
       "      <td>15.0</td>\n",
       "      <td>No</td>\n",
       "      <td>No</td>\n",
       "      <td>Modified</td>\n",
       "    </tr>\n",
       "    <tr>\n",
       "      <th>1</th>\n",
       "      <td>API</td>\n",
       "      <td>Organic Search</td>\n",
       "      <td>No</td>\n",
       "      <td>No</td>\n",
       "      <td>0</td>\n",
       "      <td>5.0</td>\n",
       "      <td>674</td>\n",
       "      <td>2.5</td>\n",
       "      <td>Email Opened</td>\n",
       "      <td>India</td>\n",
       "      <td>...</td>\n",
       "      <td>No</td>\n",
       "      <td>Select</td>\n",
       "      <td>Select</td>\n",
       "      <td>02.Medium</td>\n",
       "      <td>02.Medium</td>\n",
       "      <td>15.0</td>\n",
       "      <td>15.0</td>\n",
       "      <td>No</td>\n",
       "      <td>No</td>\n",
       "      <td>Email Opened</td>\n",
       "    </tr>\n",
       "    <tr>\n",
       "      <th>2</th>\n",
       "      <td>Landing Page Submission</td>\n",
       "      <td>Direct Traffic</td>\n",
       "      <td>No</td>\n",
       "      <td>No</td>\n",
       "      <td>1</td>\n",
       "      <td>2.0</td>\n",
       "      <td>1532</td>\n",
       "      <td>2.0</td>\n",
       "      <td>Email Opened</td>\n",
       "      <td>India</td>\n",
       "      <td>...</td>\n",
       "      <td>No</td>\n",
       "      <td>Potential Lead</td>\n",
       "      <td>Mumbai</td>\n",
       "      <td>02.Medium</td>\n",
       "      <td>01.High</td>\n",
       "      <td>14.0</td>\n",
       "      <td>20.0</td>\n",
       "      <td>No</td>\n",
       "      <td>Yes</td>\n",
       "      <td>Email Opened</td>\n",
       "    </tr>\n",
       "    <tr>\n",
       "      <th>3</th>\n",
       "      <td>Landing Page Submission</td>\n",
       "      <td>Direct Traffic</td>\n",
       "      <td>No</td>\n",
       "      <td>No</td>\n",
       "      <td>0</td>\n",
       "      <td>1.0</td>\n",
       "      <td>305</td>\n",
       "      <td>1.0</td>\n",
       "      <td>Unreachable</td>\n",
       "      <td>India</td>\n",
       "      <td>...</td>\n",
       "      <td>No</td>\n",
       "      <td>Select</td>\n",
       "      <td>Mumbai</td>\n",
       "      <td>02.Medium</td>\n",
       "      <td>01.High</td>\n",
       "      <td>13.0</td>\n",
       "      <td>17.0</td>\n",
       "      <td>No</td>\n",
       "      <td>No</td>\n",
       "      <td>Modified</td>\n",
       "    </tr>\n",
       "    <tr>\n",
       "      <th>4</th>\n",
       "      <td>Landing Page Submission</td>\n",
       "      <td>Google</td>\n",
       "      <td>No</td>\n",
       "      <td>No</td>\n",
       "      <td>1</td>\n",
       "      <td>2.0</td>\n",
       "      <td>1428</td>\n",
       "      <td>1.0</td>\n",
       "      <td>Converted to Lead</td>\n",
       "      <td>India</td>\n",
       "      <td>...</td>\n",
       "      <td>No</td>\n",
       "      <td>Select</td>\n",
       "      <td>Mumbai</td>\n",
       "      <td>02.Medium</td>\n",
       "      <td>01.High</td>\n",
       "      <td>15.0</td>\n",
       "      <td>18.0</td>\n",
       "      <td>No</td>\n",
       "      <td>No</td>\n",
       "      <td>Modified</td>\n",
       "    </tr>\n",
       "  </tbody>\n",
       "</table>\n",
       "<p>5 rows × 35 columns</p>\n",
       "</div>"
      ],
      "text/plain": [
       "               Lead Origin     Lead Source Do Not Email Do Not Call  \\\n",
       "0                      API      Olark Chat           No          No   \n",
       "1                      API  Organic Search           No          No   \n",
       "2  Landing Page Submission  Direct Traffic           No          No   \n",
       "3  Landing Page Submission  Direct Traffic           No          No   \n",
       "4  Landing Page Submission          Google           No          No   \n",
       "\n",
       "   Converted  TotalVisits  Total Time Spent on Website  Page Views Per Visit  \\\n",
       "0          0          0.0                            0                   0.0   \n",
       "1          0          5.0                          674                   2.5   \n",
       "2          1          2.0                         1532                   2.0   \n",
       "3          0          1.0                          305                   1.0   \n",
       "4          1          2.0                         1428                   1.0   \n",
       "\n",
       "             Last Activity Country  ... Get updates on DM Content  \\\n",
       "0  Page Visited on Website     NaN  ...                        No   \n",
       "1             Email Opened   India  ...                        No   \n",
       "2             Email Opened   India  ...                        No   \n",
       "3              Unreachable   India  ...                        No   \n",
       "4        Converted to Lead   India  ...                        No   \n",
       "\n",
       "     Lead Profile    City Asymmetrique Activity Index  \\\n",
       "0          Select  Select                   02.Medium   \n",
       "1          Select  Select                   02.Medium   \n",
       "2  Potential Lead  Mumbai                   02.Medium   \n",
       "3          Select  Mumbai                   02.Medium   \n",
       "4          Select  Mumbai                   02.Medium   \n",
       "\n",
       "  Asymmetrique Profile Index Asymmetrique Activity Score  \\\n",
       "0                  02.Medium                        15.0   \n",
       "1                  02.Medium                        15.0   \n",
       "2                    01.High                        14.0   \n",
       "3                    01.High                        13.0   \n",
       "4                    01.High                        15.0   \n",
       "\n",
       "  Asymmetrique Profile Score I agree to pay the amount through cheque  \\\n",
       "0                       15.0                                       No   \n",
       "1                       15.0                                       No   \n",
       "2                       20.0                                       No   \n",
       "3                       17.0                                       No   \n",
       "4                       18.0                                       No   \n",
       "\n",
       "  A free copy of Mastering The Interview Last Notable Activity  \n",
       "0                                     No              Modified  \n",
       "1                                     No          Email Opened  \n",
       "2                                    Yes          Email Opened  \n",
       "3                                     No              Modified  \n",
       "4                                     No              Modified  \n",
       "\n",
       "[5 rows x 35 columns]"
      ]
     },
     "execution_count": 197,
     "metadata": {},
     "output_type": "execute_result"
    }
   ],
   "source": [
    "# Viewing the changes\n",
    "leads1.head()"
   ]
  },
  {
   "cell_type": "code",
   "execution_count": 198,
   "metadata": {},
   "outputs": [
    {
     "data": {
      "text/plain": [
       "Lead Origin                                       0.000000\n",
       "Lead Source                                       0.389610\n",
       "Do Not Email                                      0.000000\n",
       "Do Not Call                                       0.000000\n",
       "Converted                                         0.000000\n",
       "TotalVisits                                       1.482684\n",
       "Total Time Spent on Website                       0.000000\n",
       "Page Views Per Visit                              1.482684\n",
       "Last Activity                                     1.114719\n",
       "Country                                          26.634199\n",
       "Specialization                                   15.562771\n",
       "How did you hear about X Education               23.885281\n",
       "What is your current occupation                  29.112554\n",
       "What matters most to you in choosing a course    29.318182\n",
       "Search                                            0.000000\n",
       "Magazine                                          0.000000\n",
       "Newspaper Article                                 0.000000\n",
       "X Education Forums                                0.000000\n",
       "Newspaper                                         0.000000\n",
       "Digital Advertisement                             0.000000\n",
       "Through Recommendations                           0.000000\n",
       "Receive More Updates About Our Courses            0.000000\n",
       "Tags                                             36.287879\n",
       "Lead Quality                                     51.590909\n",
       "Update me on Supply Chain Content                 0.000000\n",
       "Get updates on DM Content                         0.000000\n",
       "Lead Profile                                     29.318182\n",
       "City                                             15.367965\n",
       "Asymmetrique Activity Index                      45.649351\n",
       "Asymmetrique Profile Index                       45.649351\n",
       "Asymmetrique Activity Score                      45.649351\n",
       "Asymmetrique Profile Score                       45.649351\n",
       "I agree to pay the amount through cheque          0.000000\n",
       "A free copy of Mastering The Interview            0.000000\n",
       "Last Notable Activity                             0.000000\n",
       "dtype: float64"
      ]
     },
     "execution_count": 198,
     "metadata": {},
     "output_type": "execute_result"
    }
   ],
   "source": [
    "# Percentage of missing values\n",
    "(leads1.isnull().sum()/leads1.shape[0])*100"
   ]
  },
  {
   "cell_type": "code",
   "execution_count": 199,
   "metadata": {},
   "outputs": [],
   "source": [
    "# Drop columns with more than 40% missing values\n",
    "cols_to_drop = ['Lead Quality', 'Asymmetrique Activity Index', 'Asymmetrique Profile Index', 'Asymmetrique Activity Score', 'Asymmetrique Profile Score']\n",
    "leads2 = leads1.drop(cols_to_drop, axis=1)"
   ]
  },
  {
   "cell_type": "code",
   "execution_count": 200,
   "metadata": {},
   "outputs": [
    {
     "data": {
      "text/plain": [
       "Lead Origin                                       0.000000\n",
       "Lead Source                                       0.389610\n",
       "Do Not Email                                      0.000000\n",
       "Do Not Call                                       0.000000\n",
       "Converted                                         0.000000\n",
       "TotalVisits                                       1.482684\n",
       "Total Time Spent on Website                       0.000000\n",
       "Page Views Per Visit                              1.482684\n",
       "Last Activity                                     1.114719\n",
       "Country                                          26.634199\n",
       "Specialization                                   15.562771\n",
       "How did you hear about X Education               23.885281\n",
       "What is your current occupation                  29.112554\n",
       "What matters most to you in choosing a course    29.318182\n",
       "Search                                            0.000000\n",
       "Magazine                                          0.000000\n",
       "Newspaper Article                                 0.000000\n",
       "X Education Forums                                0.000000\n",
       "Newspaper                                         0.000000\n",
       "Digital Advertisement                             0.000000\n",
       "Through Recommendations                           0.000000\n",
       "Receive More Updates About Our Courses            0.000000\n",
       "Tags                                             36.287879\n",
       "Update me on Supply Chain Content                 0.000000\n",
       "Get updates on DM Content                         0.000000\n",
       "Lead Profile                                     29.318182\n",
       "City                                             15.367965\n",
       "I agree to pay the amount through cheque          0.000000\n",
       "A free copy of Mastering The Interview            0.000000\n",
       "Last Notable Activity                             0.000000\n",
       "dtype: float64"
      ]
     },
     "execution_count": 200,
     "metadata": {},
     "output_type": "execute_result"
    }
   ],
   "source": [
    "# Missing value percentage\n",
    "(leads2.isnull().sum()/leads2.shape[0])*100"
   ]
  },
  {
   "cell_type": "code",
   "execution_count": 201,
   "metadata": {},
   "outputs": [
    {
     "data": {
      "text/plain": [
       "NaN                                                  3353\n",
       "Will revert after reading the email                  2072\n",
       "Ringing                                              1203\n",
       "Interested in other courses                           513\n",
       "Already a student                                     465\n",
       "Closed by Horizzon                                    358\n",
       "switched off                                          240\n",
       "Busy                                                  186\n",
       "Lost to EINS                                          175\n",
       "Not doing further education                           145\n",
       "Interested  in full time MBA                          117\n",
       "Graduation in progress                                111\n",
       "invalid number                                         83\n",
       "Diploma holder (Not Eligible)                          63\n",
       "wrong number given                                     47\n",
       "opp hangup                                             33\n",
       "number not provided                                    27\n",
       "in touch with EINS                                     12\n",
       "Lost to Others                                          7\n",
       "Still Thinking                                          6\n",
       "Want to take admission but has financial problems       6\n",
       "Interested in Next batch                                5\n",
       "In confusion whether part time or DLP                   5\n",
       "Lateral student                                         3\n",
       "University not recognized                               2\n",
       "Shall take in the next coming month                     2\n",
       "Recognition issue (DEC approval)                        1\n",
       "Name: Tags, dtype: int64"
      ]
     },
     "execution_count": 201,
     "metadata": {},
     "output_type": "execute_result"
    }
   ],
   "source": [
    "# Working on the Tags column\n",
    "leads2['Tags'].value_counts(dropna=False)"
   ]
  },
  {
   "cell_type": "code",
   "execution_count": 202,
   "metadata": {},
   "outputs": [],
   "source": [
    "# Reducing the number of values under the 'Tags' category\n",
    "leads2['Tags'] = leads2['Tags'].replace(['In confusion whether part time or DLP', 'in touch with EINS','Diploma holder (Not Eligible)','Approached upfront','Graduation in progress','number not provided', 'opp hangup','Still Thinking',\n",
    "                                    'Lost to Others','Shall take in the next coming month','Lateral student','Interested in Next batch',\n",
    "                                    'Recognition issue (DEC approval)','Want to take admission but has financial problems',\n",
    "                                    'University not recognized', 'switched off',\n",
    "                                      'Already a student',\n",
    "                                       'Not doing further education',\n",
    "                                       'invalid number',\n",
    "                                       'wrong number given',\n",
    "                                       'Interested  in full time MBA','Closed by Horizzon'], 'Other')\n",
    "leads2['Tags'] = leads2['Tags'].replace(np.nan,'Unknown')"
   ]
  },
  {
   "cell_type": "code",
   "execution_count": 203,
   "metadata": {},
   "outputs": [
    {
     "data": {
      "text/plain": [
       "Lead Origin                                       0.000000\n",
       "Lead Source                                       0.389610\n",
       "Do Not Email                                      0.000000\n",
       "Do Not Call                                       0.000000\n",
       "Converted                                         0.000000\n",
       "TotalVisits                                       1.482684\n",
       "Total Time Spent on Website                       0.000000\n",
       "Page Views Per Visit                              1.482684\n",
       "Last Activity                                     1.114719\n",
       "Country                                          26.634199\n",
       "Specialization                                   15.562771\n",
       "How did you hear about X Education               23.885281\n",
       "What is your current occupation                  29.112554\n",
       "What matters most to you in choosing a course    29.318182\n",
       "Search                                            0.000000\n",
       "Magazine                                          0.000000\n",
       "Newspaper Article                                 0.000000\n",
       "X Education Forums                                0.000000\n",
       "Newspaper                                         0.000000\n",
       "Digital Advertisement                             0.000000\n",
       "Through Recommendations                           0.000000\n",
       "Receive More Updates About Our Courses            0.000000\n",
       "Tags                                              0.000000\n",
       "Update me on Supply Chain Content                 0.000000\n",
       "Get updates on DM Content                         0.000000\n",
       "Lead Profile                                     29.318182\n",
       "City                                             15.367965\n",
       "I agree to pay the amount through cheque          0.000000\n",
       "A free copy of Mastering The Interview            0.000000\n",
       "Last Notable Activity                             0.000000\n",
       "dtype: float64"
      ]
     },
     "execution_count": 203,
     "metadata": {},
     "output_type": "execute_result"
    }
   ],
   "source": [
    "# Percentage of missing values\n",
    "(leads2.isnull().sum()/leads2.shape[0])*100"
   ]
  },
  {
   "cell_type": "code",
   "execution_count": 204,
   "metadata": {},
   "outputs": [
    {
     "data": {
      "text/plain": [
       "Better Career Prospects      6528\n",
       "NaN                          2709\n",
       "Flexibility & Convenience       2\n",
       "Other                           1\n",
       "Name: What matters most to you in choosing a course, dtype: int64"
      ]
     },
     "execution_count": 204,
     "metadata": {},
     "output_type": "execute_result"
    }
   ],
   "source": [
    "# Looking at the values in 'What matters most to you in choosing a course'\n",
    "leads2['What matters most to you in choosing a course'].value_counts(dropna=False)"
   ]
  },
  {
   "cell_type": "code",
   "execution_count": 205,
   "metadata": {},
   "outputs": [
    {
     "data": {
      "text/plain": [
       "Better Career Prospects      9237\n",
       "Flexibility & Convenience       2\n",
       "Other                           1\n",
       "Name: What matters most to you in choosing a course, dtype: int64"
      ]
     },
     "execution_count": 205,
     "metadata": {},
     "output_type": "execute_result"
    }
   ],
   "source": [
    "# Impute missing values with the most occuring value\n",
    "leads2['What matters most to you in choosing a course'] = leads2['What matters most to you in choosing a course'].replace(np.nan, 'Better Career Prospects')\n",
    "leads2['What matters most to you in choosing a course'].value_counts(dropna=False)"
   ]
  },
  {
   "cell_type": "code",
   "execution_count": 206,
   "metadata": {},
   "outputs": [
    {
     "data": {
      "text/html": [
       "<div>\n",
       "<style scoped>\n",
       "    .dataframe tbody tr th:only-of-type {\n",
       "        vertical-align: middle;\n",
       "    }\n",
       "\n",
       "    .dataframe tbody tr th {\n",
       "        vertical-align: top;\n",
       "    }\n",
       "\n",
       "    .dataframe thead th {\n",
       "        text-align: right;\n",
       "    }\n",
       "</style>\n",
       "<table border=\"1\" class=\"dataframe\">\n",
       "  <thead>\n",
       "    <tr style=\"text-align: right;\">\n",
       "      <th></th>\n",
       "      <th>Lead Origin</th>\n",
       "      <th>Lead Source</th>\n",
       "      <th>Do Not Email</th>\n",
       "      <th>Do Not Call</th>\n",
       "      <th>Converted</th>\n",
       "      <th>TotalVisits</th>\n",
       "      <th>Total Time Spent on Website</th>\n",
       "      <th>Page Views Per Visit</th>\n",
       "      <th>Last Activity</th>\n",
       "      <th>Country</th>\n",
       "      <th>...</th>\n",
       "      <th>Through Recommendations</th>\n",
       "      <th>Receive More Updates About Our Courses</th>\n",
       "      <th>Tags</th>\n",
       "      <th>Update me on Supply Chain Content</th>\n",
       "      <th>Get updates on DM Content</th>\n",
       "      <th>Lead Profile</th>\n",
       "      <th>City</th>\n",
       "      <th>I agree to pay the amount through cheque</th>\n",
       "      <th>A free copy of Mastering The Interview</th>\n",
       "      <th>Last Notable Activity</th>\n",
       "    </tr>\n",
       "  </thead>\n",
       "  <tbody>\n",
       "    <tr>\n",
       "      <th>0</th>\n",
       "      <td>API</td>\n",
       "      <td>Olark Chat</td>\n",
       "      <td>No</td>\n",
       "      <td>No</td>\n",
       "      <td>0</td>\n",
       "      <td>0.0</td>\n",
       "      <td>0</td>\n",
       "      <td>0.0</td>\n",
       "      <td>Page Visited on Website</td>\n",
       "      <td>NaN</td>\n",
       "      <td>...</td>\n",
       "      <td>No</td>\n",
       "      <td>No</td>\n",
       "      <td>Interested in other courses</td>\n",
       "      <td>No</td>\n",
       "      <td>No</td>\n",
       "      <td>Select</td>\n",
       "      <td>Select</td>\n",
       "      <td>No</td>\n",
       "      <td>No</td>\n",
       "      <td>Modified</td>\n",
       "    </tr>\n",
       "    <tr>\n",
       "      <th>1</th>\n",
       "      <td>API</td>\n",
       "      <td>Organic Search</td>\n",
       "      <td>No</td>\n",
       "      <td>No</td>\n",
       "      <td>0</td>\n",
       "      <td>5.0</td>\n",
       "      <td>674</td>\n",
       "      <td>2.5</td>\n",
       "      <td>Email Opened</td>\n",
       "      <td>India</td>\n",
       "      <td>...</td>\n",
       "      <td>No</td>\n",
       "      <td>No</td>\n",
       "      <td>Ringing</td>\n",
       "      <td>No</td>\n",
       "      <td>No</td>\n",
       "      <td>Select</td>\n",
       "      <td>Select</td>\n",
       "      <td>No</td>\n",
       "      <td>No</td>\n",
       "      <td>Email Opened</td>\n",
       "    </tr>\n",
       "    <tr>\n",
       "      <th>2</th>\n",
       "      <td>Landing Page Submission</td>\n",
       "      <td>Direct Traffic</td>\n",
       "      <td>No</td>\n",
       "      <td>No</td>\n",
       "      <td>1</td>\n",
       "      <td>2.0</td>\n",
       "      <td>1532</td>\n",
       "      <td>2.0</td>\n",
       "      <td>Email Opened</td>\n",
       "      <td>India</td>\n",
       "      <td>...</td>\n",
       "      <td>No</td>\n",
       "      <td>No</td>\n",
       "      <td>Will revert after reading the email</td>\n",
       "      <td>No</td>\n",
       "      <td>No</td>\n",
       "      <td>Potential Lead</td>\n",
       "      <td>Mumbai</td>\n",
       "      <td>No</td>\n",
       "      <td>Yes</td>\n",
       "      <td>Email Opened</td>\n",
       "    </tr>\n",
       "    <tr>\n",
       "      <th>3</th>\n",
       "      <td>Landing Page Submission</td>\n",
       "      <td>Direct Traffic</td>\n",
       "      <td>No</td>\n",
       "      <td>No</td>\n",
       "      <td>0</td>\n",
       "      <td>1.0</td>\n",
       "      <td>305</td>\n",
       "      <td>1.0</td>\n",
       "      <td>Unreachable</td>\n",
       "      <td>India</td>\n",
       "      <td>...</td>\n",
       "      <td>No</td>\n",
       "      <td>No</td>\n",
       "      <td>Ringing</td>\n",
       "      <td>No</td>\n",
       "      <td>No</td>\n",
       "      <td>Select</td>\n",
       "      <td>Mumbai</td>\n",
       "      <td>No</td>\n",
       "      <td>No</td>\n",
       "      <td>Modified</td>\n",
       "    </tr>\n",
       "    <tr>\n",
       "      <th>4</th>\n",
       "      <td>Landing Page Submission</td>\n",
       "      <td>Google</td>\n",
       "      <td>No</td>\n",
       "      <td>No</td>\n",
       "      <td>1</td>\n",
       "      <td>2.0</td>\n",
       "      <td>1428</td>\n",
       "      <td>1.0</td>\n",
       "      <td>Converted to Lead</td>\n",
       "      <td>India</td>\n",
       "      <td>...</td>\n",
       "      <td>No</td>\n",
       "      <td>No</td>\n",
       "      <td>Will revert after reading the email</td>\n",
       "      <td>No</td>\n",
       "      <td>No</td>\n",
       "      <td>Select</td>\n",
       "      <td>Mumbai</td>\n",
       "      <td>No</td>\n",
       "      <td>No</td>\n",
       "      <td>Modified</td>\n",
       "    </tr>\n",
       "  </tbody>\n",
       "</table>\n",
       "<p>5 rows × 29 columns</p>\n",
       "</div>"
      ],
      "text/plain": [
       "               Lead Origin     Lead Source Do Not Email Do Not Call  \\\n",
       "0                      API      Olark Chat           No          No   \n",
       "1                      API  Organic Search           No          No   \n",
       "2  Landing Page Submission  Direct Traffic           No          No   \n",
       "3  Landing Page Submission  Direct Traffic           No          No   \n",
       "4  Landing Page Submission          Google           No          No   \n",
       "\n",
       "   Converted  TotalVisits  Total Time Spent on Website  Page Views Per Visit  \\\n",
       "0          0          0.0                            0                   0.0   \n",
       "1          0          5.0                          674                   2.5   \n",
       "2          1          2.0                         1532                   2.0   \n",
       "3          0          1.0                          305                   1.0   \n",
       "4          1          2.0                         1428                   1.0   \n",
       "\n",
       "             Last Activity Country  ... Through Recommendations  \\\n",
       "0  Page Visited on Website     NaN  ...                      No   \n",
       "1             Email Opened   India  ...                      No   \n",
       "2             Email Opened   India  ...                      No   \n",
       "3              Unreachable   India  ...                      No   \n",
       "4        Converted to Lead   India  ...                      No   \n",
       "\n",
       "  Receive More Updates About Our Courses                                 Tags  \\\n",
       "0                                     No          Interested in other courses   \n",
       "1                                     No                              Ringing   \n",
       "2                                     No  Will revert after reading the email   \n",
       "3                                     No                              Ringing   \n",
       "4                                     No  Will revert after reading the email   \n",
       "\n",
       "  Update me on Supply Chain Content Get updates on DM Content    Lead Profile  \\\n",
       "0                                No                        No          Select   \n",
       "1                                No                        No          Select   \n",
       "2                                No                        No  Potential Lead   \n",
       "3                                No                        No          Select   \n",
       "4                                No                        No          Select   \n",
       "\n",
       "     City I agree to pay the amount through cheque  \\\n",
       "0  Select                                       No   \n",
       "1  Select                                       No   \n",
       "2  Mumbai                                       No   \n",
       "3  Mumbai                                       No   \n",
       "4  Mumbai                                       No   \n",
       "\n",
       "  A free copy of Mastering The Interview Last Notable Activity  \n",
       "0                                     No              Modified  \n",
       "1                                     No          Email Opened  \n",
       "2                                    Yes          Email Opened  \n",
       "3                                     No              Modified  \n",
       "4                                     No              Modified  \n",
       "\n",
       "[5 rows x 29 columns]"
      ]
     },
     "execution_count": 206,
     "metadata": {},
     "output_type": "execute_result"
    }
   ],
   "source": [
    "# It is clear that almost all the people prefer Better Career Prospects. So we drop this column because there is no useful information\n",
    "leads3 = leads2.drop('What matters most to you in choosing a course', axis=1)\n",
    "leads3.head()"
   ]
  },
  {
   "cell_type": "code",
   "execution_count": 207,
   "metadata": {},
   "outputs": [
    {
     "data": {
      "text/plain": [
       "Lead Origin                                  0.000000\n",
       "Lead Source                                  0.389610\n",
       "Do Not Email                                 0.000000\n",
       "Do Not Call                                  0.000000\n",
       "Converted                                    0.000000\n",
       "TotalVisits                                  1.482684\n",
       "Total Time Spent on Website                  0.000000\n",
       "Page Views Per Visit                         1.482684\n",
       "Last Activity                                1.114719\n",
       "Country                                     26.634199\n",
       "Specialization                              15.562771\n",
       "How did you hear about X Education          23.885281\n",
       "What is your current occupation             29.112554\n",
       "Search                                       0.000000\n",
       "Magazine                                     0.000000\n",
       "Newspaper Article                            0.000000\n",
       "X Education Forums                           0.000000\n",
       "Newspaper                                    0.000000\n",
       "Digital Advertisement                        0.000000\n",
       "Through Recommendations                      0.000000\n",
       "Receive More Updates About Our Courses       0.000000\n",
       "Tags                                         0.000000\n",
       "Update me on Supply Chain Content            0.000000\n",
       "Get updates on DM Content                    0.000000\n",
       "Lead Profile                                29.318182\n",
       "City                                        15.367965\n",
       "I agree to pay the amount through cheque     0.000000\n",
       "A free copy of Mastering The Interview       0.000000\n",
       "Last Notable Activity                        0.000000\n",
       "dtype: float64"
      ]
     },
     "execution_count": 207,
     "metadata": {},
     "output_type": "execute_result"
    }
   ],
   "source": [
    "# Percentage of missing values\n",
    "(leads3.isnull().sum()/leads3.shape[0])*100"
   ]
  },
  {
   "cell_type": "code",
   "execution_count": 208,
   "metadata": {},
   "outputs": [
    {
     "data": {
      "text/plain": [
       "Select                         4146\n",
       "NaN                            2709\n",
       "Potential Lead                 1613\n",
       "Other Leads                     487\n",
       "Student of SomeSchool           241\n",
       "Lateral Student                  24\n",
       "Dual Specialization Student      20\n",
       "Name: Lead Profile, dtype: int64"
      ]
     },
     "execution_count": 208,
     "metadata": {},
     "output_type": "execute_result"
    }
   ],
   "source": [
    "# Looking at values under Lead Profile\n",
    "leads3['Lead Profile'].value_counts(dropna=False)"
   ]
  },
  {
   "cell_type": "code",
   "execution_count": 209,
   "metadata": {},
   "outputs": [
    {
     "data": {
      "text/plain": [
       "NaN                            6855\n",
       "Potential Lead                 1613\n",
       "Other Leads                     487\n",
       "Student of SomeSchool           241\n",
       "Lateral Student                  24\n",
       "Dual Specialization Student      20\n",
       "Name: Lead Profile, dtype: int64"
      ]
     },
     "execution_count": 209,
     "metadata": {},
     "output_type": "execute_result"
    }
   ],
   "source": [
    "# The Select value means that candidate has not chosen anything. So they are really missing values\n",
    "leads3['Lead Profile'] = leads3['Lead Profile'].replace('Select',np.nan)\n",
    "leads3['Lead Profile'].value_counts(dropna=False) # viewing changes"
   ]
  },
  {
   "cell_type": "code",
   "execution_count": 210,
   "metadata": {},
   "outputs": [
    {
     "data": {
      "text/plain": [
       "Lead Origin                                  0.000000\n",
       "Lead Source                                  0.389610\n",
       "Do Not Email                                 0.000000\n",
       "Do Not Call                                  0.000000\n",
       "Converted                                    0.000000\n",
       "TotalVisits                                  1.482684\n",
       "Total Time Spent on Website                  0.000000\n",
       "Page Views Per Visit                         1.482684\n",
       "Last Activity                                1.114719\n",
       "Country                                     26.634199\n",
       "Specialization                              15.562771\n",
       "How did you hear about X Education          23.885281\n",
       "What is your current occupation             29.112554\n",
       "Search                                       0.000000\n",
       "Magazine                                     0.000000\n",
       "Newspaper Article                            0.000000\n",
       "X Education Forums                           0.000000\n",
       "Newspaper                                    0.000000\n",
       "Digital Advertisement                        0.000000\n",
       "Through Recommendations                      0.000000\n",
       "Receive More Updates About Our Courses       0.000000\n",
       "Tags                                         0.000000\n",
       "Update me on Supply Chain Content            0.000000\n",
       "Get updates on DM Content                    0.000000\n",
       "Lead Profile                                74.188312\n",
       "City                                        15.367965\n",
       "I agree to pay the amount through cheque     0.000000\n",
       "A free copy of Mastering The Interview       0.000000\n",
       "Last Notable Activity                        0.000000\n",
       "dtype: float64"
      ]
     },
     "execution_count": 210,
     "metadata": {},
     "output_type": "execute_result"
    }
   ],
   "source": [
    "# Percentage of missing values\n",
    "(leads3.isnull().sum()/leads3.shape[0])*100"
   ]
  },
  {
   "cell_type": "code",
   "execution_count": 211,
   "metadata": {},
   "outputs": [
    {
     "data": {
      "text/html": [
       "<div>\n",
       "<style scoped>\n",
       "    .dataframe tbody tr th:only-of-type {\n",
       "        vertical-align: middle;\n",
       "    }\n",
       "\n",
       "    .dataframe tbody tr th {\n",
       "        vertical-align: top;\n",
       "    }\n",
       "\n",
       "    .dataframe thead th {\n",
       "        text-align: right;\n",
       "    }\n",
       "</style>\n",
       "<table border=\"1\" class=\"dataframe\">\n",
       "  <thead>\n",
       "    <tr style=\"text-align: right;\">\n",
       "      <th></th>\n",
       "      <th>Lead Origin</th>\n",
       "      <th>Lead Source</th>\n",
       "      <th>Do Not Email</th>\n",
       "      <th>Do Not Call</th>\n",
       "      <th>Converted</th>\n",
       "      <th>TotalVisits</th>\n",
       "      <th>Total Time Spent on Website</th>\n",
       "      <th>Page Views Per Visit</th>\n",
       "      <th>Last Activity</th>\n",
       "      <th>Country</th>\n",
       "      <th>...</th>\n",
       "      <th>Digital Advertisement</th>\n",
       "      <th>Through Recommendations</th>\n",
       "      <th>Receive More Updates About Our Courses</th>\n",
       "      <th>Tags</th>\n",
       "      <th>Update me on Supply Chain Content</th>\n",
       "      <th>Get updates on DM Content</th>\n",
       "      <th>City</th>\n",
       "      <th>I agree to pay the amount through cheque</th>\n",
       "      <th>A free copy of Mastering The Interview</th>\n",
       "      <th>Last Notable Activity</th>\n",
       "    </tr>\n",
       "  </thead>\n",
       "  <tbody>\n",
       "    <tr>\n",
       "      <th>0</th>\n",
       "      <td>API</td>\n",
       "      <td>Olark Chat</td>\n",
       "      <td>No</td>\n",
       "      <td>No</td>\n",
       "      <td>0</td>\n",
       "      <td>0.0</td>\n",
       "      <td>0</td>\n",
       "      <td>0.0</td>\n",
       "      <td>Page Visited on Website</td>\n",
       "      <td>NaN</td>\n",
       "      <td>...</td>\n",
       "      <td>No</td>\n",
       "      <td>No</td>\n",
       "      <td>No</td>\n",
       "      <td>Interested in other courses</td>\n",
       "      <td>No</td>\n",
       "      <td>No</td>\n",
       "      <td>Select</td>\n",
       "      <td>No</td>\n",
       "      <td>No</td>\n",
       "      <td>Modified</td>\n",
       "    </tr>\n",
       "    <tr>\n",
       "      <th>1</th>\n",
       "      <td>API</td>\n",
       "      <td>Organic Search</td>\n",
       "      <td>No</td>\n",
       "      <td>No</td>\n",
       "      <td>0</td>\n",
       "      <td>5.0</td>\n",
       "      <td>674</td>\n",
       "      <td>2.5</td>\n",
       "      <td>Email Opened</td>\n",
       "      <td>India</td>\n",
       "      <td>...</td>\n",
       "      <td>No</td>\n",
       "      <td>No</td>\n",
       "      <td>No</td>\n",
       "      <td>Ringing</td>\n",
       "      <td>No</td>\n",
       "      <td>No</td>\n",
       "      <td>Select</td>\n",
       "      <td>No</td>\n",
       "      <td>No</td>\n",
       "      <td>Email Opened</td>\n",
       "    </tr>\n",
       "    <tr>\n",
       "      <th>2</th>\n",
       "      <td>Landing Page Submission</td>\n",
       "      <td>Direct Traffic</td>\n",
       "      <td>No</td>\n",
       "      <td>No</td>\n",
       "      <td>1</td>\n",
       "      <td>2.0</td>\n",
       "      <td>1532</td>\n",
       "      <td>2.0</td>\n",
       "      <td>Email Opened</td>\n",
       "      <td>India</td>\n",
       "      <td>...</td>\n",
       "      <td>No</td>\n",
       "      <td>No</td>\n",
       "      <td>No</td>\n",
       "      <td>Will revert after reading the email</td>\n",
       "      <td>No</td>\n",
       "      <td>No</td>\n",
       "      <td>Mumbai</td>\n",
       "      <td>No</td>\n",
       "      <td>Yes</td>\n",
       "      <td>Email Opened</td>\n",
       "    </tr>\n",
       "    <tr>\n",
       "      <th>3</th>\n",
       "      <td>Landing Page Submission</td>\n",
       "      <td>Direct Traffic</td>\n",
       "      <td>No</td>\n",
       "      <td>No</td>\n",
       "      <td>0</td>\n",
       "      <td>1.0</td>\n",
       "      <td>305</td>\n",
       "      <td>1.0</td>\n",
       "      <td>Unreachable</td>\n",
       "      <td>India</td>\n",
       "      <td>...</td>\n",
       "      <td>No</td>\n",
       "      <td>No</td>\n",
       "      <td>No</td>\n",
       "      <td>Ringing</td>\n",
       "      <td>No</td>\n",
       "      <td>No</td>\n",
       "      <td>Mumbai</td>\n",
       "      <td>No</td>\n",
       "      <td>No</td>\n",
       "      <td>Modified</td>\n",
       "    </tr>\n",
       "    <tr>\n",
       "      <th>4</th>\n",
       "      <td>Landing Page Submission</td>\n",
       "      <td>Google</td>\n",
       "      <td>No</td>\n",
       "      <td>No</td>\n",
       "      <td>1</td>\n",
       "      <td>2.0</td>\n",
       "      <td>1428</td>\n",
       "      <td>1.0</td>\n",
       "      <td>Converted to Lead</td>\n",
       "      <td>India</td>\n",
       "      <td>...</td>\n",
       "      <td>No</td>\n",
       "      <td>No</td>\n",
       "      <td>No</td>\n",
       "      <td>Will revert after reading the email</td>\n",
       "      <td>No</td>\n",
       "      <td>No</td>\n",
       "      <td>Mumbai</td>\n",
       "      <td>No</td>\n",
       "      <td>No</td>\n",
       "      <td>Modified</td>\n",
       "    </tr>\n",
       "  </tbody>\n",
       "</table>\n",
       "<p>5 rows × 28 columns</p>\n",
       "</div>"
      ],
      "text/plain": [
       "               Lead Origin     Lead Source Do Not Email Do Not Call  \\\n",
       "0                      API      Olark Chat           No          No   \n",
       "1                      API  Organic Search           No          No   \n",
       "2  Landing Page Submission  Direct Traffic           No          No   \n",
       "3  Landing Page Submission  Direct Traffic           No          No   \n",
       "4  Landing Page Submission          Google           No          No   \n",
       "\n",
       "   Converted  TotalVisits  Total Time Spent on Website  Page Views Per Visit  \\\n",
       "0          0          0.0                            0                   0.0   \n",
       "1          0          5.0                          674                   2.5   \n",
       "2          1          2.0                         1532                   2.0   \n",
       "3          0          1.0                          305                   1.0   \n",
       "4          1          2.0                         1428                   1.0   \n",
       "\n",
       "             Last Activity Country  ... Digital Advertisement  \\\n",
       "0  Page Visited on Website     NaN  ...                    No   \n",
       "1             Email Opened   India  ...                    No   \n",
       "2             Email Opened   India  ...                    No   \n",
       "3              Unreachable   India  ...                    No   \n",
       "4        Converted to Lead   India  ...                    No   \n",
       "\n",
       "  Through Recommendations Receive More Updates About Our Courses  \\\n",
       "0                      No                                     No   \n",
       "1                      No                                     No   \n",
       "2                      No                                     No   \n",
       "3                      No                                     No   \n",
       "4                      No                                     No   \n",
       "\n",
       "                                  Tags Update me on Supply Chain Content  \\\n",
       "0          Interested in other courses                                No   \n",
       "1                              Ringing                                No   \n",
       "2  Will revert after reading the email                                No   \n",
       "3                              Ringing                                No   \n",
       "4  Will revert after reading the email                                No   \n",
       "\n",
       "  Get updates on DM Content    City I agree to pay the amount through cheque  \\\n",
       "0                        No  Select                                       No   \n",
       "1                        No  Select                                       No   \n",
       "2                        No  Mumbai                                       No   \n",
       "3                        No  Mumbai                                       No   \n",
       "4                        No  Mumbai                                       No   \n",
       "\n",
       "  A free copy of Mastering The Interview Last Notable Activity  \n",
       "0                                     No              Modified  \n",
       "1                                     No          Email Opened  \n",
       "2                                    Yes          Email Opened  \n",
       "3                                     No              Modified  \n",
       "4                                     No              Modified  \n",
       "\n",
       "[5 rows x 28 columns]"
      ]
     },
     "execution_count": 211,
     "metadata": {},
     "output_type": "execute_result"
    }
   ],
   "source": [
    "# Drop the column because of high percentage of missing values\n",
    "leads4 = leads3.drop('Lead Profile', axis=1)\n",
    "leads4.head()"
   ]
  },
  {
   "cell_type": "code",
   "execution_count": 212,
   "metadata": {},
   "outputs": [
    {
     "data": {
      "text/plain": [
       "Lead Origin                                  0.000000\n",
       "Lead Source                                  0.389610\n",
       "Do Not Email                                 0.000000\n",
       "Do Not Call                                  0.000000\n",
       "Converted                                    0.000000\n",
       "TotalVisits                                  1.482684\n",
       "Total Time Spent on Website                  0.000000\n",
       "Page Views Per Visit                         1.482684\n",
       "Last Activity                                1.114719\n",
       "Country                                     26.634199\n",
       "Specialization                              15.562771\n",
       "How did you hear about X Education          23.885281\n",
       "What is your current occupation             29.112554\n",
       "Search                                       0.000000\n",
       "Magazine                                     0.000000\n",
       "Newspaper Article                            0.000000\n",
       "X Education Forums                           0.000000\n",
       "Newspaper                                    0.000000\n",
       "Digital Advertisement                        0.000000\n",
       "Through Recommendations                      0.000000\n",
       "Receive More Updates About Our Courses       0.000000\n",
       "Tags                                         0.000000\n",
       "Update me on Supply Chain Content            0.000000\n",
       "Get updates on DM Content                    0.000000\n",
       "City                                        15.367965\n",
       "I agree to pay the amount through cheque     0.000000\n",
       "A free copy of Mastering The Interview       0.000000\n",
       "Last Notable Activity                        0.000000\n",
       "dtype: float64"
      ]
     },
     "execution_count": 212,
     "metadata": {},
     "output_type": "execute_result"
    }
   ],
   "source": [
    "# Percentage of missing values\n",
    "(leads4.isnull().sum()/leads4.shape[0])*100"
   ]
  },
  {
   "cell_type": "code",
   "execution_count": 213,
   "metadata": {},
   "outputs": [
    {
     "data": {
      "text/plain": [
       "Unemployed              5600\n",
       "NaN                     2690\n",
       "Working Professional     706\n",
       "Student                  210\n",
       "Other                     16\n",
       "Housewife                 10\n",
       "Businessman                8\n",
       "Name: What is your current occupation, dtype: int64"
      ]
     },
     "execution_count": 213,
     "metadata": {},
     "output_type": "execute_result"
    }
   ],
   "source": [
    "# What is the occupation of most visitors?\n",
    "leads4['What is your current occupation'].value_counts(dropna=False)"
   ]
  },
  {
   "cell_type": "code",
   "execution_count": 214,
   "metadata": {},
   "outputs": [],
   "source": [
    "# Impute missing values with the most occuring value\n",
    "leads4['What is your current occupation'] = leads4['What is your current occupation'].replace(np.nan,'Unemployed')"
   ]
  },
  {
   "cell_type": "code",
   "execution_count": 215,
   "metadata": {},
   "outputs": [
    {
     "data": {
      "text/plain": [
       "Lead Origin                                  0.000000\n",
       "Lead Source                                  0.389610\n",
       "Do Not Email                                 0.000000\n",
       "Do Not Call                                  0.000000\n",
       "Converted                                    0.000000\n",
       "TotalVisits                                  1.482684\n",
       "Total Time Spent on Website                  0.000000\n",
       "Page Views Per Visit                         1.482684\n",
       "Last Activity                                1.114719\n",
       "Country                                     26.634199\n",
       "Specialization                              15.562771\n",
       "How did you hear about X Education          23.885281\n",
       "What is your current occupation              0.000000\n",
       "Search                                       0.000000\n",
       "Magazine                                     0.000000\n",
       "Newspaper Article                            0.000000\n",
       "X Education Forums                           0.000000\n",
       "Newspaper                                    0.000000\n",
       "Digital Advertisement                        0.000000\n",
       "Through Recommendations                      0.000000\n",
       "Receive More Updates About Our Courses       0.000000\n",
       "Tags                                         0.000000\n",
       "Update me on Supply Chain Content            0.000000\n",
       "Get updates on DM Content                    0.000000\n",
       "City                                        15.367965\n",
       "I agree to pay the amount through cheque     0.000000\n",
       "A free copy of Mastering The Interview       0.000000\n",
       "Last Notable Activity                        0.000000\n",
       "dtype: float64"
      ]
     },
     "execution_count": 215,
     "metadata": {},
     "output_type": "execute_result"
    }
   ],
   "source": [
    "# Percentage of missing values\n",
    "(leads4.isnull().sum()/leads4.shape[0])*100"
   ]
  },
  {
   "cell_type": "code",
   "execution_count": 216,
   "metadata": {},
   "outputs": [
    {
     "data": {
      "text/plain": [
       "India                   6492\n",
       "NaN                     2461\n",
       "United States             69\n",
       "United Arab Emirates      53\n",
       "Singapore                 24\n",
       "Saudi Arabia              21\n",
       "United Kingdom            15\n",
       "Australia                 13\n",
       "Qatar                     10\n",
       "Hong Kong                  7\n",
       "Bahrain                    7\n",
       "France                     6\n",
       "Oman                       6\n",
       "unknown                    5\n",
       "South Africa               4\n",
       "Germany                    4\n",
       "Nigeria                    4\n",
       "Kuwait                     4\n",
       "Canada                     4\n",
       "Sweden                     3\n",
       "Uganda                     2\n",
       "Philippines                2\n",
       "Bangladesh                 2\n",
       "China                      2\n",
       "Italy                      2\n",
       "Belgium                    2\n",
       "Asia/Pacific Region        2\n",
       "Ghana                      2\n",
       "Netherlands                2\n",
       "Russia                     1\n",
       "Indonesia                  1\n",
       "Vietnam                    1\n",
       "Liberia                    1\n",
       "Sri Lanka                  1\n",
       "Switzerland                1\n",
       "Malaysia                   1\n",
       "Kenya                      1\n",
       "Tanzania                   1\n",
       "Denmark                    1\n",
       "Name: Country, dtype: int64"
      ]
     },
     "execution_count": 216,
     "metadata": {},
     "output_type": "execute_result"
    }
   ],
   "source": [
    "# Working with the Country column\n",
    "leads4['Country'].value_counts(dropna=False)"
   ]
  },
  {
   "cell_type": "code",
   "execution_count": 217,
   "metadata": {},
   "outputs": [],
   "source": [
    "# Impute missing value with the most occuring value\n",
    "leads4['Country'] = leads4['Country'].replace(np.nan,'India')"
   ]
  },
  {
   "cell_type": "code",
   "execution_count": 218,
   "metadata": {},
   "outputs": [
    {
     "data": {
      "image/png": "[encoded data removed]",
      "text/plain": [
       "<Figure size 432x288 with 1 Axes>"
      ]
     },
     "metadata": {
      "needs_background": "light"
     },
     "output_type": "display_data"
    }
   ],
   "source": [
    "# Visualizing the data\n",
    "leads4['Country'].value_counts().plot.bar()\n",
    "plt.show()"
   ]
  },
  {
   "cell_type": "code",
   "execution_count": 219,
   "metadata": {},
   "outputs": [
    {
     "data": {
      "text/plain": [
       "Index(['Lead Origin', 'Lead Source', 'Do Not Email', 'Do Not Call',\n",
       "       'Converted', 'TotalVisits', 'Total Time Spent on Website',\n",
       "       'Page Views Per Visit', 'Last Activity', 'Specialization',\n",
       "       'How did you hear about X Education', 'What is your current occupation',\n",
       "       'Search', 'Magazine', 'Newspaper Article', 'X Education Forums',\n",
       "       'Newspaper', 'Digital Advertisement', 'Through Recommendations',\n",
       "       'Receive More Updates About Our Courses', 'Tags',\n",
       "       'Update me on Supply Chain Content', 'Get updates on DM Content',\n",
       "       'City', 'I agree to pay the amount through cheque',\n",
       "       'A free copy of Mastering The Interview', 'Last Notable Activity'],\n",
       "      dtype='object')"
      ]
     },
     "execution_count": 219,
     "metadata": {},
     "output_type": "execute_result"
    }
   ],
   "source": [
    "# It is clear that India is the value for more than 96% of the column Country. So we drop the column due to lack of useful information\n",
    "leads5 = leads4.drop('Country', axis=1)\n",
    "leads5.columns"
   ]
  },
  {
   "cell_type": "code",
   "execution_count": 220,
   "metadata": {},
   "outputs": [
    {
     "data": {
      "text/plain": [
       "Lead Origin                                  0.000000\n",
       "Lead Source                                  0.389610\n",
       "Do Not Email                                 0.000000\n",
       "Do Not Call                                  0.000000\n",
       "Converted                                    0.000000\n",
       "TotalVisits                                  1.482684\n",
       "Total Time Spent on Website                  0.000000\n",
       "Page Views Per Visit                         1.482684\n",
       "Last Activity                                1.114719\n",
       "Specialization                              15.562771\n",
       "How did you hear about X Education          23.885281\n",
       "What is your current occupation              0.000000\n",
       "Search                                       0.000000\n",
       "Magazine                                     0.000000\n",
       "Newspaper Article                            0.000000\n",
       "X Education Forums                           0.000000\n",
       "Newspaper                                    0.000000\n",
       "Digital Advertisement                        0.000000\n",
       "Through Recommendations                      0.000000\n",
       "Receive More Updates About Our Courses       0.000000\n",
       "Tags                                         0.000000\n",
       "Update me on Supply Chain Content            0.000000\n",
       "Get updates on DM Content                    0.000000\n",
       "City                                        15.367965\n",
       "I agree to pay the amount through cheque     0.000000\n",
       "A free copy of Mastering The Interview       0.000000\n",
       "Last Notable Activity                        0.000000\n",
       "dtype: float64"
      ]
     },
     "execution_count": 220,
     "metadata": {},
     "output_type": "execute_result"
    }
   ],
   "source": [
    "# Percentage of missing values\n",
    "(leads5.isnull().sum()/leads5.shape[0])*100"
   ]
  },
  {
   "cell_type": "code",
   "execution_count": 221,
   "metadata": {},
   "outputs": [
    {
     "data": {
      "text/plain": [
       "Select                   5043\n",
       "NaN                      2207\n",
       "Online Search             808\n",
       "Word Of Mouth             348\n",
       "Student of SomeSchool     310\n",
       "Other                     186\n",
       "Multiple Sources          152\n",
       "Advertisements             70\n",
       "Social Media               67\n",
       "Email                      26\n",
       "SMS                        23\n",
       "Name: How did you hear about X Education, dtype: int64"
      ]
     },
     "execution_count": 221,
     "metadata": {},
     "output_type": "execute_result"
    }
   ],
   "source": [
    "# Looking at the values of How did you hear about X Education column\n",
    "leads5['How did you hear about X Education'].value_counts(dropna=False)"
   ]
  },
  {
   "cell_type": "code",
   "execution_count": 222,
   "metadata": {},
   "outputs": [
    {
     "data": {
      "text/plain": [
       "Lead Origin                                  0.000000\n",
       "Lead Source                                  0.389610\n",
       "Do Not Email                                 0.000000\n",
       "Do Not Call                                  0.000000\n",
       "Converted                                    0.000000\n",
       "TotalVisits                                  1.482684\n",
       "Total Time Spent on Website                  0.000000\n",
       "Page Views Per Visit                         1.482684\n",
       "Last Activity                                1.114719\n",
       "Specialization                              15.562771\n",
       "How did you hear about X Education          78.463203\n",
       "What is your current occupation              0.000000\n",
       "Search                                       0.000000\n",
       "Magazine                                     0.000000\n",
       "Newspaper Article                            0.000000\n",
       "X Education Forums                           0.000000\n",
       "Newspaper                                    0.000000\n",
       "Digital Advertisement                        0.000000\n",
       "Through Recommendations                      0.000000\n",
       "Receive More Updates About Our Courses       0.000000\n",
       "Tags                                         0.000000\n",
       "Update me on Supply Chain Content            0.000000\n",
       "Get updates on DM Content                    0.000000\n",
       "City                                        15.367965\n",
       "I agree to pay the amount through cheque     0.000000\n",
       "A free copy of Mastering The Interview       0.000000\n",
       "Last Notable Activity                        0.000000\n",
       "dtype: float64"
      ]
     },
     "execution_count": 222,
     "metadata": {},
     "output_type": "execute_result"
    }
   ],
   "source": [
    "# Make Select as missing value\n",
    "leads5['How did you hear about X Education'] = leads5['How did you hear about X Education'].replace('Select',np.nan)\n",
    "# After making 'Select' as missing, we will see the null value percentage of this column. If greater than 40, we will have to drop it.\n",
    "(leads5.isnull().sum()/leads5.shape[0])*100"
   ]
  },
  {
   "cell_type": "code",
   "execution_count": 223,
   "metadata": {},
   "outputs": [
    {
     "data": {
      "text/plain": [
       "Index(['Lead Origin', 'Lead Source', 'Do Not Email', 'Do Not Call',\n",
       "       'Converted', 'TotalVisits', 'Total Time Spent on Website',\n",
       "       'Page Views Per Visit', 'Last Activity', 'Specialization',\n",
       "       'What is your current occupation', 'Search', 'Magazine',\n",
       "       'Newspaper Article', 'X Education Forums', 'Newspaper',\n",
       "       'Digital Advertisement', 'Through Recommendations',\n",
       "       'Receive More Updates About Our Courses', 'Tags',\n",
       "       'Update me on Supply Chain Content', 'Get updates on DM Content',\n",
       "       'City', 'I agree to pay the amount through cheque',\n",
       "       'A free copy of Mastering The Interview', 'Last Notable Activity'],\n",
       "      dtype='object')"
      ]
     },
     "execution_count": 223,
     "metadata": {},
     "output_type": "execute_result"
    }
   ],
   "source": [
    "# We see that this column has 78% missing values, so we drop it\n",
    "leads6 = leads5.drop('How did you hear about X Education', axis=1)\n",
    "leads6.columns"
   ]
  },
  {
   "cell_type": "code",
   "execution_count": 224,
   "metadata": {},
   "outputs": [
    {
     "data": {
      "text/plain": [
       "Lead Origin                                  0.000000\n",
       "Lead Source                                  0.389610\n",
       "Do Not Email                                 0.000000\n",
       "Do Not Call                                  0.000000\n",
       "Converted                                    0.000000\n",
       "TotalVisits                                  1.482684\n",
       "Total Time Spent on Website                  0.000000\n",
       "Page Views Per Visit                         1.482684\n",
       "Last Activity                                1.114719\n",
       "Specialization                              15.562771\n",
       "What is your current occupation              0.000000\n",
       "Search                                       0.000000\n",
       "Magazine                                     0.000000\n",
       "Newspaper Article                            0.000000\n",
       "X Education Forums                           0.000000\n",
       "Newspaper                                    0.000000\n",
       "Digital Advertisement                        0.000000\n",
       "Through Recommendations                      0.000000\n",
       "Receive More Updates About Our Courses       0.000000\n",
       "Tags                                         0.000000\n",
       "Update me on Supply Chain Content            0.000000\n",
       "Get updates on DM Content                    0.000000\n",
       "City                                        15.367965\n",
       "I agree to pay the amount through cheque     0.000000\n",
       "A free copy of Mastering The Interview       0.000000\n",
       "Last Notable Activity                        0.000000\n",
       "dtype: float64"
      ]
     },
     "execution_count": 224,
     "metadata": {},
     "output_type": "execute_result"
    }
   ],
   "source": [
    "# Percentage of missing values\n",
    "(leads6.isnull().sum()/leads6.shape[0])*100"
   ]
  },
  {
   "cell_type": "code",
   "execution_count": 225,
   "metadata": {},
   "outputs": [
    {
     "data": {
      "text/plain": [
       "Select                               1942\n",
       "NaN                                  1438\n",
       "Finance Management                    976\n",
       "Human Resource Management             848\n",
       "Marketing Management                  838\n",
       "Operations Management                 503\n",
       "Business Administration               403\n",
       "IT Projects Management                366\n",
       "Supply Chain Management               349\n",
       "Banking, Investment And Insurance     338\n",
       "Media and Advertising                 203\n",
       "Travel and Tourism                    203\n",
       "International Business                178\n",
       "Healthcare Management                 159\n",
       "Hospitality Management                114\n",
       "E-COMMERCE                            112\n",
       "Retail Management                     100\n",
       "Rural and Agribusiness                 73\n",
       "E-Business                             57\n",
       "Services Excellence                    40\n",
       "Name: Specialization, dtype: int64"
      ]
     },
     "execution_count": 225,
     "metadata": {},
     "output_type": "execute_result"
    }
   ],
   "source": [
    "# Working with Specialization column\n",
    "leads6['Specialization'].value_counts(dropna=False)"
   ]
  },
  {
   "cell_type": "code",
   "execution_count": 226,
   "metadata": {},
   "outputs": [],
   "source": [
    "# Cleaning Specialization column. We make select as missing and create a new category called Unknown for missing values\n",
    "leads6['Specialization'] = leads6['Specialization'].replace('Select', np.nan)\n",
    "leads6['Specialization'] = leads6['Specialization'].replace(np.nan, 'Unknown')"
   ]
  },
  {
   "cell_type": "code",
   "execution_count": 227,
   "metadata": {},
   "outputs": [],
   "source": [
    "# Reduce the number of categories under Specialization\n",
    "leads6['Specialization'] = leads6['Specialization'].replace(['Finance Management','Human Resource Management',\n",
    "                                                           'Marketing Management','Operations Management',\n",
    "                                                           'IT Projects Management','Supply Chain Management',\n",
    "                                                    'Healthcare Management','Hospitality Management',\n",
    "                                                           'Retail Management'], 'Management')"
   ]
  },
  {
   "cell_type": "code",
   "execution_count": 228,
   "metadata": {},
   "outputs": [
    {
     "data": {
      "text/plain": [
       "Lead Origin                                  0.000000\n",
       "Lead Source                                  0.389610\n",
       "Do Not Email                                 0.000000\n",
       "Do Not Call                                  0.000000\n",
       "Converted                                    0.000000\n",
       "TotalVisits                                  1.482684\n",
       "Total Time Spent on Website                  0.000000\n",
       "Page Views Per Visit                         1.482684\n",
       "Last Activity                                1.114719\n",
       "Specialization                               0.000000\n",
       "What is your current occupation              0.000000\n",
       "Search                                       0.000000\n",
       "Magazine                                     0.000000\n",
       "Newspaper Article                            0.000000\n",
       "X Education Forums                           0.000000\n",
       "Newspaper                                    0.000000\n",
       "Digital Advertisement                        0.000000\n",
       "Through Recommendations                      0.000000\n",
       "Receive More Updates About Our Courses       0.000000\n",
       "Tags                                         0.000000\n",
       "Update me on Supply Chain Content            0.000000\n",
       "Get updates on DM Content                    0.000000\n",
       "City                                        15.367965\n",
       "I agree to pay the amount through cheque     0.000000\n",
       "A free copy of Mastering The Interview       0.000000\n",
       "Last Notable Activity                        0.000000\n",
       "dtype: float64"
      ]
     },
     "execution_count": 228,
     "metadata": {},
     "output_type": "execute_result"
    }
   ],
   "source": [
    "# Percentage of missing values\n",
    "leads6.isnull().sum()*100/leads6.shape[0]"
   ]
  },
  {
   "cell_type": "code",
   "execution_count": 229,
   "metadata": {},
   "outputs": [
    {
     "data": {
      "text/plain": [
       "Mumbai                         3222\n",
       "Select                         2249\n",
       "NaN                            1420\n",
       "Thane & Outskirts               752\n",
       "Other Cities                    686\n",
       "Other Cities of Maharashtra     457\n",
       "Other Metro Cities              380\n",
       "Tier II Cities                   74\n",
       "Name: City, dtype: int64"
      ]
     },
     "execution_count": 229,
     "metadata": {},
     "output_type": "execute_result"
    }
   ],
   "source": [
    "# Values under City column\n",
    "leads6['City'].value_counts(dropna=False)"
   ]
  },
  {
   "cell_type": "code",
   "execution_count": 230,
   "metadata": {},
   "outputs": [
    {
     "data": {
      "text/plain": [
       "Mumbai                         6891\n",
       "Thane & Outskirts               752\n",
       "Other Cities                    686\n",
       "Other Cities of Maharashtra     457\n",
       "Other Metro Cities              380\n",
       "Tier II Cities                   74\n",
       "Name: City, dtype: int64"
      ]
     },
     "execution_count": 230,
     "metadata": {},
     "output_type": "execute_result"
    }
   ],
   "source": [
    "# Make select as missing and impute missing with the most occuring value\n",
    "leads6['City'] = leads6['City'].replace('Select',np.nan)\n",
    "leads6['City'] = leads6['City'].replace(np.nan, 'Mumbai')\n",
    "leads6['City'].value_counts(dropna=False)"
   ]
  },
  {
   "cell_type": "code",
   "execution_count": 231,
   "metadata": {},
   "outputs": [
    {
     "data": {
      "text/plain": [
       "Lead Origin                                 0.000000\n",
       "Lead Source                                 0.389610\n",
       "Do Not Email                                0.000000\n",
       "Do Not Call                                 0.000000\n",
       "Converted                                   0.000000\n",
       "TotalVisits                                 1.482684\n",
       "Total Time Spent on Website                 0.000000\n",
       "Page Views Per Visit                        1.482684\n",
       "Last Activity                               1.114719\n",
       "Specialization                              0.000000\n",
       "What is your current occupation             0.000000\n",
       "Search                                      0.000000\n",
       "Magazine                                    0.000000\n",
       "Newspaper Article                           0.000000\n",
       "X Education Forums                          0.000000\n",
       "Newspaper                                   0.000000\n",
       "Digital Advertisement                       0.000000\n",
       "Through Recommendations                     0.000000\n",
       "Receive More Updates About Our Courses      0.000000\n",
       "Tags                                        0.000000\n",
       "Update me on Supply Chain Content           0.000000\n",
       "Get updates on DM Content                   0.000000\n",
       "City                                        0.000000\n",
       "I agree to pay the amount through cheque    0.000000\n",
       "A free copy of Mastering The Interview      0.000000\n",
       "Last Notable Activity                       0.000000\n",
       "dtype: float64"
      ]
     },
     "execution_count": 231,
     "metadata": {},
     "output_type": "execute_result"
    }
   ],
   "source": [
    "# Percentage of missing values\n",
    "leads6.isnull().sum()*100/leads6.shape[0]"
   ]
  },
  {
   "cell_type": "code",
   "execution_count": 232,
   "metadata": {},
   "outputs": [
    {
     "data": {
      "text/plain": [
       "Lead Origin                                 0.000000\n",
       "Lead Source                                 0.389610\n",
       "Do Not Email                                0.000000\n",
       "Do Not Call                                 0.000000\n",
       "Converted                                   0.000000\n",
       "TotalVisits                                 1.482684\n",
       "Total Time Spent on Website                 0.000000\n",
       "Page Views Per Visit                        1.482684\n",
       "Last Activity                               1.114719\n",
       "Specialization                              0.000000\n",
       "What is your current occupation             0.000000\n",
       "Search                                      0.000000\n",
       "Magazine                                    0.000000\n",
       "Newspaper Article                           0.000000\n",
       "X Education Forums                          0.000000\n",
       "Newspaper                                   0.000000\n",
       "Digital Advertisement                       0.000000\n",
       "Through Recommendations                     0.000000\n",
       "Receive More Updates About Our Courses      0.000000\n",
       "Tags                                        0.000000\n",
       "Update me on Supply Chain Content           0.000000\n",
       "Get updates on DM Content                   0.000000\n",
       "City                                        0.000000\n",
       "I agree to pay the amount through cheque    0.000000\n",
       "A free copy of Mastering The Interview      0.000000\n",
       "Last Notable Activity                       0.000000\n",
       "dtype: float64"
      ]
     },
     "execution_count": 232,
     "metadata": {},
     "output_type": "execute_result"
    }
   ],
   "source": [
    "# Make select as missing and view the missing value percentage again\n",
    "leads6 = leads6.replace('Select',np.nan)\n",
    "leads6.isnull().sum()*100/leads6.shape[0]"
   ]
  },
  {
   "cell_type": "code",
   "execution_count": 233,
   "metadata": {},
   "outputs": [
    {
     "data": {
      "text/plain": [
       "Lead Origin                                 0.0\n",
       "Lead Source                                 0.0\n",
       "Do Not Email                                0.0\n",
       "Do Not Call                                 0.0\n",
       "Converted                                   0.0\n",
       "TotalVisits                                 0.0\n",
       "Total Time Spent on Website                 0.0\n",
       "Page Views Per Visit                        0.0\n",
       "Last Activity                               0.0\n",
       "Specialization                              0.0\n",
       "What is your current occupation             0.0\n",
       "Search                                      0.0\n",
       "Magazine                                    0.0\n",
       "Newspaper Article                           0.0\n",
       "X Education Forums                          0.0\n",
       "Newspaper                                   0.0\n",
       "Digital Advertisement                       0.0\n",
       "Through Recommendations                     0.0\n",
       "Receive More Updates About Our Courses      0.0\n",
       "Tags                                        0.0\n",
       "Update me on Supply Chain Content           0.0\n",
       "Get updates on DM Content                   0.0\n",
       "City                                        0.0\n",
       "I agree to pay the amount through cheque    0.0\n",
       "A free copy of Mastering The Interview      0.0\n",
       "Last Notable Activity                       0.0\n",
       "dtype: float64"
      ]
     },
     "execution_count": 233,
     "metadata": {},
     "output_type": "execute_result"
    }
   ],
   "source": [
    "# Since there are very less percentages of missing values remaining(less than 2% per column), we can directly drop the records having missing values. It won't affect our model\n",
    "leads6 = leads6.dropna()\n",
    "leads6.isnull().sum()*100/leads6.shape[0]"
   ]
  },
  {
   "cell_type": "code",
   "execution_count": 234,
   "metadata": {},
   "outputs": [
    {
     "data": {
      "text/plain": [
       "Google               2868\n",
       "Direct Traffic       2543\n",
       "Olark Chat           1753\n",
       "Organic Search       1154\n",
       "Reference             443\n",
       "Welingak Website      129\n",
       "Referral Sites        125\n",
       "Facebook               31\n",
       "bing                    6\n",
       "google                  5\n",
       "Click2call              4\n",
       "Live Chat               2\n",
       "Press_Release           2\n",
       "Social Media            2\n",
       "youtubechannel          1\n",
       "WeLearn                 1\n",
       "blog                    1\n",
       "NC_EDM                  1\n",
       "welearnblog_Home        1\n",
       "testone                 1\n",
       "Pay per Click Ads       1\n",
       "Name: Lead Source, dtype: int64"
      ]
     },
     "execution_count": 234,
     "metadata": {},
     "output_type": "execute_result"
    }
   ],
   "source": [
    "# Viewing values under Lead Source\n",
    "leads6['Lead Source'].value_counts(dropna=False)"
   ]
  },
  {
   "cell_type": "code",
   "execution_count": 235,
   "metadata": {},
   "outputs": [
    {
     "data": {
      "text/plain": [
       "Google              2873\n",
       "Direct Traffic      2543\n",
       "Olark Chat          1753\n",
       "Organic Search      1154\n",
       "Reference            443\n",
       "Welingak Website     129\n",
       "Referral Sites       125\n",
       "Social Media          34\n",
       "Other                 20\n",
       "Name: Lead Source, dtype: int64"
      ]
     },
     "execution_count": 235,
     "metadata": {},
     "output_type": "execute_result"
    }
   ],
   "source": [
    "# Reduce the number of categories and clean google \n",
    "leads6['Lead Source'] = leads6['Lead Source'].replace('google', 'Google')\n",
    "leads6['Lead Source'] = leads6['Lead Source'].replace(['Facebook','youtubechannel'], 'Social Media')\n",
    "leads6['Lead Source'] = leads6['Lead Source'].replace(['bing','Click2call', 'Press_Release','Live Chat','NC_EDM', 'Pay per Click Ads', 'testone', 'welearnblog_Home', 'WeLearn', 'blog'],'Other')\n",
    "leads6['Lead Source'].value_counts()"
   ]
  },
  {
   "cell_type": "code",
   "execution_count": 236,
   "metadata": {},
   "outputs": [
    {
     "data": {
      "text/plain": [
       "No     9072\n",
       "Yes       2\n",
       "Name: Do Not Call, dtype: int64"
      ]
     },
     "execution_count": 236,
     "metadata": {},
     "output_type": "execute_result"
    }
   ],
   "source": [
    "# Values under Do Not Call column\n",
    "leads6['Do Not Call'].value_counts(dropna=False)"
   ]
  },
  {
   "cell_type": "code",
   "execution_count": 237,
   "metadata": {},
   "outputs": [
    {
     "data": {
      "text/plain": [
       "Index(['Lead Origin', 'Lead Source', 'Do Not Email', 'Converted',\n",
       "       'TotalVisits', 'Total Time Spent on Website', 'Page Views Per Visit',\n",
       "       'Last Activity', 'Specialization', 'What is your current occupation',\n",
       "       'Search', 'Magazine', 'Newspaper Article', 'X Education Forums',\n",
       "       'Newspaper', 'Digital Advertisement', 'Through Recommendations',\n",
       "       'Receive More Updates About Our Courses', 'Tags',\n",
       "       'Update me on Supply Chain Content', 'Get updates on DM Content',\n",
       "       'City', 'I agree to pay the amount through cheque',\n",
       "       'A free copy of Mastering The Interview', 'Last Notable Activity'],\n",
       "      dtype='object')"
      ]
     },
     "execution_count": 237,
     "metadata": {},
     "output_type": "execute_result"
    }
   ],
   "source": [
    "# Dropping the column due to highly imbalanced data\n",
    "leads7 = leads6.drop('Do Not Call', axis=1)\n",
    "leads7.columns"
   ]
  },
  {
   "cell_type": "code",
   "execution_count": 238,
   "metadata": {},
   "outputs": [
    {
     "name": "stdout",
     "output_type": "stream",
     "text": [
      "Landing Page Submission    4885\n",
      "API                        3578\n",
      "Lead Add Form               581\n",
      "Lead Import                  30\n",
      "Name: Lead Origin, dtype: int64\n",
      "Google              2873\n",
      "Direct Traffic      2543\n",
      "Olark Chat          1753\n",
      "Organic Search      1154\n",
      "Reference            443\n",
      "Welingak Website     129\n",
      "Referral Sites       125\n",
      "Social Media          34\n",
      "Other                 20\n",
      "Name: Lead Source, dtype: int64\n",
      "No     8358\n",
      "Yes     716\n",
      "Name: Do Not Email, dtype: int64\n",
      "0    5639\n",
      "1    3435\n",
      "Name: Converted, dtype: int64\n",
      "0.0      2161\n",
      "2.0      1679\n",
      "3.0      1306\n",
      "4.0      1120\n",
      "5.0       783\n",
      "6.0       466\n",
      "1.0       395\n",
      "7.0       309\n",
      "8.0       224\n",
      "9.0       164\n",
      "10.0      114\n",
      "11.0       86\n",
      "13.0       48\n",
      "12.0       45\n",
      "14.0       36\n",
      "16.0       21\n",
      "15.0       18\n",
      "17.0       16\n",
      "18.0       15\n",
      "20.0       12\n",
      "19.0        9\n",
      "23.0        6\n",
      "21.0        6\n",
      "27.0        5\n",
      "24.0        5\n",
      "25.0        5\n",
      "22.0        3\n",
      "28.0        2\n",
      "29.0        2\n",
      "26.0        2\n",
      "251.0       1\n",
      "74.0        1\n",
      "30.0        1\n",
      "141.0       1\n",
      "54.0        1\n",
      "41.0        1\n",
      "115.0       1\n",
      "43.0        1\n",
      "42.0        1\n",
      "32.0        1\n",
      "55.0        1\n",
      "Name: TotalVisits, dtype: int64\n",
      "0       2165\n",
      "60        19\n",
      "75        18\n",
      "127       18\n",
      "74        17\n",
      "        ... \n",
      "1235       1\n",
      "1091       1\n",
      "1043       1\n",
      "1035       1\n",
      "1891       1\n",
      "Name: Total Time Spent on Website, Length: 1717, dtype: int64\n",
      "0.00    2161\n",
      "2.00    1794\n",
      "3.00    1196\n",
      "4.00     896\n",
      "1.00     651\n",
      "        ... \n",
      "1.27       1\n",
      "8.21       1\n",
      "2.14       1\n",
      "2.63       1\n",
      "2.45       1\n",
      "Name: Page Views Per Visit, Length: 114, dtype: int64\n",
      "Email Opened                    3432\n",
      "SMS Sent                        2716\n",
      "Olark Chat Conversation          972\n",
      "Page Visited on Website          640\n",
      "Converted to Lead                428\n",
      "Email Bounced                    312\n",
      "Email Link Clicked               267\n",
      "Form Submitted on Website        116\n",
      "Unreachable                       90\n",
      "Unsubscribed                      59\n",
      "Had a Phone Conversation          25\n",
      "View in browser link Clicked       6\n",
      "Approached upfront                 5\n",
      "Email Received                     2\n",
      "Email Marked Spam                  2\n",
      "Resubscribed to emails             1\n",
      "Visited Booth in Tradeshow         1\n",
      "Name: Last Activity, dtype: int64\n",
      "Management                           4197\n",
      "Unknown                              3282\n",
      "Business Administration               399\n",
      "Banking, Investment And Insurance     335\n",
      "Media and Advertising                 202\n",
      "Travel and Tourism                    202\n",
      "International Business                176\n",
      "E-COMMERCE                            111\n",
      "Rural and Agribusiness                 73\n",
      "E-Business                             57\n",
      "Services Excellence                    40\n",
      "Name: Specialization, dtype: int64\n",
      "Unemployed              8159\n",
      "Working Professional     677\n",
      "Student                  206\n",
      "Other                     15\n",
      "Housewife                  9\n",
      "Businessman                8\n",
      "Name: What is your current occupation, dtype: int64\n",
      "No     9060\n",
      "Yes      14\n",
      "Name: Search, dtype: int64\n",
      "No    9074\n",
      "Name: Magazine, dtype: int64\n",
      "No     9072\n",
      "Yes       2\n",
      "Name: Newspaper Article, dtype: int64\n",
      "No     9073\n",
      "Yes       1\n",
      "Name: X Education Forums, dtype: int64\n",
      "No     9073\n",
      "Yes       1\n",
      "Name: Newspaper, dtype: int64\n",
      "No     9070\n",
      "Yes       4\n",
      "Name: Digital Advertisement, dtype: int64\n",
      "No     9067\n",
      "Yes       7\n",
      "Name: Through Recommendations, dtype: int64\n",
      "No    9074\n",
      "Name: Receive More Updates About Our Courses, dtype: int64\n",
      "Unknown                                3327\n",
      "Will revert after reading the email    2016\n",
      "Other                                  1678\n",
      "Ringing                                1187\n",
      "Interested in other courses             509\n",
      "Busy                                    185\n",
      "Lost to EINS                            172\n",
      "Name: Tags, dtype: int64\n",
      "No    9074\n",
      "Name: Update me on Supply Chain Content, dtype: int64\n",
      "No    9074\n",
      "Name: Get updates on DM Content, dtype: int64\n",
      "Mumbai                         6752\n",
      "Thane & Outskirts               745\n",
      "Other Cities                    680\n",
      "Other Cities of Maharashtra     446\n",
      "Other Metro Cities              377\n",
      "Tier II Cities                   74\n",
      "Name: City, dtype: int64\n",
      "No    9074\n",
      "Name: I agree to pay the amount through cheque, dtype: int64\n",
      "No     6186\n",
      "Yes    2888\n",
      "Name: A free copy of Mastering The Interview, dtype: int64\n",
      "Modified                        3267\n",
      "Email Opened                    2823\n",
      "SMS Sent                        2152\n",
      "Page Visited on Website          318\n",
      "Olark Chat Conversation          183\n",
      "Email Link Clicked               173\n",
      "Email Bounced                     60\n",
      "Unsubscribed                      45\n",
      "Unreachable                       32\n",
      "Had a Phone Conversation          14\n",
      "Email Marked Spam                  2\n",
      "Approached upfront                 1\n",
      "View in browser link Clicked       1\n",
      "Email Received                     1\n",
      "Resubscribed to emails             1\n",
      "Form Submitted on Website          1\n",
      "Name: Last Notable Activity, dtype: int64\n"
     ]
    }
   ],
   "source": [
    "# Instead of checking every column one by one, let us see complete information and make decisions faster\n",
    "for col in leads7.columns:\n",
    "    print(leads7[col].value_counts())"
   ]
  },
  {
   "cell_type": "code",
   "execution_count": 239,
   "metadata": {},
   "outputs": [
    {
     "data": {
      "text/plain": [
       "Index(['Lead Origin', 'Lead Source', 'Do Not Email', 'Converted',\n",
       "       'TotalVisits', 'Total Time Spent on Website', 'Page Views Per Visit',\n",
       "       'Last Activity', 'Specialization', 'What is your current occupation',\n",
       "       'Tags', 'City', 'A free copy of Mastering The Interview',\n",
       "       'Last Notable Activity'],\n",
       "      dtype='object')"
      ]
     },
     "execution_count": 239,
     "metadata": {},
     "output_type": "execute_result"
    }
   ],
   "source": [
    "# Looking at the above information, we can immediately drop some columns with imbalanced data\n",
    "cols_to_drop = ['Search', 'Magazine', 'Newspaper Article', 'X Education Forums', 'Newspaper', 'Digital Advertisement', 'Through Recommendations', 'Receive More Updates About Our Courses', 'Update me on Supply Chain Content','Get updates on DM Content', 'I agree to pay the amount through cheque']\n",
    "leads8 = leads7.drop(cols_to_drop, axis=1)\n",
    "leads8.columns"
   ]
  },
  {
   "cell_type": "code",
   "execution_count": 240,
   "metadata": {},
   "outputs": [
    {
     "data": {
      "text/plain": [
       "Email Opened                 3432\n",
       "SMS Sent                     2716\n",
       "Olark Chat Conversation       972\n",
       "Page Visited on Website       640\n",
       "Converted to Lead             428\n",
       "Email Bounced                 312\n",
       "Email Link Clicked            267\n",
       "Other                         191\n",
       "Form Submitted on Website     116\n",
       "Name: Last Activity, dtype: int64"
      ]
     },
     "execution_count": 240,
     "metadata": {},
     "output_type": "execute_result"
    }
   ],
   "source": [
    "# Reduce the number of categories under Last Activity column\n",
    "leads8['Last Activity'] = leads8['Last Activity'].replace(['Unreachable', 'Unsubscribed', 'Had a Phone Conversation', 'View in browser link Clicked', 'Approached upfront', 'Email Received', 'Email Marked Spam', 'Resubscribed to emails', 'Visited Booth in Tradeshow'], 'Other')\n",
    "leads8['Last Activity'].value_counts()"
   ]
  },
  {
   "cell_type": "code",
   "execution_count": 241,
   "metadata": {},
   "outputs": [
    {
     "data": {
      "text/plain": [
       "Modified                   3267\n",
       "Email Opened               2823\n",
       "SMS Sent                   2152\n",
       "Page Visited on Website     318\n",
       "Olark Chat Conversation     183\n",
       "Email Link Clicked          173\n",
       "Other                       158\n",
       "Name: Last Notable Activity, dtype: int64"
      ]
     },
     "execution_count": 241,
     "metadata": {},
     "output_type": "execute_result"
    }
   ],
   "source": [
    "# Reduce the number of categories under Last Notable Activity column\n",
    "leads8['Last Notable Activity'] = leads8['Last Notable Activity'].replace(['Unreachable', 'Unsubscribed', 'Had a Phone Conversation', 'View in browser link Clicked', 'Approached upfront', 'Email Received', 'Email Marked Spam', 'Resubscribed to emails', 'Visited Booth in Tradeshow', 'Form Submitted on Website', 'Email Bounced'], 'Other')\n",
    "leads8['Last Notable Activity'].value_counts()"
   ]
  },
  {
   "cell_type": "code",
   "execution_count": 242,
   "metadata": {},
   "outputs": [
    {
     "name": "stdout",
     "output_type": "stream",
     "text": [
      "<class 'pandas.core.frame.DataFrame'>\n",
      "Int64Index: 9074 entries, 0 to 9239\n",
      "Data columns (total 14 columns):\n",
      " #   Column                                  Non-Null Count  Dtype  \n",
      "---  ------                                  --------------  -----  \n",
      " 0   Lead Origin                             9074 non-null   object \n",
      " 1   Lead Source                             9074 non-null   object \n",
      " 2   Do Not Email                            9074 non-null   object \n",
      " 3   Converted                               9074 non-null   int64  \n",
      " 4   TotalVisits                             9074 non-null   float64\n",
      " 5   Total Time Spent on Website             9074 non-null   int64  \n",
      " 6   Page Views Per Visit                    9074 non-null   float64\n",
      " 7   Last Activity                           9074 non-null   object \n",
      " 8   Specialization                          9074 non-null   object \n",
      " 9   What is your current occupation         9074 non-null   object \n",
      " 10  Tags                                    9074 non-null   object \n",
      " 11  City                                    9074 non-null   object \n",
      " 12  A free copy of Mastering The Interview  9074 non-null   object \n",
      " 13  Last Notable Activity                   9074 non-null   object \n",
      "dtypes: float64(2), int64(2), object(10)\n",
      "memory usage: 1.0+ MB\n"
     ]
    }
   ],
   "source": [
    "# Viewing info\n",
    "leads8.info()"
   ]
  },
  {
   "cell_type": "code",
   "execution_count": 243,
   "metadata": {},
   "outputs": [
    {
     "data": {
      "text/plain": [
       "0.3785541106458012"
      ]
     },
     "execution_count": 243,
     "metadata": {},
     "output_type": "execute_result"
    }
   ],
   "source": [
    "# Data imbalance of target variable\n",
    "leads8['Converted'].mean()"
   ]
  },
  {
   "cell_type": "code",
   "execution_count": 244,
   "metadata": {},
   "outputs": [
    {
     "data": {
      "image/png": "[encoded data removed]",
      "text/plain": [
       "<Figure size 432x288 with 2 Axes>"
      ]
     },
     "metadata": {
      "needs_background": "light"
     },
     "output_type": "display_data"
    }
   ],
   "source": [
    "# Plot heatmap of correlation among numeric variables\n",
    "sns.heatmap(leads8.corr(), annot=True, cmap='RdYlGn')\n",
    "plt.show()"
   ]
  },
  {
   "cell_type": "code",
   "execution_count": 245,
   "metadata": {},
   "outputs": [
    {
     "data": {
      "image/png": "[encoded data removed]",
      "text/plain": [
       "<Figure size 432x288 with 1 Axes>"
      ]
     },
     "metadata": {
      "needs_background": "light"
     },
     "output_type": "display_data"
    }
   ],
   "source": [
    "# Outliers in TotalVisits?\n",
    "sns.boxplot('TotalVisits', data=leads8)\n",
    "plt.show()"
   ]
  },
  {
   "cell_type": "code",
   "execution_count": 246,
   "metadata": {},
   "outputs": [
    {
     "data": {
      "image/png": "[encoded data removed]",
      "text/plain": [
       "<Figure size 432x288 with 1 Axes>"
      ]
     },
     "metadata": {
      "needs_background": "light"
     },
     "output_type": "display_data"
    }
   ],
   "source": [
    "# Treating outliers by capping data\n",
    "Q1 = leads8.TotalVisits.quantile(0.05) #5th percentile\n",
    "Q3 = leads8.TotalVisits.quantile(0.95) #95th percentile\n",
    "IQR = Q3-Q1\n",
    "leads8 = leads8[(leads8.TotalVisits>=Q1-1.5*IQR) & (leads8.TotalVisits<=Q3+1.5*IQR)]\n",
    "sns.boxplot('TotalVisits', data=leads8)\n",
    "plt.show()"
   ]
  },
  {
   "cell_type": "code",
   "execution_count": 247,
   "metadata": {},
   "outputs": [
    {
     "data": {
      "image/png": "[encoded data removed]",
      "text/plain": [
       "<Figure size 432x288 with 1 Axes>"
      ]
     },
     "metadata": {
      "needs_background": "light"
     },
     "output_type": "display_data"
    }
   ],
   "source": [
    "# Outliers in Total Time Spent on Website data?\n",
    "sns.boxplot('Total Time Spent on Website', data=leads8)\n",
    "plt.show() # no outliers"
   ]
  },
  {
   "cell_type": "code",
   "execution_count": 248,
   "metadata": {},
   "outputs": [
    {
     "data": {
      "image/png": "[encoded data removed]",
      "text/plain": [
       "<Figure size 432x288 with 1 Axes>"
      ]
     },
     "metadata": {
      "needs_background": "light"
     },
     "output_type": "display_data"
    }
   ],
   "source": [
    "# Outliers check for Page Views Per Visit data\n",
    "sns.boxplot('Page Views Per Visit', data=leads8)\n",
    "plt.show()"
   ]
  },
  {
   "cell_type": "code",
   "execution_count": 249,
   "metadata": {},
   "outputs": [
    {
     "data": {
      "image/png": "[encoded data removed]",
      "text/plain": [
       "<Figure size 432x288 with 1 Axes>"
      ]
     },
     "metadata": {
      "needs_background": "light"
     },
     "output_type": "display_data"
    }
   ],
   "source": [
    "# Treating outliers under Page Views Per Visit column\n",
    "Q1 = leads8['Page Views Per Visit'].quantile(0.05)\n",
    "Q3 = leads8['Page Views Per Visit'].quantile(0.95)\n",
    "IQR = Q3-Q1\n",
    "leads8 = leads8[(leads8['Page Views Per Visit']>=Q1-1.5*IQR) & (leads8['Page Views Per Visit']<=Q3+1.5*IQR)]\n",
    "sns.boxplot('Page Views Per Visit', data=leads8)\n",
    "plt.show()"
   ]
  },
  {
   "cell_type": "code",
   "execution_count": 250,
   "metadata": {},
   "outputs": [
    {
     "data": {
      "image/png": "[encoded data removed]",
      "text/plain": [
       "<Figure size 432x288 with 1 Axes>"
      ]
     },
     "metadata": {
      "needs_background": "light"
     },
     "output_type": "display_data"
    }
   ],
   "source": [
    "# Distribution of numeric variables w.r.t. target. Converted vs TotalVisits\n",
    "sns.boxplot(x='Converted', y='TotalVisits', data=leads8)\n",
    "plt.show() # nothing conclusive"
   ]
  },
  {
   "cell_type": "code",
   "execution_count": 251,
   "metadata": {},
   "outputs": [
    {
     "data": {
      "image/png": "[encoded data removed]",
      "text/plain": [
       "<Figure size 432x288 with 1 Axes>"
      ]
     },
     "metadata": {
      "needs_background": "light"
     },
     "output_type": "display_data"
    }
   ],
   "source": [
    "# Converted vs Total Time Spent on Website\n",
    "sns.boxplot(x='Converted', y='Total Time Spent on Website', data=leads8)\n",
    "plt.show() # People spending more time on website have higher chances of conversion"
   ]
  },
  {
   "cell_type": "code",
   "execution_count": 252,
   "metadata": {},
   "outputs": [
    {
     "data": {
      "image/png": "[encoded data removed]",
      "text/plain": [
       "<Figure size 432x288 with 1 Axes>"
      ]
     },
     "metadata": {
      "needs_background": "light"
     },
     "output_type": "display_data"
    }
   ],
   "source": [
    "# Converted vs Page Views Per Visit\n",
    "sns.boxplot(x='Converted', y='Page Views Per Visit', data=leads8)\n",
    "plt.show() # nothing conclusive"
   ]
  },
  {
   "cell_type": "code",
   "execution_count": 253,
   "metadata": {},
   "outputs": [
    {
     "data": {
      "image/png": "[encoded data removed]",
      "text/plain": [
       "<Figure size 432x288 with 1 Axes>"
      ]
     },
     "metadata": {
      "needs_background": "light"
     },
     "output_type": "display_data"
    },
    {
     "data": {
      "image/png": "[encoded data removed]",
      "text/plain": [
       "<Figure size 432x288 with 1 Axes>"
      ]
     },
     "metadata": {
      "needs_background": "light"
     },
     "output_type": "display_data"
    },
    {
     "data": {
      "image/png": "[encoded data removed]",
      "text/plain": [
       "<Figure size 432x288 with 1 Axes>"
      ]
     },
     "metadata": {
      "needs_background": "light"
     },
     "output_type": "display_data"
    },
    {
     "data": {
      "image/png": "[encoded data removed]",
      "text/plain": [
       "<Figure size 432x288 with 1 Axes>"
      ]
     },
     "metadata": {
      "needs_background": "light"
     },
     "output_type": "display_data"
    },
    {
     "data": {
      "image/png": "[encoded data removed]",
      "text/plain": [
       "<Figure size 432x288 with 1 Axes>"
      ]
     },
     "metadata": {
      "needs_background": "light"
     },
     "output_type": "display_data"
    },
    {
     "data": {
      "image/png": "[encoded data removed]",
      "text/plain": [
       "<Figure size 432x288 with 1 Axes>"
      ]
     },
     "metadata": {
      "needs_background": "light"
     },
     "output_type": "display_data"
    },
    {
     "data": {
      "image/png": "[encoded data removed]",
      "text/plain": [
       "<Figure size 432x288 with 1 Axes>"
      ]
     },
     "metadata": {
      "needs_background": "light"
     },
     "output_type": "display_data"
    },
    {
     "data": {
      "image/png": "[encoded data removed]",
      "text/plain": [
       "<Figure size 432x288 with 1 Axes>"
      ]
     },
     "metadata": {
      "needs_background": "light"
     },
     "output_type": "display_data"
    },
    {
     "data": {
      "image/png": "[encoded data removed]",
      "text/plain": [
       "<Figure size 432x288 with 1 Axes>"
      ]
     },
     "metadata": {
      "needs_background": "light"
     },
     "output_type": "display_data"
    },
    {
     "data": {
      "image/png": "[encoded data removed]",
      "text/plain": [
       "<Figure size 432x288 with 1 Axes>"
      ]
     },
     "metadata": {
      "needs_background": "light"
     },
     "output_type": "display_data"
    }
   ],
   "source": [
    "# Distribution of categorical variables w.r.t. target\n",
    "categorical = ['Lead Origin', 'Lead Source', 'Do Not Email', 'Last Activity', 'Specialization', 'What is your current occupation', 'Tags', 'City', 'A free copy of Mastering The Interview', 'Last Notable Activity']\n",
    "for col in categorical:\n",
    "    sns.countplot(x=col, hue='Converted', data=leads8)\n",
    "    plt.xticks(rotation=90)\n",
    "    plt.show()"
   ]
  },
  {
   "cell_type": "markdown",
   "metadata": {},
   "source": [
    "Conclusions:\n",
    "- Lead Origin: Lead Add Form has highest conversion rate\n",
    "- Lead Source: Reference and Welingak website have high conversion rates.\n",
    "- Last Activity: SMS sent has highest conversion rate\n",
    "- What is your current occupation: Working Professional have high conversion rate\n",
    "- Tags: People reverting after reading the email have higher conversion rate.\n",
    "- Last Notable Activity: Again, SMS sent has higher conversion."
   ]
  },
  {
   "cell_type": "code",
   "execution_count": 254,
   "metadata": {},
   "outputs": [
    {
     "data": {
      "text/html": [
       "<div>\n",
       "<style scoped>\n",
       "    .dataframe tbody tr th:only-of-type {\n",
       "        vertical-align: middle;\n",
       "    }\n",
       "\n",
       "    .dataframe tbody tr th {\n",
       "        vertical-align: top;\n",
       "    }\n",
       "\n",
       "    .dataframe thead th {\n",
       "        text-align: right;\n",
       "    }\n",
       "</style>\n",
       "<table border=\"1\" class=\"dataframe\">\n",
       "  <thead>\n",
       "    <tr style=\"text-align: right;\">\n",
       "      <th></th>\n",
       "      <th>Do Not Email</th>\n",
       "      <th>A free copy of Mastering The Interview</th>\n",
       "    </tr>\n",
       "  </thead>\n",
       "  <tbody>\n",
       "    <tr>\n",
       "      <th>0</th>\n",
       "      <td>0</td>\n",
       "      <td>0</td>\n",
       "    </tr>\n",
       "    <tr>\n",
       "      <th>1</th>\n",
       "      <td>0</td>\n",
       "      <td>0</td>\n",
       "    </tr>\n",
       "    <tr>\n",
       "      <th>2</th>\n",
       "      <td>0</td>\n",
       "      <td>1</td>\n",
       "    </tr>\n",
       "    <tr>\n",
       "      <th>3</th>\n",
       "      <td>0</td>\n",
       "      <td>0</td>\n",
       "    </tr>\n",
       "    <tr>\n",
       "      <th>4</th>\n",
       "      <td>0</td>\n",
       "      <td>0</td>\n",
       "    </tr>\n",
       "    <tr>\n",
       "      <th>...</th>\n",
       "      <td>...</td>\n",
       "      <td>...</td>\n",
       "    </tr>\n",
       "    <tr>\n",
       "      <th>9235</th>\n",
       "      <td>1</td>\n",
       "      <td>0</td>\n",
       "    </tr>\n",
       "    <tr>\n",
       "      <th>9236</th>\n",
       "      <td>0</td>\n",
       "      <td>1</td>\n",
       "    </tr>\n",
       "    <tr>\n",
       "      <th>9237</th>\n",
       "      <td>1</td>\n",
       "      <td>1</td>\n",
       "    </tr>\n",
       "    <tr>\n",
       "      <th>9238</th>\n",
       "      <td>0</td>\n",
       "      <td>0</td>\n",
       "    </tr>\n",
       "    <tr>\n",
       "      <th>9239</th>\n",
       "      <td>0</td>\n",
       "      <td>1</td>\n",
       "    </tr>\n",
       "  </tbody>\n",
       "</table>\n",
       "<p>9048 rows × 2 columns</p>\n",
       "</div>"
      ],
      "text/plain": [
       "      Do Not Email  A free copy of Mastering The Interview\n",
       "0                0                                       0\n",
       "1                0                                       0\n",
       "2                0                                       1\n",
       "3                0                                       0\n",
       "4                0                                       0\n",
       "...            ...                                     ...\n",
       "9235             1                                       0\n",
       "9236             0                                       1\n",
       "9237             1                                       1\n",
       "9238             0                                       0\n",
       "9239             0                                       1\n",
       "\n",
       "[9048 rows x 2 columns]"
      ]
     },
     "execution_count": 254,
     "metadata": {},
     "output_type": "execute_result"
    }
   ],
   "source": [
    "# Mapping Binary values to 0 and 1\n",
    "def bmap(x):\n",
    "    return x.map({'Yes':1, 'No':0})\n",
    "to_map = ['Do Not Email', 'A free copy of Mastering The Interview']\n",
    "leads8[to_map] = leads8[to_map].apply(lambda x: bmap(x))\n",
    "leads8[to_map]"
   ]
  },
  {
   "cell_type": "markdown",
   "metadata": {},
   "source": [
    "### Creating dummy variables"
   ]
  },
  {
   "cell_type": "code",
   "execution_count": 255,
   "metadata": {},
   "outputs": [
    {
     "name": "stdout",
     "output_type": "stream",
     "text": [
      "<class 'pandas.core.frame.DataFrame'>\n",
      "Int64Index: 9048 entries, 0 to 9239\n",
      "Data columns (total 27 columns):\n",
      " #   Column                                                Non-Null Count  Dtype  \n",
      "---  ------                                                --------------  -----  \n",
      " 0   Lead Origin                                           9048 non-null   object \n",
      " 1   Lead Source                                           9048 non-null   object \n",
      " 2   Do Not Email                                          9048 non-null   int64  \n",
      " 3   Converted                                             9048 non-null   int64  \n",
      " 4   TotalVisits                                           9048 non-null   float64\n",
      " 5   Total Time Spent on Website                           9048 non-null   int64  \n",
      " 6   Page Views Per Visit                                  9048 non-null   float64\n",
      " 7   Last Activity                                         9048 non-null   object \n",
      " 8   Specialization                                        9048 non-null   object \n",
      " 9   What is your current occupation                       9048 non-null   object \n",
      " 10  Tags                                                  9048 non-null   object \n",
      " 11  City                                                  9048 non-null   object \n",
      " 12  A free copy of Mastering The Interview                9048 non-null   int64  \n",
      " 13  Last Notable Activity                                 9048 non-null   object \n",
      " 14  Lead Origin_Landing Page Submission                   9048 non-null   uint8  \n",
      " 15  Lead Origin_Lead Add Form                             9048 non-null   uint8  \n",
      " 16  Lead Origin_Lead Import                               9048 non-null   uint8  \n",
      " 17  What is your current occupation_Housewife             9048 non-null   uint8  \n",
      " 18  What is your current occupation_Other                 9048 non-null   uint8  \n",
      " 19  What is your current occupation_Student               9048 non-null   uint8  \n",
      " 20  What is your current occupation_Unemployed            9048 non-null   uint8  \n",
      " 21  What is your current occupation_Working Professional  9048 non-null   uint8  \n",
      " 22  City_Other Cities                                     9048 non-null   uint8  \n",
      " 23  City_Other Cities of Maharashtra                      9048 non-null   uint8  \n",
      " 24  City_Other Metro Cities                               9048 non-null   uint8  \n",
      " 25  City_Thane & Outskirts                                9048 non-null   uint8  \n",
      " 26  City_Tier II Cities                                   9048 non-null   uint8  \n",
      "dtypes: float64(2), int64(4), object(8), uint8(13)\n",
      "memory usage: 1.5+ MB\n"
     ]
    }
   ],
   "source": [
    "# Creating dummy variables for those columns where which value is dropped doesn't matter\n",
    "dummy = pd.get_dummies(leads8[['Lead Origin', 'What is your current occupation', 'City']], drop_first=True)\n",
    "leads8 = pd.concat([leads8,dummy], axis=1)\n",
    "leads8.info()"
   ]
  },
  {
   "cell_type": "code",
   "execution_count": 256,
   "metadata": {},
   "outputs": [],
   "source": [
    "# Dumy variables for Specialization column\n",
    "dummy = pd.get_dummies(leads8['Specialization'], prefix = 'Specialization')\n",
    "dummy = dummy.drop(['Specialization_Unknown'], axis = 1)\n",
    "leads8 = pd.concat([leads8, dummy], axis = 1)"
   ]
  },
  {
   "cell_type": "code",
   "execution_count": 257,
   "metadata": {},
   "outputs": [
    {
     "name": "stdout",
     "output_type": "stream",
     "text": [
      "<class 'pandas.core.frame.DataFrame'>\n",
      "Int64Index: 9048 entries, 0 to 9239\n",
      "Data columns (total 37 columns):\n",
      " #   Column                                                Non-Null Count  Dtype  \n",
      "---  ------                                                --------------  -----  \n",
      " 0   Lead Origin                                           9048 non-null   object \n",
      " 1   Lead Source                                           9048 non-null   object \n",
      " 2   Do Not Email                                          9048 non-null   int64  \n",
      " 3   Converted                                             9048 non-null   int64  \n",
      " 4   TotalVisits                                           9048 non-null   float64\n",
      " 5   Total Time Spent on Website                           9048 non-null   int64  \n",
      " 6   Page Views Per Visit                                  9048 non-null   float64\n",
      " 7   Last Activity                                         9048 non-null   object \n",
      " 8   Specialization                                        9048 non-null   object \n",
      " 9   What is your current occupation                       9048 non-null   object \n",
      " 10  Tags                                                  9048 non-null   object \n",
      " 11  City                                                  9048 non-null   object \n",
      " 12  A free copy of Mastering The Interview                9048 non-null   int64  \n",
      " 13  Last Notable Activity                                 9048 non-null   object \n",
      " 14  Lead Origin_Landing Page Submission                   9048 non-null   uint8  \n",
      " 15  Lead Origin_Lead Add Form                             9048 non-null   uint8  \n",
      " 16  Lead Origin_Lead Import                               9048 non-null   uint8  \n",
      " 17  What is your current occupation_Housewife             9048 non-null   uint8  \n",
      " 18  What is your current occupation_Other                 9048 non-null   uint8  \n",
      " 19  What is your current occupation_Student               9048 non-null   uint8  \n",
      " 20  What is your current occupation_Unemployed            9048 non-null   uint8  \n",
      " 21  What is your current occupation_Working Professional  9048 non-null   uint8  \n",
      " 22  City_Other Cities                                     9048 non-null   uint8  \n",
      " 23  City_Other Cities of Maharashtra                      9048 non-null   uint8  \n",
      " 24  City_Other Metro Cities                               9048 non-null   uint8  \n",
      " 25  City_Thane & Outskirts                                9048 non-null   uint8  \n",
      " 26  City_Tier II Cities                                   9048 non-null   uint8  \n",
      " 27  Specialization_Banking, Investment And Insurance      9048 non-null   uint8  \n",
      " 28  Specialization_Business Administration                9048 non-null   uint8  \n",
      " 29  Specialization_E-Business                             9048 non-null   uint8  \n",
      " 30  Specialization_E-COMMERCE                             9048 non-null   uint8  \n",
      " 31  Specialization_International Business                 9048 non-null   uint8  \n",
      " 32  Specialization_Management                             9048 non-null   uint8  \n",
      " 33  Specialization_Media and Advertising                  9048 non-null   uint8  \n",
      " 34  Specialization_Rural and Agribusiness                 9048 non-null   uint8  \n",
      " 35  Specialization_Services Excellence                    9048 non-null   uint8  \n",
      " 36  Specialization_Travel and Tourism                     9048 non-null   uint8  \n",
      "dtypes: float64(2), int64(4), object(8), uint8(23)\n",
      "memory usage: 1.5+ MB\n"
     ]
    }
   ],
   "source": [
    "# Viewing info\n",
    "leads8.info()"
   ]
  },
  {
   "cell_type": "code",
   "execution_count": 258,
   "metadata": {},
   "outputs": [],
   "source": [
    "# Dummy for Lead Source column\n",
    "dummy = pd.get_dummies(leads8['Lead Source'], prefix  = 'Lead Source')\n",
    "dummy = dummy.drop(['Lead Source_Other'], axis =1)\n",
    "leads8 = pd.concat([leads8, dummy], axis = 1)"
   ]
  },
  {
   "cell_type": "code",
   "execution_count": 259,
   "metadata": {},
   "outputs": [
    {
     "name": "stdout",
     "output_type": "stream",
     "text": [
      "<class 'pandas.core.frame.DataFrame'>\n",
      "Int64Index: 9048 entries, 0 to 9239\n",
      "Data columns (total 45 columns):\n",
      " #   Column                                                Non-Null Count  Dtype  \n",
      "---  ------                                                --------------  -----  \n",
      " 0   Lead Origin                                           9048 non-null   object \n",
      " 1   Lead Source                                           9048 non-null   object \n",
      " 2   Do Not Email                                          9048 non-null   int64  \n",
      " 3   Converted                                             9048 non-null   int64  \n",
      " 4   TotalVisits                                           9048 non-null   float64\n",
      " 5   Total Time Spent on Website                           9048 non-null   int64  \n",
      " 6   Page Views Per Visit                                  9048 non-null   float64\n",
      " 7   Last Activity                                         9048 non-null   object \n",
      " 8   Specialization                                        9048 non-null   object \n",
      " 9   What is your current occupation                       9048 non-null   object \n",
      " 10  Tags                                                  9048 non-null   object \n",
      " 11  City                                                  9048 non-null   object \n",
      " 12  A free copy of Mastering The Interview                9048 non-null   int64  \n",
      " 13  Last Notable Activity                                 9048 non-null   object \n",
      " 14  Lead Origin_Landing Page Submission                   9048 non-null   uint8  \n",
      " 15  Lead Origin_Lead Add Form                             9048 non-null   uint8  \n",
      " 16  Lead Origin_Lead Import                               9048 non-null   uint8  \n",
      " 17  What is your current occupation_Housewife             9048 non-null   uint8  \n",
      " 18  What is your current occupation_Other                 9048 non-null   uint8  \n",
      " 19  What is your current occupation_Student               9048 non-null   uint8  \n",
      " 20  What is your current occupation_Unemployed            9048 non-null   uint8  \n",
      " 21  What is your current occupation_Working Professional  9048 non-null   uint8  \n",
      " 22  City_Other Cities                                     9048 non-null   uint8  \n",
      " 23  City_Other Cities of Maharashtra                      9048 non-null   uint8  \n",
      " 24  City_Other Metro Cities                               9048 non-null   uint8  \n",
      " 25  City_Thane & Outskirts                                9048 non-null   uint8  \n",
      " 26  City_Tier II Cities                                   9048 non-null   uint8  \n",
      " 27  Specialization_Banking, Investment And Insurance      9048 non-null   uint8  \n",
      " 28  Specialization_Business Administration                9048 non-null   uint8  \n",
      " 29  Specialization_E-Business                             9048 non-null   uint8  \n",
      " 30  Specialization_E-COMMERCE                             9048 non-null   uint8  \n",
      " 31  Specialization_International Business                 9048 non-null   uint8  \n",
      " 32  Specialization_Management                             9048 non-null   uint8  \n",
      " 33  Specialization_Media and Advertising                  9048 non-null   uint8  \n",
      " 34  Specialization_Rural and Agribusiness                 9048 non-null   uint8  \n",
      " 35  Specialization_Services Excellence                    9048 non-null   uint8  \n",
      " 36  Specialization_Travel and Tourism                     9048 non-null   uint8  \n",
      " 37  Lead Source_Direct Traffic                            9048 non-null   uint8  \n",
      " 38  Lead Source_Google                                    9048 non-null   uint8  \n",
      " 39  Lead Source_Olark Chat                                9048 non-null   uint8  \n",
      " 40  Lead Source_Organic Search                            9048 non-null   uint8  \n",
      " 41  Lead Source_Reference                                 9048 non-null   uint8  \n",
      " 42  Lead Source_Referral Sites                            9048 non-null   uint8  \n",
      " 43  Lead Source_Social Media                              9048 non-null   uint8  \n",
      " 44  Lead Source_Welingak Website                          9048 non-null   uint8  \n",
      "dtypes: float64(2), int64(4), object(8), uint8(31)\n",
      "memory usage: 1.6+ MB\n"
     ]
    }
   ],
   "source": [
    "# Viewing info\n",
    "leads8.info()"
   ]
  },
  {
   "cell_type": "code",
   "execution_count": 260,
   "metadata": {},
   "outputs": [
    {
     "name": "stdout",
     "output_type": "stream",
     "text": [
      "<class 'pandas.core.frame.DataFrame'>\n",
      "Int64Index: 9048 entries, 0 to 9239\n",
      "Data columns (total 53 columns):\n",
      " #   Column                                                Non-Null Count  Dtype  \n",
      "---  ------                                                --------------  -----  \n",
      " 0   Lead Origin                                           9048 non-null   object \n",
      " 1   Lead Source                                           9048 non-null   object \n",
      " 2   Do Not Email                                          9048 non-null   int64  \n",
      " 3   Converted                                             9048 non-null   int64  \n",
      " 4   TotalVisits                                           9048 non-null   float64\n",
      " 5   Total Time Spent on Website                           9048 non-null   int64  \n",
      " 6   Page Views Per Visit                                  9048 non-null   float64\n",
      " 7   Last Activity                                         9048 non-null   object \n",
      " 8   Specialization                                        9048 non-null   object \n",
      " 9   What is your current occupation                       9048 non-null   object \n",
      " 10  Tags                                                  9048 non-null   object \n",
      " 11  City                                                  9048 non-null   object \n",
      " 12  A free copy of Mastering The Interview                9048 non-null   int64  \n",
      " 13  Last Notable Activity                                 9048 non-null   object \n",
      " 14  Lead Origin_Landing Page Submission                   9048 non-null   uint8  \n",
      " 15  Lead Origin_Lead Add Form                             9048 non-null   uint8  \n",
      " 16  Lead Origin_Lead Import                               9048 non-null   uint8  \n",
      " 17  What is your current occupation_Housewife             9048 non-null   uint8  \n",
      " 18  What is your current occupation_Other                 9048 non-null   uint8  \n",
      " 19  What is your current occupation_Student               9048 non-null   uint8  \n",
      " 20  What is your current occupation_Unemployed            9048 non-null   uint8  \n",
      " 21  What is your current occupation_Working Professional  9048 non-null   uint8  \n",
      " 22  City_Other Cities                                     9048 non-null   uint8  \n",
      " 23  City_Other Cities of Maharashtra                      9048 non-null   uint8  \n",
      " 24  City_Other Metro Cities                               9048 non-null   uint8  \n",
      " 25  City_Thane & Outskirts                                9048 non-null   uint8  \n",
      " 26  City_Tier II Cities                                   9048 non-null   uint8  \n",
      " 27  Specialization_Banking, Investment And Insurance      9048 non-null   uint8  \n",
      " 28  Specialization_Business Administration                9048 non-null   uint8  \n",
      " 29  Specialization_E-Business                             9048 non-null   uint8  \n",
      " 30  Specialization_E-COMMERCE                             9048 non-null   uint8  \n",
      " 31  Specialization_International Business                 9048 non-null   uint8  \n",
      " 32  Specialization_Management                             9048 non-null   uint8  \n",
      " 33  Specialization_Media and Advertising                  9048 non-null   uint8  \n",
      " 34  Specialization_Rural and Agribusiness                 9048 non-null   uint8  \n",
      " 35  Specialization_Services Excellence                    9048 non-null   uint8  \n",
      " 36  Specialization_Travel and Tourism                     9048 non-null   uint8  \n",
      " 37  Lead Source_Direct Traffic                            9048 non-null   uint8  \n",
      " 38  Lead Source_Google                                    9048 non-null   uint8  \n",
      " 39  Lead Source_Olark Chat                                9048 non-null   uint8  \n",
      " 40  Lead Source_Organic Search                            9048 non-null   uint8  \n",
      " 41  Lead Source_Reference                                 9048 non-null   uint8  \n",
      " 42  Lead Source_Referral Sites                            9048 non-null   uint8  \n",
      " 43  Lead Source_Social Media                              9048 non-null   uint8  \n",
      " 44  Lead Source_Welingak Website                          9048 non-null   uint8  \n",
      " 45  Last Activity_Converted to Lead                       9048 non-null   uint8  \n",
      " 46  Last Activity_Email Bounced                           9048 non-null   uint8  \n",
      " 47  Last Activity_Email Link Clicked                      9048 non-null   uint8  \n",
      " 48  Last Activity_Email Opened                            9048 non-null   uint8  \n",
      " 49  Last Activity_Form Submitted on Website               9048 non-null   uint8  \n",
      " 50  Last Activity_Olark Chat Conversation                 9048 non-null   uint8  \n",
      " 51  Last Activity_Page Visited on Website                 9048 non-null   uint8  \n",
      " 52  Last Activity_SMS Sent                                9048 non-null   uint8  \n",
      "dtypes: float64(2), int64(4), object(8), uint8(39)\n",
      "memory usage: 1.7+ MB\n"
     ]
    }
   ],
   "source": [
    "# Dummy variables for Last Activity\n",
    "dummy = pd.get_dummies(leads8['Last Activity'], prefix  = 'Last Activity')\n",
    "dummy = dummy.drop(['Last Activity_Other'], axis = 1)\n",
    "leads8 = pd.concat([leads8, dummy], axis = 1)\n",
    "leads8.info()"
   ]
  },
  {
   "cell_type": "code",
   "execution_count": 261,
   "metadata": {},
   "outputs": [
    {
     "name": "stdout",
     "output_type": "stream",
     "text": [
      "<class 'pandas.core.frame.DataFrame'>\n",
      "Int64Index: 9048 entries, 0 to 9239\n",
      "Data columns (total 59 columns):\n",
      " #   Column                                                Non-Null Count  Dtype  \n",
      "---  ------                                                --------------  -----  \n",
      " 0   Lead Origin                                           9048 non-null   object \n",
      " 1   Lead Source                                           9048 non-null   object \n",
      " 2   Do Not Email                                          9048 non-null   int64  \n",
      " 3   Converted                                             9048 non-null   int64  \n",
      " 4   TotalVisits                                           9048 non-null   float64\n",
      " 5   Total Time Spent on Website                           9048 non-null   int64  \n",
      " 6   Page Views Per Visit                                  9048 non-null   float64\n",
      " 7   Last Activity                                         9048 non-null   object \n",
      " 8   Specialization                                        9048 non-null   object \n",
      " 9   What is your current occupation                       9048 non-null   object \n",
      " 10  Tags                                                  9048 non-null   object \n",
      " 11  City                                                  9048 non-null   object \n",
      " 12  A free copy of Mastering The Interview                9048 non-null   int64  \n",
      " 13  Last Notable Activity                                 9048 non-null   object \n",
      " 14  Lead Origin_Landing Page Submission                   9048 non-null   uint8  \n",
      " 15  Lead Origin_Lead Add Form                             9048 non-null   uint8  \n",
      " 16  Lead Origin_Lead Import                               9048 non-null   uint8  \n",
      " 17  What is your current occupation_Housewife             9048 non-null   uint8  \n",
      " 18  What is your current occupation_Other                 9048 non-null   uint8  \n",
      " 19  What is your current occupation_Student               9048 non-null   uint8  \n",
      " 20  What is your current occupation_Unemployed            9048 non-null   uint8  \n",
      " 21  What is your current occupation_Working Professional  9048 non-null   uint8  \n",
      " 22  City_Other Cities                                     9048 non-null   uint8  \n",
      " 23  City_Other Cities of Maharashtra                      9048 non-null   uint8  \n",
      " 24  City_Other Metro Cities                               9048 non-null   uint8  \n",
      " 25  City_Thane & Outskirts                                9048 non-null   uint8  \n",
      " 26  City_Tier II Cities                                   9048 non-null   uint8  \n",
      " 27  Specialization_Banking, Investment And Insurance      9048 non-null   uint8  \n",
      " 28  Specialization_Business Administration                9048 non-null   uint8  \n",
      " 29  Specialization_E-Business                             9048 non-null   uint8  \n",
      " 30  Specialization_E-COMMERCE                             9048 non-null   uint8  \n",
      " 31  Specialization_International Business                 9048 non-null   uint8  \n",
      " 32  Specialization_Management                             9048 non-null   uint8  \n",
      " 33  Specialization_Media and Advertising                  9048 non-null   uint8  \n",
      " 34  Specialization_Rural and Agribusiness                 9048 non-null   uint8  \n",
      " 35  Specialization_Services Excellence                    9048 non-null   uint8  \n",
      " 36  Specialization_Travel and Tourism                     9048 non-null   uint8  \n",
      " 37  Lead Source_Direct Traffic                            9048 non-null   uint8  \n",
      " 38  Lead Source_Google                                    9048 non-null   uint8  \n",
      " 39  Lead Source_Olark Chat                                9048 non-null   uint8  \n",
      " 40  Lead Source_Organic Search                            9048 non-null   uint8  \n",
      " 41  Lead Source_Reference                                 9048 non-null   uint8  \n",
      " 42  Lead Source_Referral Sites                            9048 non-null   uint8  \n",
      " 43  Lead Source_Social Media                              9048 non-null   uint8  \n",
      " 44  Lead Source_Welingak Website                          9048 non-null   uint8  \n",
      " 45  Last Activity_Converted to Lead                       9048 non-null   uint8  \n",
      " 46  Last Activity_Email Bounced                           9048 non-null   uint8  \n",
      " 47  Last Activity_Email Link Clicked                      9048 non-null   uint8  \n",
      " 48  Last Activity_Email Opened                            9048 non-null   uint8  \n",
      " 49  Last Activity_Form Submitted on Website               9048 non-null   uint8  \n",
      " 50  Last Activity_Olark Chat Conversation                 9048 non-null   uint8  \n",
      " 51  Last Activity_Page Visited on Website                 9048 non-null   uint8  \n",
      " 52  Last Activity_SMS Sent                                9048 non-null   uint8  \n",
      " 53  Last Notable Activity_Email Link Clicked              9048 non-null   uint8  \n",
      " 54  Last Notable Activity_Email Opened                    9048 non-null   uint8  \n",
      " 55  Last Notable Activity_Modified                        9048 non-null   uint8  \n",
      " 56  Last Notable Activity_Olark Chat Conversation         9048 non-null   uint8  \n",
      " 57  Last Notable Activity_Page Visited on Website         9048 non-null   uint8  \n",
      " 58  Last Notable Activity_SMS Sent                        9048 non-null   uint8  \n",
      "dtypes: float64(2), int64(4), object(8), uint8(45)\n",
      "memory usage: 1.7+ MB\n"
     ]
    }
   ],
   "source": [
    "# Dummy variable for last notable activity\n",
    "dummy = pd.get_dummies(leads8['Last Notable Activity'], prefix  = 'Last Notable Activity')\n",
    "dummy = dummy.drop(['Last Notable Activity_Other'], axis = 1)\n",
    "leads8 = pd.concat([leads8, dummy], axis = 1)\n",
    "leads8.info()"
   ]
  },
  {
   "cell_type": "code",
   "execution_count": 262,
   "metadata": {},
   "outputs": [
    {
     "name": "stdout",
     "output_type": "stream",
     "text": [
      "<class 'pandas.core.frame.DataFrame'>\n",
      "Int64Index: 9048 entries, 0 to 9239\n",
      "Data columns (total 65 columns):\n",
      " #   Column                                                Non-Null Count  Dtype  \n",
      "---  ------                                                --------------  -----  \n",
      " 0   Lead Origin                                           9048 non-null   object \n",
      " 1   Lead Source                                           9048 non-null   object \n",
      " 2   Do Not Email                                          9048 non-null   int64  \n",
      " 3   Converted                                             9048 non-null   int64  \n",
      " 4   TotalVisits                                           9048 non-null   float64\n",
      " 5   Total Time Spent on Website                           9048 non-null   int64  \n",
      " 6   Page Views Per Visit                                  9048 non-null   float64\n",
      " 7   Last Activity                                         9048 non-null   object \n",
      " 8   Specialization                                        9048 non-null   object \n",
      " 9   What is your current occupation                       9048 non-null   object \n",
      " 10  Tags                                                  9048 non-null   object \n",
      " 11  City                                                  9048 non-null   object \n",
      " 12  A free copy of Mastering The Interview                9048 non-null   int64  \n",
      " 13  Last Notable Activity                                 9048 non-null   object \n",
      " 14  Lead Origin_Landing Page Submission                   9048 non-null   uint8  \n",
      " 15  Lead Origin_Lead Add Form                             9048 non-null   uint8  \n",
      " 16  Lead Origin_Lead Import                               9048 non-null   uint8  \n",
      " 17  What is your current occupation_Housewife             9048 non-null   uint8  \n",
      " 18  What is your current occupation_Other                 9048 non-null   uint8  \n",
      " 19  What is your current occupation_Student               9048 non-null   uint8  \n",
      " 20  What is your current occupation_Unemployed            9048 non-null   uint8  \n",
      " 21  What is your current occupation_Working Professional  9048 non-null   uint8  \n",
      " 22  City_Other Cities                                     9048 non-null   uint8  \n",
      " 23  City_Other Cities of Maharashtra                      9048 non-null   uint8  \n",
      " 24  City_Other Metro Cities                               9048 non-null   uint8  \n",
      " 25  City_Thane & Outskirts                                9048 non-null   uint8  \n",
      " 26  City_Tier II Cities                                   9048 non-null   uint8  \n",
      " 27  Specialization_Banking, Investment And Insurance      9048 non-null   uint8  \n",
      " 28  Specialization_Business Administration                9048 non-null   uint8  \n",
      " 29  Specialization_E-Business                             9048 non-null   uint8  \n",
      " 30  Specialization_E-COMMERCE                             9048 non-null   uint8  \n",
      " 31  Specialization_International Business                 9048 non-null   uint8  \n",
      " 32  Specialization_Management                             9048 non-null   uint8  \n",
      " 33  Specialization_Media and Advertising                  9048 non-null   uint8  \n",
      " 34  Specialization_Rural and Agribusiness                 9048 non-null   uint8  \n",
      " 35  Specialization_Services Excellence                    9048 non-null   uint8  \n",
      " 36  Specialization_Travel and Tourism                     9048 non-null   uint8  \n",
      " 37  Lead Source_Direct Traffic                            9048 non-null   uint8  \n",
      " 38  Lead Source_Google                                    9048 non-null   uint8  \n",
      " 39  Lead Source_Olark Chat                                9048 non-null   uint8  \n",
      " 40  Lead Source_Organic Search                            9048 non-null   uint8  \n",
      " 41  Lead Source_Reference                                 9048 non-null   uint8  \n",
      " 42  Lead Source_Referral Sites                            9048 non-null   uint8  \n",
      " 43  Lead Source_Social Media                              9048 non-null   uint8  \n",
      " 44  Lead Source_Welingak Website                          9048 non-null   uint8  \n",
      " 45  Last Activity_Converted to Lead                       9048 non-null   uint8  \n",
      " 46  Last Activity_Email Bounced                           9048 non-null   uint8  \n",
      " 47  Last Activity_Email Link Clicked                      9048 non-null   uint8  \n",
      " 48  Last Activity_Email Opened                            9048 non-null   uint8  \n",
      " 49  Last Activity_Form Submitted on Website               9048 non-null   uint8  \n",
      " 50  Last Activity_Olark Chat Conversation                 9048 non-null   uint8  \n",
      " 51  Last Activity_Page Visited on Website                 9048 non-null   uint8  \n",
      " 52  Last Activity_SMS Sent                                9048 non-null   uint8  \n",
      " 53  Last Notable Activity_Email Link Clicked              9048 non-null   uint8  \n",
      " 54  Last Notable Activity_Email Opened                    9048 non-null   uint8  \n",
      " 55  Last Notable Activity_Modified                        9048 non-null   uint8  \n",
      " 56  Last Notable Activity_Olark Chat Conversation         9048 non-null   uint8  \n",
      " 57  Last Notable Activity_Page Visited on Website         9048 non-null   uint8  \n",
      " 58  Last Notable Activity_SMS Sent                        9048 non-null   uint8  \n",
      " 59  Tags_Busy                                             9048 non-null   uint8  \n",
      " 60  Tags_Interested in other courses                      9048 non-null   uint8  \n",
      " 61  Tags_Lost to EINS                                     9048 non-null   uint8  \n",
      " 62  Tags_Other                                            9048 non-null   uint8  \n",
      " 63  Tags_Ringing                                          9048 non-null   uint8  \n",
      " 64  Tags_Will revert after reading the email              9048 non-null   uint8  \n",
      "dtypes: float64(2), int64(4), object(8), uint8(51)\n",
      "memory usage: 1.8+ MB\n"
     ]
    }
   ],
   "source": [
    "# Dummy variables for Tags\n",
    "dummy = pd.get_dummies(leads8['Tags'], prefix  = 'Tags')\n",
    "dummy = dummy.drop(['Tags_Unknown'], axis = 1)\n",
    "leads8 = pd.concat([leads8, dummy], axis = 1)\n",
    "leads8.info()"
   ]
  },
  {
   "cell_type": "code",
   "execution_count": 263,
   "metadata": {},
   "outputs": [
    {
     "name": "stdout",
     "output_type": "stream",
     "text": [
      "<class 'pandas.core.frame.DataFrame'>\n",
      "Int64Index: 9048 entries, 0 to 9239\n",
      "Data columns (total 57 columns):\n",
      " #   Column                                                Non-Null Count  Dtype  \n",
      "---  ------                                                --------------  -----  \n",
      " 0   Do Not Email                                          9048 non-null   int64  \n",
      " 1   Converted                                             9048 non-null   int64  \n",
      " 2   TotalVisits                                           9048 non-null   float64\n",
      " 3   Total Time Spent on Website                           9048 non-null   int64  \n",
      " 4   Page Views Per Visit                                  9048 non-null   float64\n",
      " 5   A free copy of Mastering The Interview                9048 non-null   int64  \n",
      " 6   Lead Origin_Landing Page Submission                   9048 non-null   uint8  \n",
      " 7   Lead Origin_Lead Add Form                             9048 non-null   uint8  \n",
      " 8   Lead Origin_Lead Import                               9048 non-null   uint8  \n",
      " 9   What is your current occupation_Housewife             9048 non-null   uint8  \n",
      " 10  What is your current occupation_Other                 9048 non-null   uint8  \n",
      " 11  What is your current occupation_Student               9048 non-null   uint8  \n",
      " 12  What is your current occupation_Unemployed            9048 non-null   uint8  \n",
      " 13  What is your current occupation_Working Professional  9048 non-null   uint8  \n",
      " 14  City_Other Cities                                     9048 non-null   uint8  \n",
      " 15  City_Other Cities of Maharashtra                      9048 non-null   uint8  \n",
      " 16  City_Other Metro Cities                               9048 non-null   uint8  \n",
      " 17  City_Thane & Outskirts                                9048 non-null   uint8  \n",
      " 18  City_Tier II Cities                                   9048 non-null   uint8  \n",
      " 19  Specialization_Banking, Investment And Insurance      9048 non-null   uint8  \n",
      " 20  Specialization_Business Administration                9048 non-null   uint8  \n",
      " 21  Specialization_E-Business                             9048 non-null   uint8  \n",
      " 22  Specialization_E-COMMERCE                             9048 non-null   uint8  \n",
      " 23  Specialization_International Business                 9048 non-null   uint8  \n",
      " 24  Specialization_Management                             9048 non-null   uint8  \n",
      " 25  Specialization_Media and Advertising                  9048 non-null   uint8  \n",
      " 26  Specialization_Rural and Agribusiness                 9048 non-null   uint8  \n",
      " 27  Specialization_Services Excellence                    9048 non-null   uint8  \n",
      " 28  Specialization_Travel and Tourism                     9048 non-null   uint8  \n",
      " 29  Lead Source_Direct Traffic                            9048 non-null   uint8  \n",
      " 30  Lead Source_Google                                    9048 non-null   uint8  \n",
      " 31  Lead Source_Olark Chat                                9048 non-null   uint8  \n",
      " 32  Lead Source_Organic Search                            9048 non-null   uint8  \n",
      " 33  Lead Source_Reference                                 9048 non-null   uint8  \n",
      " 34  Lead Source_Referral Sites                            9048 non-null   uint8  \n",
      " 35  Lead Source_Social Media                              9048 non-null   uint8  \n",
      " 36  Lead Source_Welingak Website                          9048 non-null   uint8  \n",
      " 37  Last Activity_Converted to Lead                       9048 non-null   uint8  \n",
      " 38  Last Activity_Email Bounced                           9048 non-null   uint8  \n",
      " 39  Last Activity_Email Link Clicked                      9048 non-null   uint8  \n",
      " 40  Last Activity_Email Opened                            9048 non-null   uint8  \n",
      " 41  Last Activity_Form Submitted on Website               9048 non-null   uint8  \n",
      " 42  Last Activity_Olark Chat Conversation                 9048 non-null   uint8  \n",
      " 43  Last Activity_Page Visited on Website                 9048 non-null   uint8  \n",
      " 44  Last Activity_SMS Sent                                9048 non-null   uint8  \n",
      " 45  Last Notable Activity_Email Link Clicked              9048 non-null   uint8  \n",
      " 46  Last Notable Activity_Email Opened                    9048 non-null   uint8  \n",
      " 47  Last Notable Activity_Modified                        9048 non-null   uint8  \n",
      " 48  Last Notable Activity_Olark Chat Conversation         9048 non-null   uint8  \n",
      " 49  Last Notable Activity_Page Visited on Website         9048 non-null   uint8  \n",
      " 50  Last Notable Activity_SMS Sent                        9048 non-null   uint8  \n",
      " 51  Tags_Busy                                             9048 non-null   uint8  \n",
      " 52  Tags_Interested in other courses                      9048 non-null   uint8  \n",
      " 53  Tags_Lost to EINS                                     9048 non-null   uint8  \n",
      " 54  Tags_Other                                            9048 non-null   uint8  \n",
      " 55  Tags_Ringing                                          9048 non-null   uint8  \n",
      " 56  Tags_Will revert after reading the email              9048 non-null   uint8  \n",
      "dtypes: float64(2), int64(4), uint8(51)\n",
      "memory usage: 1.2 MB\n"
     ]
    }
   ],
   "source": [
    "# Drop categorical columns after making dummies\n",
    "leads9 = leads8.drop(['Lead Origin', 'Lead Source', 'Last Activity', 'Specialization', 'What is your current occupation', 'Tags', 'City', 'Last Notable Activity'], axis = 1)\n",
    "leads9.info()"
   ]
  },
  {
   "cell_type": "markdown",
   "metadata": {},
   "source": [
    "### Model Building"
   ]
  },
  {
   "cell_type": "code",
   "execution_count": 264,
   "metadata": {},
   "outputs": [
    {
     "data": {
      "text/plain": [
       "0    0\n",
       "1    0\n",
       "2    1\n",
       "3    0\n",
       "4    1\n",
       "Name: Converted, dtype: int64"
      ]
     },
     "execution_count": 264,
     "metadata": {},
     "output_type": "execute_result"
    }
   ],
   "source": [
    "# Extract y\n",
    "y = leads9.pop('Converted')\n",
    "y.head()"
   ]
  },
  {
   "cell_type": "code",
   "execution_count": 265,
   "metadata": {},
   "outputs": [
    {
     "data": {
      "text/html": [
       "<div>\n",
       "<style scoped>\n",
       "    .dataframe tbody tr th:only-of-type {\n",
       "        vertical-align: middle;\n",
       "    }\n",
       "\n",
       "    .dataframe tbody tr th {\n",
       "        vertical-align: top;\n",
       "    }\n",
       "\n",
       "    .dataframe thead th {\n",
       "        text-align: right;\n",
       "    }\n",
       "</style>\n",
       "<table border=\"1\" class=\"dataframe\">\n",
       "  <thead>\n",
       "    <tr style=\"text-align: right;\">\n",
       "      <th></th>\n",
       "      <th>Do Not Email</th>\n",
       "      <th>TotalVisits</th>\n",
       "      <th>Total Time Spent on Website</th>\n",
       "      <th>Page Views Per Visit</th>\n",
       "      <th>A free copy of Mastering The Interview</th>\n",
       "      <th>Lead Origin_Landing Page Submission</th>\n",
       "      <th>Lead Origin_Lead Add Form</th>\n",
       "      <th>Lead Origin_Lead Import</th>\n",
       "      <th>What is your current occupation_Housewife</th>\n",
       "      <th>What is your current occupation_Other</th>\n",
       "      <th>...</th>\n",
       "      <th>Last Notable Activity_Modified</th>\n",
       "      <th>Last Notable Activity_Olark Chat Conversation</th>\n",
       "      <th>Last Notable Activity_Page Visited on Website</th>\n",
       "      <th>Last Notable Activity_SMS Sent</th>\n",
       "      <th>Tags_Busy</th>\n",
       "      <th>Tags_Interested in other courses</th>\n",
       "      <th>Tags_Lost to EINS</th>\n",
       "      <th>Tags_Other</th>\n",
       "      <th>Tags_Ringing</th>\n",
       "      <th>Tags_Will revert after reading the email</th>\n",
       "    </tr>\n",
       "  </thead>\n",
       "  <tbody>\n",
       "    <tr>\n",
       "      <th>0</th>\n",
       "      <td>0</td>\n",
       "      <td>0.0</td>\n",
       "      <td>0</td>\n",
       "      <td>0.0</td>\n",
       "      <td>0</td>\n",
       "      <td>0</td>\n",
       "      <td>0</td>\n",
       "      <td>0</td>\n",
       "      <td>0</td>\n",
       "      <td>0</td>\n",
       "      <td>...</td>\n",
       "      <td>1</td>\n",
       "      <td>0</td>\n",
       "      <td>0</td>\n",
       "      <td>0</td>\n",
       "      <td>0</td>\n",
       "      <td>1</td>\n",
       "      <td>0</td>\n",
       "      <td>0</td>\n",
       "      <td>0</td>\n",
       "      <td>0</td>\n",
       "    </tr>\n",
       "    <tr>\n",
       "      <th>1</th>\n",
       "      <td>0</td>\n",
       "      <td>5.0</td>\n",
       "      <td>674</td>\n",
       "      <td>2.5</td>\n",
       "      <td>0</td>\n",
       "      <td>0</td>\n",
       "      <td>0</td>\n",
       "      <td>0</td>\n",
       "      <td>0</td>\n",
       "      <td>0</td>\n",
       "      <td>...</td>\n",
       "      <td>0</td>\n",
       "      <td>0</td>\n",
       "      <td>0</td>\n",
       "      <td>0</td>\n",
       "      <td>0</td>\n",
       "      <td>0</td>\n",
       "      <td>0</td>\n",
       "      <td>0</td>\n",
       "      <td>1</td>\n",
       "      <td>0</td>\n",
       "    </tr>\n",
       "    <tr>\n",
       "      <th>2</th>\n",
       "      <td>0</td>\n",
       "      <td>2.0</td>\n",
       "      <td>1532</td>\n",
       "      <td>2.0</td>\n",
       "      <td>1</td>\n",
       "      <td>1</td>\n",
       "      <td>0</td>\n",
       "      <td>0</td>\n",
       "      <td>0</td>\n",
       "      <td>0</td>\n",
       "      <td>...</td>\n",
       "      <td>0</td>\n",
       "      <td>0</td>\n",
       "      <td>0</td>\n",
       "      <td>0</td>\n",
       "      <td>0</td>\n",
       "      <td>0</td>\n",
       "      <td>0</td>\n",
       "      <td>0</td>\n",
       "      <td>0</td>\n",
       "      <td>1</td>\n",
       "    </tr>\n",
       "    <tr>\n",
       "      <th>3</th>\n",
       "      <td>0</td>\n",
       "      <td>1.0</td>\n",
       "      <td>305</td>\n",
       "      <td>1.0</td>\n",
       "      <td>0</td>\n",
       "      <td>1</td>\n",
       "      <td>0</td>\n",
       "      <td>0</td>\n",
       "      <td>0</td>\n",
       "      <td>0</td>\n",
       "      <td>...</td>\n",
       "      <td>1</td>\n",
       "      <td>0</td>\n",
       "      <td>0</td>\n",
       "      <td>0</td>\n",
       "      <td>0</td>\n",
       "      <td>0</td>\n",
       "      <td>0</td>\n",
       "      <td>0</td>\n",
       "      <td>1</td>\n",
       "      <td>0</td>\n",
       "    </tr>\n",
       "    <tr>\n",
       "      <th>4</th>\n",
       "      <td>0</td>\n",
       "      <td>2.0</td>\n",
       "      <td>1428</td>\n",
       "      <td>1.0</td>\n",
       "      <td>0</td>\n",
       "      <td>1</td>\n",
       "      <td>0</td>\n",
       "      <td>0</td>\n",
       "      <td>0</td>\n",
       "      <td>0</td>\n",
       "      <td>...</td>\n",
       "      <td>1</td>\n",
       "      <td>0</td>\n",
       "      <td>0</td>\n",
       "      <td>0</td>\n",
       "      <td>0</td>\n",
       "      <td>0</td>\n",
       "      <td>0</td>\n",
       "      <td>0</td>\n",
       "      <td>0</td>\n",
       "      <td>1</td>\n",
       "    </tr>\n",
       "  </tbody>\n",
       "</table>\n",
       "<p>5 rows × 56 columns</p>\n",
       "</div>"
      ],
      "text/plain": [
       "   Do Not Email  TotalVisits  Total Time Spent on Website  \\\n",
       "0             0          0.0                            0   \n",
       "1             0          5.0                          674   \n",
       "2             0          2.0                         1532   \n",
       "3             0          1.0                          305   \n",
       "4             0          2.0                         1428   \n",
       "\n",
       "   Page Views Per Visit  A free copy of Mastering The Interview  \\\n",
       "0                   0.0                                       0   \n",
       "1                   2.5                                       0   \n",
       "2                   2.0                                       1   \n",
       "3                   1.0                                       0   \n",
       "4                   1.0                                       0   \n",
       "\n",
       "   Lead Origin_Landing Page Submission  Lead Origin_Lead Add Form  \\\n",
       "0                                    0                          0   \n",
       "1                                    0                          0   \n",
       "2                                    1                          0   \n",
       "3                                    1                          0   \n",
       "4                                    1                          0   \n",
       "\n",
       "   Lead Origin_Lead Import  What is your current occupation_Housewife  \\\n",
       "0                        0                                          0   \n",
       "1                        0                                          0   \n",
       "2                        0                                          0   \n",
       "3                        0                                          0   \n",
       "4                        0                                          0   \n",
       "\n",
       "   What is your current occupation_Other  ...  Last Notable Activity_Modified  \\\n",
       "0                                      0  ...                               1   \n",
       "1                                      0  ...                               0   \n",
       "2                                      0  ...                               0   \n",
       "3                                      0  ...                               1   \n",
       "4                                      0  ...                               1   \n",
       "\n",
       "   Last Notable Activity_Olark Chat Conversation  \\\n",
       "0                                              0   \n",
       "1                                              0   \n",
       "2                                              0   \n",
       "3                                              0   \n",
       "4                                              0   \n",
       "\n",
       "   Last Notable Activity_Page Visited on Website  \\\n",
       "0                                              0   \n",
       "1                                              0   \n",
       "2                                              0   \n",
       "3                                              0   \n",
       "4                                              0   \n",
       "\n",
       "   Last Notable Activity_SMS Sent  Tags_Busy  \\\n",
       "0                               0          0   \n",
       "1                               0          0   \n",
       "2                               0          0   \n",
       "3                               0          0   \n",
       "4                               0          0   \n",
       "\n",
       "   Tags_Interested in other courses  Tags_Lost to EINS  Tags_Other  \\\n",
       "0                                 1                  0           0   \n",
       "1                                 0                  0           0   \n",
       "2                                 0                  0           0   \n",
       "3                                 0                  0           0   \n",
       "4                                 0                  0           0   \n",
       "\n",
       "   Tags_Ringing  Tags_Will revert after reading the email  \n",
       "0             0                                         0  \n",
       "1             1                                         0  \n",
       "2             0                                         1  \n",
       "3             1                                         0  \n",
       "4             0                                         1  \n",
       "\n",
       "[5 rows x 56 columns]"
      ]
     },
     "execution_count": 265,
     "metadata": {},
     "output_type": "execute_result"
    }
   ],
   "source": [
    "# Extract X\n",
    "X = leads9\n",
    "X.head()"
   ]
  },
  {
   "cell_type": "code",
   "execution_count": 266,
   "metadata": {},
   "outputs": [],
   "source": [
    "# Train Test Split\n",
    "from sklearn.model_selection import train_test_split\n",
    "X_train, X_test, y_train, y_test = train_test_split(X, y, train_size=0.7, test_size=0.3, random_state=100)"
   ]
  },
  {
   "cell_type": "code",
   "execution_count": 267,
   "metadata": {},
   "outputs": [
    {
     "name": "stdout",
     "output_type": "stream",
     "text": [
      "<class 'pandas.core.frame.DataFrame'>\n",
      "Int64Index: 6333 entries, 8425 to 5769\n",
      "Data columns (total 56 columns):\n",
      " #   Column                                                Non-Null Count  Dtype  \n",
      "---  ------                                                --------------  -----  \n",
      " 0   Do Not Email                                          6333 non-null   int64  \n",
      " 1   TotalVisits                                           6333 non-null   float64\n",
      " 2   Total Time Spent on Website                           6333 non-null   int64  \n",
      " 3   Page Views Per Visit                                  6333 non-null   float64\n",
      " 4   A free copy of Mastering The Interview                6333 non-null   int64  \n",
      " 5   Lead Origin_Landing Page Submission                   6333 non-null   uint8  \n",
      " 6   Lead Origin_Lead Add Form                             6333 non-null   uint8  \n",
      " 7   Lead Origin_Lead Import                               6333 non-null   uint8  \n",
      " 8   What is your current occupation_Housewife             6333 non-null   uint8  \n",
      " 9   What is your current occupation_Other                 6333 non-null   uint8  \n",
      " 10  What is your current occupation_Student               6333 non-null   uint8  \n",
      " 11  What is your current occupation_Unemployed            6333 non-null   uint8  \n",
      " 12  What is your current occupation_Working Professional  6333 non-null   uint8  \n",
      " 13  City_Other Cities                                     6333 non-null   uint8  \n",
      " 14  City_Other Cities of Maharashtra                      6333 non-null   uint8  \n",
      " 15  City_Other Metro Cities                               6333 non-null   uint8  \n",
      " 16  City_Thane & Outskirts                                6333 non-null   uint8  \n",
      " 17  City_Tier II Cities                                   6333 non-null   uint8  \n",
      " 18  Specialization_Banking, Investment And Insurance      6333 non-null   uint8  \n",
      " 19  Specialization_Business Administration                6333 non-null   uint8  \n",
      " 20  Specialization_E-Business                             6333 non-null   uint8  \n",
      " 21  Specialization_E-COMMERCE                             6333 non-null   uint8  \n",
      " 22  Specialization_International Business                 6333 non-null   uint8  \n",
      " 23  Specialization_Management                             6333 non-null   uint8  \n",
      " 24  Specialization_Media and Advertising                  6333 non-null   uint8  \n",
      " 25  Specialization_Rural and Agribusiness                 6333 non-null   uint8  \n",
      " 26  Specialization_Services Excellence                    6333 non-null   uint8  \n",
      " 27  Specialization_Travel and Tourism                     6333 non-null   uint8  \n",
      " 28  Lead Source_Direct Traffic                            6333 non-null   uint8  \n",
      " 29  Lead Source_Google                                    6333 non-null   uint8  \n",
      " 30  Lead Source_Olark Chat                                6333 non-null   uint8  \n",
      " 31  Lead Source_Organic Search                            6333 non-null   uint8  \n",
      " 32  Lead Source_Reference                                 6333 non-null   uint8  \n",
      " 33  Lead Source_Referral Sites                            6333 non-null   uint8  \n",
      " 34  Lead Source_Social Media                              6333 non-null   uint8  \n",
      " 35  Lead Source_Welingak Website                          6333 non-null   uint8  \n",
      " 36  Last Activity_Converted to Lead                       6333 non-null   uint8  \n",
      " 37  Last Activity_Email Bounced                           6333 non-null   uint8  \n",
      " 38  Last Activity_Email Link Clicked                      6333 non-null   uint8  \n",
      " 39  Last Activity_Email Opened                            6333 non-null   uint8  \n",
      " 40  Last Activity_Form Submitted on Website               6333 non-null   uint8  \n",
      " 41  Last Activity_Olark Chat Conversation                 6333 non-null   uint8  \n",
      " 42  Last Activity_Page Visited on Website                 6333 non-null   uint8  \n",
      " 43  Last Activity_SMS Sent                                6333 non-null   uint8  \n",
      " 44  Last Notable Activity_Email Link Clicked              6333 non-null   uint8  \n",
      " 45  Last Notable Activity_Email Opened                    6333 non-null   uint8  \n",
      " 46  Last Notable Activity_Modified                        6333 non-null   uint8  \n",
      " 47  Last Notable Activity_Olark Chat Conversation         6333 non-null   uint8  \n",
      " 48  Last Notable Activity_Page Visited on Website         6333 non-null   uint8  \n",
      " 49  Last Notable Activity_SMS Sent                        6333 non-null   uint8  \n",
      " 50  Tags_Busy                                             6333 non-null   uint8  \n",
      " 51  Tags_Interested in other courses                      6333 non-null   uint8  \n",
      " 52  Tags_Lost to EINS                                     6333 non-null   uint8  \n",
      " 53  Tags_Other                                            6333 non-null   uint8  \n",
      " 54  Tags_Ringing                                          6333 non-null   uint8  \n",
      " 55  Tags_Will revert after reading the email              6333 non-null   uint8  \n",
      "dtypes: float64(2), int64(3), uint8(51)\n",
      "memory usage: 612.3 KB\n"
     ]
    }
   ],
   "source": [
    "# Viewing changes\n",
    "X_train.info()"
   ]
  },
  {
   "cell_type": "code",
   "execution_count": 268,
   "metadata": {},
   "outputs": [
    {
     "name": "stdout",
     "output_type": "stream",
     "text": [
      "<class 'pandas.core.frame.DataFrame'>\n",
      "Int64Index: 2715 entries, 4462 to 2211\n",
      "Data columns (total 56 columns):\n",
      " #   Column                                                Non-Null Count  Dtype  \n",
      "---  ------                                                --------------  -----  \n",
      " 0   Do Not Email                                          2715 non-null   int64  \n",
      " 1   TotalVisits                                           2715 non-null   float64\n",
      " 2   Total Time Spent on Website                           2715 non-null   int64  \n",
      " 3   Page Views Per Visit                                  2715 non-null   float64\n",
      " 4   A free copy of Mastering The Interview                2715 non-null   int64  \n",
      " 5   Lead Origin_Landing Page Submission                   2715 non-null   uint8  \n",
      " 6   Lead Origin_Lead Add Form                             2715 non-null   uint8  \n",
      " 7   Lead Origin_Lead Import                               2715 non-null   uint8  \n",
      " 8   What is your current occupation_Housewife             2715 non-null   uint8  \n",
      " 9   What is your current occupation_Other                 2715 non-null   uint8  \n",
      " 10  What is your current occupation_Student               2715 non-null   uint8  \n",
      " 11  What is your current occupation_Unemployed            2715 non-null   uint8  \n",
      " 12  What is your current occupation_Working Professional  2715 non-null   uint8  \n",
      " 13  City_Other Cities                                     2715 non-null   uint8  \n",
      " 14  City_Other Cities of Maharashtra                      2715 non-null   uint8  \n",
      " 15  City_Other Metro Cities                               2715 non-null   uint8  \n",
      " 16  City_Thane & Outskirts                                2715 non-null   uint8  \n",
      " 17  City_Tier II Cities                                   2715 non-null   uint8  \n",
      " 18  Specialization_Banking, Investment And Insurance      2715 non-null   uint8  \n",
      " 19  Specialization_Business Administration                2715 non-null   uint8  \n",
      " 20  Specialization_E-Business                             2715 non-null   uint8  \n",
      " 21  Specialization_E-COMMERCE                             2715 non-null   uint8  \n",
      " 22  Specialization_International Business                 2715 non-null   uint8  \n",
      " 23  Specialization_Management                             2715 non-null   uint8  \n",
      " 24  Specialization_Media and Advertising                  2715 non-null   uint8  \n",
      " 25  Specialization_Rural and Agribusiness                 2715 non-null   uint8  \n",
      " 26  Specialization_Services Excellence                    2715 non-null   uint8  \n",
      " 27  Specialization_Travel and Tourism                     2715 non-null   uint8  \n",
      " 28  Lead Source_Direct Traffic                            2715 non-null   uint8  \n",
      " 29  Lead Source_Google                                    2715 non-null   uint8  \n",
      " 30  Lead Source_Olark Chat                                2715 non-null   uint8  \n",
      " 31  Lead Source_Organic Search                            2715 non-null   uint8  \n",
      " 32  Lead Source_Reference                                 2715 non-null   uint8  \n",
      " 33  Lead Source_Referral Sites                            2715 non-null   uint8  \n",
      " 34  Lead Source_Social Media                              2715 non-null   uint8  \n",
      " 35  Lead Source_Welingak Website                          2715 non-null   uint8  \n",
      " 36  Last Activity_Converted to Lead                       2715 non-null   uint8  \n",
      " 37  Last Activity_Email Bounced                           2715 non-null   uint8  \n",
      " 38  Last Activity_Email Link Clicked                      2715 non-null   uint8  \n",
      " 39  Last Activity_Email Opened                            2715 non-null   uint8  \n",
      " 40  Last Activity_Form Submitted on Website               2715 non-null   uint8  \n",
      " 41  Last Activity_Olark Chat Conversation                 2715 non-null   uint8  \n",
      " 42  Last Activity_Page Visited on Website                 2715 non-null   uint8  \n",
      " 43  Last Activity_SMS Sent                                2715 non-null   uint8  \n",
      " 44  Last Notable Activity_Email Link Clicked              2715 non-null   uint8  \n",
      " 45  Last Notable Activity_Email Opened                    2715 non-null   uint8  \n",
      " 46  Last Notable Activity_Modified                        2715 non-null   uint8  \n",
      " 47  Last Notable Activity_Olark Chat Conversation         2715 non-null   uint8  \n",
      " 48  Last Notable Activity_Page Visited on Website         2715 non-null   uint8  \n",
      " 49  Last Notable Activity_SMS Sent                        2715 non-null   uint8  \n",
      " 50  Tags_Busy                                             2715 non-null   uint8  \n",
      " 51  Tags_Interested in other courses                      2715 non-null   uint8  \n",
      " 52  Tags_Lost to EINS                                     2715 non-null   uint8  \n",
      " 53  Tags_Other                                            2715 non-null   uint8  \n",
      " 54  Tags_Ringing                                          2715 non-null   uint8  \n",
      " 55  Tags_Will revert after reading the email              2715 non-null   uint8  \n",
      "dtypes: float64(2), int64(3), uint8(51)\n",
      "memory usage: 262.5 KB\n"
     ]
    }
   ],
   "source": [
    "# Test X info\n",
    "X_test.info()"
   ]
  },
  {
   "cell_type": "code",
   "execution_count": 269,
   "metadata": {},
   "outputs": [
    {
     "data": {
      "text/plain": [
       "8425    0\n",
       "8341    0\n",
       "7376    0\n",
       "7414    0\n",
       "3521    1\n",
       "Name: Converted, dtype: int64"
      ]
     },
     "execution_count": 269,
     "metadata": {},
     "output_type": "execute_result"
    }
   ],
   "source": [
    "# Viewing y_train\n",
    "y_train.head()"
   ]
  },
  {
   "cell_type": "code",
   "execution_count": 270,
   "metadata": {},
   "outputs": [
    {
     "data": {
      "text/plain": [
       "4462    1\n",
       "5243    0\n",
       "4597    1\n",
       "4680    1\n",
       "5355    0\n",
       "Name: Converted, dtype: int64"
      ]
     },
     "execution_count": 270,
     "metadata": {},
     "output_type": "execute_result"
    }
   ],
   "source": [
    "# Viewing y_test\n",
    "y_test.head()"
   ]
  },
  {
   "cell_type": "code",
   "execution_count": 271,
   "metadata": {},
   "outputs": [
    {
     "data": {
      "text/html": [
       "<div>\n",
       "<style scoped>\n",
       "    .dataframe tbody tr th:only-of-type {\n",
       "        vertical-align: middle;\n",
       "    }\n",
       "\n",
       "    .dataframe tbody tr th {\n",
       "        vertical-align: top;\n",
       "    }\n",
       "\n",
       "    .dataframe thead th {\n",
       "        text-align: right;\n",
       "    }\n",
       "</style>\n",
       "<table border=\"1\" class=\"dataframe\">\n",
       "  <thead>\n",
       "    <tr style=\"text-align: right;\">\n",
       "      <th></th>\n",
       "      <th>Do Not Email</th>\n",
       "      <th>TotalVisits</th>\n",
       "      <th>Total Time Spent on Website</th>\n",
       "      <th>Page Views Per Visit</th>\n",
       "      <th>A free copy of Mastering The Interview</th>\n",
       "      <th>Lead Origin_Landing Page Submission</th>\n",
       "      <th>Lead Origin_Lead Add Form</th>\n",
       "      <th>Lead Origin_Lead Import</th>\n",
       "      <th>What is your current occupation_Housewife</th>\n",
       "      <th>What is your current occupation_Other</th>\n",
       "      <th>...</th>\n",
       "      <th>Last Notable Activity_Modified</th>\n",
       "      <th>Last Notable Activity_Olark Chat Conversation</th>\n",
       "      <th>Last Notable Activity_Page Visited on Website</th>\n",
       "      <th>Last Notable Activity_SMS Sent</th>\n",
       "      <th>Tags_Busy</th>\n",
       "      <th>Tags_Interested in other courses</th>\n",
       "      <th>Tags_Lost to EINS</th>\n",
       "      <th>Tags_Other</th>\n",
       "      <th>Tags_Ringing</th>\n",
       "      <th>Tags_Will revert after reading the email</th>\n",
       "    </tr>\n",
       "  </thead>\n",
       "  <tbody>\n",
       "    <tr>\n",
       "      <th>8425</th>\n",
       "      <td>0</td>\n",
       "      <td>-1.015121</td>\n",
       "      <td>-0.878510</td>\n",
       "      <td>-1.145788</td>\n",
       "      <td>0</td>\n",
       "      <td>0</td>\n",
       "      <td>0</td>\n",
       "      <td>0</td>\n",
       "      <td>0</td>\n",
       "      <td>0</td>\n",
       "      <td>...</td>\n",
       "      <td>0</td>\n",
       "      <td>0</td>\n",
       "      <td>0</td>\n",
       "      <td>0</td>\n",
       "      <td>0</td>\n",
       "      <td>0</td>\n",
       "      <td>0</td>\n",
       "      <td>0</td>\n",
       "      <td>0</td>\n",
       "      <td>0</td>\n",
       "    </tr>\n",
       "    <tr>\n",
       "      <th>8341</th>\n",
       "      <td>0</td>\n",
       "      <td>-1.015121</td>\n",
       "      <td>-0.878510</td>\n",
       "      <td>-1.145788</td>\n",
       "      <td>0</td>\n",
       "      <td>0</td>\n",
       "      <td>0</td>\n",
       "      <td>0</td>\n",
       "      <td>0</td>\n",
       "      <td>0</td>\n",
       "      <td>...</td>\n",
       "      <td>0</td>\n",
       "      <td>0</td>\n",
       "      <td>0</td>\n",
       "      <td>0</td>\n",
       "      <td>0</td>\n",
       "      <td>0</td>\n",
       "      <td>0</td>\n",
       "      <td>0</td>\n",
       "      <td>0</td>\n",
       "      <td>0</td>\n",
       "    </tr>\n",
       "    <tr>\n",
       "      <th>7376</th>\n",
       "      <td>0</td>\n",
       "      <td>-0.402157</td>\n",
       "      <td>-0.071940</td>\n",
       "      <td>-0.165214</td>\n",
       "      <td>1</td>\n",
       "      <td>1</td>\n",
       "      <td>0</td>\n",
       "      <td>0</td>\n",
       "      <td>0</td>\n",
       "      <td>0</td>\n",
       "      <td>...</td>\n",
       "      <td>0</td>\n",
       "      <td>0</td>\n",
       "      <td>0</td>\n",
       "      <td>0</td>\n",
       "      <td>0</td>\n",
       "      <td>0</td>\n",
       "      <td>0</td>\n",
       "      <td>1</td>\n",
       "      <td>0</td>\n",
       "      <td>0</td>\n",
       "    </tr>\n",
       "    <tr>\n",
       "      <th>7414</th>\n",
       "      <td>0</td>\n",
       "      <td>-1.015121</td>\n",
       "      <td>-0.878510</td>\n",
       "      <td>-1.145788</td>\n",
       "      <td>0</td>\n",
       "      <td>0</td>\n",
       "      <td>0</td>\n",
       "      <td>0</td>\n",
       "      <td>0</td>\n",
       "      <td>0</td>\n",
       "      <td>...</td>\n",
       "      <td>1</td>\n",
       "      <td>0</td>\n",
       "      <td>0</td>\n",
       "      <td>0</td>\n",
       "      <td>0</td>\n",
       "      <td>0</td>\n",
       "      <td>0</td>\n",
       "      <td>1</td>\n",
       "      <td>0</td>\n",
       "      <td>0</td>\n",
       "    </tr>\n",
       "    <tr>\n",
       "      <th>3521</th>\n",
       "      <td>0</td>\n",
       "      <td>0.517288</td>\n",
       "      <td>1.213416</td>\n",
       "      <td>1.305648</td>\n",
       "      <td>0</td>\n",
       "      <td>1</td>\n",
       "      <td>0</td>\n",
       "      <td>0</td>\n",
       "      <td>0</td>\n",
       "      <td>0</td>\n",
       "      <td>...</td>\n",
       "      <td>0</td>\n",
       "      <td>0</td>\n",
       "      <td>0</td>\n",
       "      <td>1</td>\n",
       "      <td>0</td>\n",
       "      <td>0</td>\n",
       "      <td>0</td>\n",
       "      <td>0</td>\n",
       "      <td>0</td>\n",
       "      <td>1</td>\n",
       "    </tr>\n",
       "  </tbody>\n",
       "</table>\n",
       "<p>5 rows × 56 columns</p>\n",
       "</div>"
      ],
      "text/plain": [
       "      Do Not Email  TotalVisits  Total Time Spent on Website  \\\n",
       "8425             0    -1.015121                    -0.878510   \n",
       "8341             0    -1.015121                    -0.878510   \n",
       "7376             0    -0.402157                    -0.071940   \n",
       "7414             0    -1.015121                    -0.878510   \n",
       "3521             0     0.517288                     1.213416   \n",
       "\n",
       "      Page Views Per Visit  A free copy of Mastering The Interview  \\\n",
       "8425             -1.145788                                       0   \n",
       "8341             -1.145788                                       0   \n",
       "7376             -0.165214                                       1   \n",
       "7414             -1.145788                                       0   \n",
       "3521              1.305648                                       0   \n",
       "\n",
       "      Lead Origin_Landing Page Submission  Lead Origin_Lead Add Form  \\\n",
       "8425                                    0                          0   \n",
       "8341                                    0                          0   \n",
       "7376                                    1                          0   \n",
       "7414                                    0                          0   \n",
       "3521                                    1                          0   \n",
       "\n",
       "      Lead Origin_Lead Import  What is your current occupation_Housewife  \\\n",
       "8425                        0                                          0   \n",
       "8341                        0                                          0   \n",
       "7376                        0                                          0   \n",
       "7414                        0                                          0   \n",
       "3521                        0                                          0   \n",
       "\n",
       "      What is your current occupation_Other  ...  \\\n",
       "8425                                      0  ...   \n",
       "8341                                      0  ...   \n",
       "7376                                      0  ...   \n",
       "7414                                      0  ...   \n",
       "3521                                      0  ...   \n",
       "\n",
       "      Last Notable Activity_Modified  \\\n",
       "8425                               0   \n",
       "8341                               0   \n",
       "7376                               0   \n",
       "7414                               1   \n",
       "3521                               0   \n",
       "\n",
       "      Last Notable Activity_Olark Chat Conversation  \\\n",
       "8425                                              0   \n",
       "8341                                              0   \n",
       "7376                                              0   \n",
       "7414                                              0   \n",
       "3521                                              0   \n",
       "\n",
       "      Last Notable Activity_Page Visited on Website  \\\n",
       "8425                                              0   \n",
       "8341                                              0   \n",
       "7376                                              0   \n",
       "7414                                              0   \n",
       "3521                                              0   \n",
       "\n",
       "      Last Notable Activity_SMS Sent  Tags_Busy  \\\n",
       "8425                               0          0   \n",
       "8341                               0          0   \n",
       "7376                               0          0   \n",
       "7414                               0          0   \n",
       "3521                               1          0   \n",
       "\n",
       "      Tags_Interested in other courses  Tags_Lost to EINS  Tags_Other  \\\n",
       "8425                                 0                  0           0   \n",
       "8341                                 0                  0           0   \n",
       "7376                                 0                  0           1   \n",
       "7414                                 0                  0           1   \n",
       "3521                                 0                  0           0   \n",
       "\n",
       "      Tags_Ringing  Tags_Will revert after reading the email  \n",
       "8425             0                                         0  \n",
       "8341             0                                         0  \n",
       "7376             0                                         0  \n",
       "7414             0                                         0  \n",
       "3521             0                                         1  \n",
       "\n",
       "[5 rows x 56 columns]"
      ]
     },
     "execution_count": 271,
     "metadata": {},
     "output_type": "execute_result"
    }
   ],
   "source": [
    "# Scaling the variables\n",
    "from sklearn.preprocessing import StandardScaler\n",
    "scaler = StandardScaler()\n",
    "cols_to_scale = ['TotalVisits', 'Total Time Spent on Website', 'Page Views Per Visit']\n",
    "X_train[cols_to_scale] = scaler.fit_transform(X_train[cols_to_scale])\n",
    "X_train.head()"
   ]
  },
  {
   "cell_type": "code",
   "execution_count": 272,
   "metadata": {},
   "outputs": [],
   "source": [
    "# Use stats model and sklearn to build the model\n",
    "import statsmodels.api as sm\n",
    "from sklearn.linear_model import LogisticRegression\n",
    "from sklearn.feature_selection import RFE\n",
    "log = LogisticRegression()\n",
    "rfe = RFE(log, 15) # generate 15 variables as output of feature selection\n",
    "rfe = rfe.fit(X_train, y_train)"
   ]
  },
  {
   "cell_type": "code",
   "execution_count": 273,
   "metadata": {},
   "outputs": [
    {
     "data": {
      "text/plain": [
       "Index(['Do Not Email', 'Total Time Spent on Website',\n",
       "       'Lead Origin_Lead Add Form',\n",
       "       'What is your current occupation_Housewife',\n",
       "       'What is your current occupation_Working Professional',\n",
       "       'Lead Source_Direct Traffic', 'Lead Source_Welingak Website',\n",
       "       'Last Activity_Converted to Lead',\n",
       "       'Last Activity_Olark Chat Conversation',\n",
       "       'Last Notable Activity_SMS Sent', 'Tags_Busy',\n",
       "       'Tags_Interested in other courses', 'Tags_Lost to EINS', 'Tags_Ringing',\n",
       "       'Tags_Will revert after reading the email'],\n",
       "      dtype='object')"
      ]
     },
     "execution_count": 273,
     "metadata": {},
     "output_type": "execute_result"
    }
   ],
   "source": [
    "rfe_select = X_train.columns[rfe.support_]\n",
    "rfe_select # those variables which rfe algorithm has selected"
   ]
  },
  {
   "cell_type": "code",
   "execution_count": 274,
   "metadata": {},
   "outputs": [
    {
     "data": {
      "text/html": [
       "<table class=\"simpletable\">\n",
       "<caption>Generalized Linear Model Regression Results</caption>\n",
       "<tr>\n",
       "  <th>Dep. Variable:</th>       <td>Converted</td>    <th>  No. Observations:  </th>  <td>  6333</td> \n",
       "</tr>\n",
       "<tr>\n",
       "  <th>Model:</th>                  <td>GLM</td>       <th>  Df Residuals:      </th>  <td>  6317</td> \n",
       "</tr>\n",
       "<tr>\n",
       "  <th>Model Family:</th>        <td>Binomial</td>     <th>  Df Model:          </th>  <td>    15</td> \n",
       "</tr>\n",
       "<tr>\n",
       "  <th>Link Function:</th>         <td>logit</td>      <th>  Scale:             </th> <td>  1.0000</td>\n",
       "</tr>\n",
       "<tr>\n",
       "  <th>Method:</th>                <td>IRLS</td>       <th>  Log-Likelihood:    </th> <td> -1548.1</td>\n",
       "</tr>\n",
       "<tr>\n",
       "  <th>Date:</th>            <td>Wed, 09 Jun 2021</td> <th>  Deviance:          </th> <td>  3096.3</td>\n",
       "</tr>\n",
       "<tr>\n",
       "  <th>Time:</th>                <td>17:44:08</td>     <th>  Pearson chi2:      </th> <td>1.00e+04</td>\n",
       "</tr>\n",
       "<tr>\n",
       "  <th>No. Iterations:</th>         <td>21</td>        <th>                     </th>     <td> </td>   \n",
       "</tr>\n",
       "<tr>\n",
       "  <th>Covariance Type:</th>     <td>nonrobust</td>    <th>                     </th>     <td> </td>   \n",
       "</tr>\n",
       "</table>\n",
       "<table class=\"simpletable\">\n",
       "<tr>\n",
       "                            <td></td>                              <th>coef</th>     <th>std err</th>      <th>z</th>      <th>P>|z|</th>  <th>[0.025</th>    <th>0.975]</th>  \n",
       "</tr>\n",
       "<tr>\n",
       "  <th>const</th>                                                <td>   -1.4574</td> <td>    0.070</td> <td>  -20.931</td> <td> 0.000</td> <td>   -1.594</td> <td>   -1.321</td>\n",
       "</tr>\n",
       "<tr>\n",
       "  <th>Do Not Email</th>                                         <td>   -1.5554</td> <td>    0.227</td> <td>   -6.853</td> <td> 0.000</td> <td>   -2.000</td> <td>   -1.111</td>\n",
       "</tr>\n",
       "<tr>\n",
       "  <th>Total Time Spent on Website</th>                          <td>    0.8900</td> <td>    0.047</td> <td>   18.954</td> <td> 0.000</td> <td>    0.798</td> <td>    0.982</td>\n",
       "</tr>\n",
       "<tr>\n",
       "  <th>Lead Origin_Lead Add Form</th>                            <td>    3.3656</td> <td>    0.279</td> <td>   12.051</td> <td> 0.000</td> <td>    2.818</td> <td>    3.913</td>\n",
       "</tr>\n",
       "<tr>\n",
       "  <th>What is your current occupation_Housewife</th>            <td>   22.0312</td> <td> 1.28e+04</td> <td>    0.002</td> <td> 0.999</td> <td>-2.51e+04</td> <td> 2.51e+04</td>\n",
       "</tr>\n",
       "<tr>\n",
       "  <th>What is your current occupation_Working Professional</th> <td>    1.7948</td> <td>    0.285</td> <td>    6.307</td> <td> 0.000</td> <td>    1.237</td> <td>    2.353</td>\n",
       "</tr>\n",
       "<tr>\n",
       "  <th>Lead Source_Direct Traffic</th>                           <td>   -0.7821</td> <td>    0.111</td> <td>   -7.056</td> <td> 0.000</td> <td>   -0.999</td> <td>   -0.565</td>\n",
       "</tr>\n",
       "<tr>\n",
       "  <th>Lead Source_Welingak Website</th>                         <td>    2.8183</td> <td>    1.051</td> <td>    2.681</td> <td> 0.007</td> <td>    0.758</td> <td>    4.879</td>\n",
       "</tr>\n",
       "<tr>\n",
       "  <th>Last Activity_Converted to Lead</th>                      <td>   -1.6333</td> <td>    0.321</td> <td>   -5.087</td> <td> 0.000</td> <td>   -2.263</td> <td>   -1.004</td>\n",
       "</tr>\n",
       "<tr>\n",
       "  <th>Last Activity_Olark Chat Conversation</th>                <td>   -1.0346</td> <td>    0.198</td> <td>   -5.233</td> <td> 0.000</td> <td>   -1.422</td> <td>   -0.647</td>\n",
       "</tr>\n",
       "<tr>\n",
       "  <th>Last Notable Activity_SMS Sent</th>                       <td>    2.0139</td> <td>    0.114</td> <td>   17.704</td> <td> 0.000</td> <td>    1.791</td> <td>    2.237</td>\n",
       "</tr>\n",
       "<tr>\n",
       "  <th>Tags_Busy</th>                                            <td>    1.0104</td> <td>    0.221</td> <td>    4.564</td> <td> 0.000</td> <td>    0.576</td> <td>    1.444</td>\n",
       "</tr>\n",
       "<tr>\n",
       "  <th>Tags_Interested in other courses</th>                     <td>   -2.4579</td> <td>    0.392</td> <td>   -6.272</td> <td> 0.000</td> <td>   -3.226</td> <td>   -1.690</td>\n",
       "</tr>\n",
       "<tr>\n",
       "  <th>Tags_Lost to EINS</th>                                    <td>    5.4327</td> <td>    0.601</td> <td>    9.032</td> <td> 0.000</td> <td>    4.254</td> <td>    6.612</td>\n",
       "</tr>\n",
       "<tr>\n",
       "  <th>Tags_Ringing</th>                                         <td>   -3.3158</td> <td>    0.239</td> <td>  -13.871</td> <td> 0.000</td> <td>   -3.784</td> <td>   -2.847</td>\n",
       "</tr>\n",
       "<tr>\n",
       "  <th>Tags_Will revert after reading the email</th>             <td>    4.2374</td> <td>    0.177</td> <td>   23.906</td> <td> 0.000</td> <td>    3.890</td> <td>    4.585</td>\n",
       "</tr>\n",
       "</table>"
      ],
      "text/plain": [
       "<class 'statsmodels.iolib.summary.Summary'>\n",
       "\"\"\"\n",
       "                 Generalized Linear Model Regression Results                  \n",
       "==============================================================================\n",
       "Dep. Variable:              Converted   No. Observations:                 6333\n",
       "Model:                            GLM   Df Residuals:                     6317\n",
       "Model Family:                Binomial   Df Model:                           15\n",
       "Link Function:                  logit   Scale:                          1.0000\n",
       "Method:                          IRLS   Log-Likelihood:                -1548.1\n",
       "Date:                Wed, 09 Jun 2021   Deviance:                       3096.3\n",
       "Time:                        17:44:08   Pearson chi2:                 1.00e+04\n",
       "No. Iterations:                    21                                         \n",
       "Covariance Type:            nonrobust                                         \n",
       "========================================================================================================================\n",
       "                                                           coef    std err          z      P>|z|      [0.025      0.975]\n",
       "------------------------------------------------------------------------------------------------------------------------\n",
       "const                                                   -1.4574      0.070    -20.931      0.000      -1.594      -1.321\n",
       "Do Not Email                                            -1.5554      0.227     -6.853      0.000      -2.000      -1.111\n",
       "Total Time Spent on Website                              0.8900      0.047     18.954      0.000       0.798       0.982\n",
       "Lead Origin_Lead Add Form                                3.3656      0.279     12.051      0.000       2.818       3.913\n",
       "What is your current occupation_Housewife               22.0312   1.28e+04      0.002      0.999   -2.51e+04    2.51e+04\n",
       "What is your current occupation_Working Professional     1.7948      0.285      6.307      0.000       1.237       2.353\n",
       "Lead Source_Direct Traffic                              -0.7821      0.111     -7.056      0.000      -0.999      -0.565\n",
       "Lead Source_Welingak Website                             2.8183      1.051      2.681      0.007       0.758       4.879\n",
       "Last Activity_Converted to Lead                         -1.6333      0.321     -5.087      0.000      -2.263      -1.004\n",
       "Last Activity_Olark Chat Conversation                   -1.0346      0.198     -5.233      0.000      -1.422      -0.647\n",
       "Last Notable Activity_SMS Sent                           2.0139      0.114     17.704      0.000       1.791       2.237\n",
       "Tags_Busy                                                1.0104      0.221      4.564      0.000       0.576       1.444\n",
       "Tags_Interested in other courses                        -2.4579      0.392     -6.272      0.000      -3.226      -1.690\n",
       "Tags_Lost to EINS                                        5.4327      0.601      9.032      0.000       4.254       6.612\n",
       "Tags_Ringing                                            -3.3158      0.239    -13.871      0.000      -3.784      -2.847\n",
       "Tags_Will revert after reading the email                 4.2374      0.177     23.906      0.000       3.890       4.585\n",
       "========================================================================================================================\n",
       "\"\"\""
      ]
     },
     "execution_count": 274,
     "metadata": {},
     "output_type": "execute_result"
    }
   ],
   "source": [
    "# Building the model and viewing result\n",
    "X_train_sm = sm.add_constant(X_train[rfe_select])\n",
    "logm = sm.GLM(y_train,X_train_sm, family = sm.families.Binomial())\n",
    "result = logm.fit()\n",
    "result.summary()"
   ]
  },
  {
   "cell_type": "code",
   "execution_count": 275,
   "metadata": {},
   "outputs": [],
   "source": [
    "# Drop variable with high p value\n",
    "rfe_select1 = rfe_select.drop('What is your current occupation_Housewife',1)"
   ]
  },
  {
   "cell_type": "code",
   "execution_count": 276,
   "metadata": {},
   "outputs": [
    {
     "data": {
      "text/html": [
       "<table class=\"simpletable\">\n",
       "<caption>Generalized Linear Model Regression Results</caption>\n",
       "<tr>\n",
       "  <th>Dep. Variable:</th>       <td>Converted</td>    <th>  No. Observations:  </th>  <td>  6333</td> \n",
       "</tr>\n",
       "<tr>\n",
       "  <th>Model:</th>                  <td>GLM</td>       <th>  Df Residuals:      </th>  <td>  6318</td> \n",
       "</tr>\n",
       "<tr>\n",
       "  <th>Model Family:</th>        <td>Binomial</td>     <th>  Df Model:          </th>  <td>    14</td> \n",
       "</tr>\n",
       "<tr>\n",
       "  <th>Link Function:</th>         <td>logit</td>      <th>  Scale:             </th> <td>  1.0000</td>\n",
       "</tr>\n",
       "<tr>\n",
       "  <th>Method:</th>                <td>IRLS</td>       <th>  Log-Likelihood:    </th> <td> -1551.7</td>\n",
       "</tr>\n",
       "<tr>\n",
       "  <th>Date:</th>            <td>Wed, 09 Jun 2021</td> <th>  Deviance:          </th> <td>  3103.4</td>\n",
       "</tr>\n",
       "<tr>\n",
       "  <th>Time:</th>                <td>17:44:09</td>     <th>  Pearson chi2:      </th> <td>1.01e+04</td>\n",
       "</tr>\n",
       "<tr>\n",
       "  <th>No. Iterations:</th>          <td>8</td>        <th>                     </th>     <td> </td>   \n",
       "</tr>\n",
       "<tr>\n",
       "  <th>Covariance Type:</th>     <td>nonrobust</td>    <th>                     </th>     <td> </td>   \n",
       "</tr>\n",
       "</table>\n",
       "<table class=\"simpletable\">\n",
       "<tr>\n",
       "                            <td></td>                              <th>coef</th>     <th>std err</th>      <th>z</th>      <th>P>|z|</th>  <th>[0.025</th>    <th>0.975]</th>  \n",
       "</tr>\n",
       "<tr>\n",
       "  <th>const</th>                                                <td>   -1.4518</td> <td>    0.069</td> <td>  -20.890</td> <td> 0.000</td> <td>   -1.588</td> <td>   -1.316</td>\n",
       "</tr>\n",
       "<tr>\n",
       "  <th>Do Not Email</th>                                         <td>   -1.5603</td> <td>    0.227</td> <td>   -6.876</td> <td> 0.000</td> <td>   -2.005</td> <td>   -1.116</td>\n",
       "</tr>\n",
       "<tr>\n",
       "  <th>Total Time Spent on Website</th>                          <td>    0.8906</td> <td>    0.047</td> <td>   18.977</td> <td> 0.000</td> <td>    0.799</td> <td>    0.983</td>\n",
       "</tr>\n",
       "<tr>\n",
       "  <th>Lead Origin_Lead Add Form</th>                            <td>    3.3799</td> <td>    0.279</td> <td>   12.134</td> <td> 0.000</td> <td>    2.834</td> <td>    3.926</td>\n",
       "</tr>\n",
       "<tr>\n",
       "  <th>What is your current occupation_Working Professional</th> <td>    1.7874</td> <td>    0.285</td> <td>    6.280</td> <td> 0.000</td> <td>    1.230</td> <td>    2.345</td>\n",
       "</tr>\n",
       "<tr>\n",
       "  <th>Lead Source_Direct Traffic</th>                           <td>   -0.7775</td> <td>    0.111</td> <td>   -7.028</td> <td> 0.000</td> <td>   -0.994</td> <td>   -0.561</td>\n",
       "</tr>\n",
       "<tr>\n",
       "  <th>Lead Source_Welingak Website</th>                         <td>    2.8013</td> <td>    1.051</td> <td>    2.665</td> <td> 0.008</td> <td>    0.741</td> <td>    4.861</td>\n",
       "</tr>\n",
       "<tr>\n",
       "  <th>Last Activity_Converted to Lead</th>                      <td>   -1.6400</td> <td>    0.321</td> <td>   -5.109</td> <td> 0.000</td> <td>   -2.269</td> <td>   -1.011</td>\n",
       "</tr>\n",
       "<tr>\n",
       "  <th>Last Activity_Olark Chat Conversation</th>                <td>   -1.0400</td> <td>    0.198</td> <td>   -5.261</td> <td> 0.000</td> <td>   -1.427</td> <td>   -0.653</td>\n",
       "</tr>\n",
       "<tr>\n",
       "  <th>Last Notable Activity_SMS Sent</th>                       <td>    2.0079</td> <td>    0.114</td> <td>   17.662</td> <td> 0.000</td> <td>    1.785</td> <td>    2.231</td>\n",
       "</tr>\n",
       "<tr>\n",
       "  <th>Tags_Busy</th>                                            <td>    1.0058</td> <td>    0.221</td> <td>    4.544</td> <td> 0.000</td> <td>    0.572</td> <td>    1.440</td>\n",
       "</tr>\n",
       "<tr>\n",
       "  <th>Tags_Interested in other courses</th>                     <td>   -2.4622</td> <td>    0.392</td> <td>   -6.283</td> <td> 0.000</td> <td>   -3.230</td> <td>   -1.694</td>\n",
       "</tr>\n",
       "<tr>\n",
       "  <th>Tags_Lost to EINS</th>                                    <td>    5.4266</td> <td>    0.602</td> <td>    9.022</td> <td> 0.000</td> <td>    4.248</td> <td>    6.606</td>\n",
       "</tr>\n",
       "<tr>\n",
       "  <th>Tags_Ringing</th>                                         <td>   -3.3201</td> <td>    0.239</td> <td>  -13.887</td> <td> 0.000</td> <td>   -3.789</td> <td>   -2.851</td>\n",
       "</tr>\n",
       "<tr>\n",
       "  <th>Tags_Will revert after reading the email</th>             <td>    4.2372</td> <td>    0.177</td> <td>   23.917</td> <td> 0.000</td> <td>    3.890</td> <td>    4.584</td>\n",
       "</tr>\n",
       "</table>"
      ],
      "text/plain": [
       "<class 'statsmodels.iolib.summary.Summary'>\n",
       "\"\"\"\n",
       "                 Generalized Linear Model Regression Results                  \n",
       "==============================================================================\n",
       "Dep. Variable:              Converted   No. Observations:                 6333\n",
       "Model:                            GLM   Df Residuals:                     6318\n",
       "Model Family:                Binomial   Df Model:                           14\n",
       "Link Function:                  logit   Scale:                          1.0000\n",
       "Method:                          IRLS   Log-Likelihood:                -1551.7\n",
       "Date:                Wed, 09 Jun 2021   Deviance:                       3103.4\n",
       "Time:                        17:44:09   Pearson chi2:                 1.01e+04\n",
       "No. Iterations:                     8                                         \n",
       "Covariance Type:            nonrobust                                         \n",
       "========================================================================================================================\n",
       "                                                           coef    std err          z      P>|z|      [0.025      0.975]\n",
       "------------------------------------------------------------------------------------------------------------------------\n",
       "const                                                   -1.4518      0.069    -20.890      0.000      -1.588      -1.316\n",
       "Do Not Email                                            -1.5603      0.227     -6.876      0.000      -2.005      -1.116\n",
       "Total Time Spent on Website                              0.8906      0.047     18.977      0.000       0.799       0.983\n",
       "Lead Origin_Lead Add Form                                3.3799      0.279     12.134      0.000       2.834       3.926\n",
       "What is your current occupation_Working Professional     1.7874      0.285      6.280      0.000       1.230       2.345\n",
       "Lead Source_Direct Traffic                              -0.7775      0.111     -7.028      0.000      -0.994      -0.561\n",
       "Lead Source_Welingak Website                             2.8013      1.051      2.665      0.008       0.741       4.861\n",
       "Last Activity_Converted to Lead                         -1.6400      0.321     -5.109      0.000      -2.269      -1.011\n",
       "Last Activity_Olark Chat Conversation                   -1.0400      0.198     -5.261      0.000      -1.427      -0.653\n",
       "Last Notable Activity_SMS Sent                           2.0079      0.114     17.662      0.000       1.785       2.231\n",
       "Tags_Busy                                                1.0058      0.221      4.544      0.000       0.572       1.440\n",
       "Tags_Interested in other courses                        -2.4622      0.392     -6.283      0.000      -3.230      -1.694\n",
       "Tags_Lost to EINS                                        5.4266      0.602      9.022      0.000       4.248       6.606\n",
       "Tags_Ringing                                            -3.3201      0.239    -13.887      0.000      -3.789      -2.851\n",
       "Tags_Will revert after reading the email                 4.2372      0.177     23.917      0.000       3.890       4.584\n",
       "========================================================================================================================\n",
       "\"\"\""
      ]
     },
     "execution_count": 276,
     "metadata": {},
     "output_type": "execute_result"
    }
   ],
   "source": [
    "# Rebuild the model and view result\n",
    "X_train_sm1 = sm.add_constant(X_train[rfe_select1])\n",
    "logm2 = sm.GLM(y_train,X_train_sm1, family = sm.families.Binomial())\n",
    "result = logm2.fit()\n",
    "result.summary()"
   ]
  },
  {
   "cell_type": "code",
   "execution_count": 277,
   "metadata": {},
   "outputs": [
    {
     "data": {
      "text/html": [
       "<div>\n",
       "<style scoped>\n",
       "    .dataframe tbody tr th:only-of-type {\n",
       "        vertical-align: middle;\n",
       "    }\n",
       "\n",
       "    .dataframe tbody tr th {\n",
       "        vertical-align: top;\n",
       "    }\n",
       "\n",
       "    .dataframe thead th {\n",
       "        text-align: right;\n",
       "    }\n",
       "</style>\n",
       "<table border=\"1\" class=\"dataframe\">\n",
       "  <thead>\n",
       "    <tr style=\"text-align: right;\">\n",
       "      <th></th>\n",
       "      <th>Features</th>\n",
       "      <th>VIF</th>\n",
       "    </tr>\n",
       "  </thead>\n",
       "  <tbody>\n",
       "    <tr>\n",
       "      <th>13</th>\n",
       "      <td>Tags_Will revert after reading the email</td>\n",
       "      <td>1.70</td>\n",
       "    </tr>\n",
       "    <tr>\n",
       "      <th>2</th>\n",
       "      <td>Lead Origin_Lead Add Form</td>\n",
       "      <td>1.60</td>\n",
       "    </tr>\n",
       "    <tr>\n",
       "      <th>8</th>\n",
       "      <td>Last Notable Activity_SMS Sent</td>\n",
       "      <td>1.45</td>\n",
       "    </tr>\n",
       "    <tr>\n",
       "      <th>5</th>\n",
       "      <td>Lead Source_Welingak Website</td>\n",
       "      <td>1.33</td>\n",
       "    </tr>\n",
       "    <tr>\n",
       "      <th>3</th>\n",
       "      <td>What is your current occupation_Working Profes...</td>\n",
       "      <td>1.31</td>\n",
       "    </tr>\n",
       "    <tr>\n",
       "      <th>4</th>\n",
       "      <td>Lead Source_Direct Traffic</td>\n",
       "      <td>1.29</td>\n",
       "    </tr>\n",
       "    <tr>\n",
       "      <th>1</th>\n",
       "      <td>Total Time Spent on Website</td>\n",
       "      <td>1.22</td>\n",
       "    </tr>\n",
       "    <tr>\n",
       "      <th>12</th>\n",
       "      <td>Tags_Ringing</td>\n",
       "      <td>1.15</td>\n",
       "    </tr>\n",
       "    <tr>\n",
       "      <th>7</th>\n",
       "      <td>Last Activity_Olark Chat Conversation</td>\n",
       "      <td>1.08</td>\n",
       "    </tr>\n",
       "    <tr>\n",
       "      <th>0</th>\n",
       "      <td>Do Not Email</td>\n",
       "      <td>1.07</td>\n",
       "    </tr>\n",
       "    <tr>\n",
       "      <th>10</th>\n",
       "      <td>Tags_Interested in other courses</td>\n",
       "      <td>1.06</td>\n",
       "    </tr>\n",
       "    <tr>\n",
       "      <th>6</th>\n",
       "      <td>Last Activity_Converted to Lead</td>\n",
       "      <td>1.05</td>\n",
       "    </tr>\n",
       "    <tr>\n",
       "      <th>9</th>\n",
       "      <td>Tags_Busy</td>\n",
       "      <td>1.04</td>\n",
       "    </tr>\n",
       "    <tr>\n",
       "      <th>11</th>\n",
       "      <td>Tags_Lost to EINS</td>\n",
       "      <td>1.03</td>\n",
       "    </tr>\n",
       "  </tbody>\n",
       "</table>\n",
       "</div>"
      ],
      "text/plain": [
       "                                             Features   VIF\n",
       "13           Tags_Will revert after reading the email  1.70\n",
       "2                           Lead Origin_Lead Add Form  1.60\n",
       "8                      Last Notable Activity_SMS Sent  1.45\n",
       "5                        Lead Source_Welingak Website  1.33\n",
       "3   What is your current occupation_Working Profes...  1.31\n",
       "4                          Lead Source_Direct Traffic  1.29\n",
       "1                         Total Time Spent on Website  1.22\n",
       "12                                       Tags_Ringing  1.15\n",
       "7               Last Activity_Olark Chat Conversation  1.08\n",
       "0                                        Do Not Email  1.07\n",
       "10                   Tags_Interested in other courses  1.06\n",
       "6                     Last Activity_Converted to Lead  1.05\n",
       "9                                           Tags_Busy  1.04\n",
       "11                                  Tags_Lost to EINS  1.03"
      ]
     },
     "execution_count": 277,
     "metadata": {},
     "output_type": "execute_result"
    }
   ],
   "source": [
    "# Since all p values are acceptable, we can do vif check\n",
    "from statsmodels.stats.outliers_influence import variance_inflation_factor\n",
    "vif = pd.DataFrame()\n",
    "vif['Features'] = X_train[rfe_select1].columns\n",
    "vif['VIF'] = [variance_inflation_factor(X_train[rfe_select1].values, i) for i in range(X_train[rfe_select1].shape[1])]\n",
    "vif['VIF'] = round(vif['VIF'], 2)\n",
    "vif = vif.sort_values(by = \"VIF\", ascending = False)\n",
    "vif"
   ]
  },
  {
   "cell_type": "markdown",
   "metadata": {},
   "source": [
    "Since all VIF values are well within the acceptable range we can make predictions with this model."
   ]
  },
  {
   "cell_type": "markdown",
   "metadata": {},
   "source": [
    "### Making Predictions"
   ]
  },
  {
   "cell_type": "code",
   "execution_count": 278,
   "metadata": {},
   "outputs": [
    {
     "data": {
      "text/plain": [
       "8425    0.096723\n",
       "8341    0.096723\n",
       "7376    0.091672\n",
       "7414    0.096723\n",
       "3521    0.999530\n",
       "6623    0.036468\n",
       "4651    0.860606\n",
       "1240    0.036468\n",
       "7692    0.443671\n",
       "7473    0.037760\n",
       "dtype: float64"
      ]
     },
     "execution_count": 278,
     "metadata": {},
     "output_type": "execute_result"
    }
   ],
   "source": [
    "# Predicting y for train data\n",
    "y_train_pred = result.predict(X_train_sm1)\n",
    "y_train_pred[:10]"
   ]
  },
  {
   "cell_type": "code",
   "execution_count": 279,
   "metadata": {},
   "outputs": [
    {
     "data": {
      "text/plain": [
       "array([0.09672257, 0.09672257, 0.09167238, 0.09672257, 0.99952953,\n",
       "       0.0364679 , 0.86060639, 0.0364679 , 0.44367084, 0.03775981])"
      ]
     },
     "execution_count": 279,
     "metadata": {},
     "output_type": "execute_result"
    }
   ],
   "source": [
    "# Reshape the array\n",
    "y_train_pred = y_train_pred.values.reshape(-1)\n",
    "y_train_pred[:10]"
   ]
  },
  {
   "cell_type": "code",
   "execution_count": 280,
   "metadata": {},
   "outputs": [
    {
     "data": {
      "text/plain": [
       "array([ 9.67225722,  9.67225722,  9.1672379 ,  9.67225722, 99.95295323,\n",
       "        3.64679012, 86.06063913,  3.64679012, 44.36708377,  3.77598105])"
      ]
     },
     "execution_count": 280,
     "metadata": {},
     "output_type": "execute_result"
    }
   ],
   "source": [
    "# Find the Lead Score\n",
    "lead_score = y_train_pred*100\n",
    "lead_score[:10]"
   ]
  },
  {
   "cell_type": "code",
   "execution_count": 281,
   "metadata": {},
   "outputs": [
    {
     "data": {
      "text/html": [
       "<div>\n",
       "<style scoped>\n",
       "    .dataframe tbody tr th:only-of-type {\n",
       "        vertical-align: middle;\n",
       "    }\n",
       "\n",
       "    .dataframe tbody tr th {\n",
       "        vertical-align: top;\n",
       "    }\n",
       "\n",
       "    .dataframe thead th {\n",
       "        text-align: right;\n",
       "    }\n",
       "</style>\n",
       "<table border=\"1\" class=\"dataframe\">\n",
       "  <thead>\n",
       "    <tr style=\"text-align: right;\">\n",
       "      <th></th>\n",
       "      <th>Converted</th>\n",
       "      <th>Converted_prob</th>\n",
       "      <th>Lead Score</th>\n",
       "      <th>Prospect Number</th>\n",
       "    </tr>\n",
       "  </thead>\n",
       "  <tbody>\n",
       "    <tr>\n",
       "      <th>0</th>\n",
       "      <td>0</td>\n",
       "      <td>0.096723</td>\n",
       "      <td>9.672257</td>\n",
       "      <td>8425</td>\n",
       "    </tr>\n",
       "    <tr>\n",
       "      <th>1</th>\n",
       "      <td>0</td>\n",
       "      <td>0.096723</td>\n",
       "      <td>9.672257</td>\n",
       "      <td>8341</td>\n",
       "    </tr>\n",
       "    <tr>\n",
       "      <th>2</th>\n",
       "      <td>0</td>\n",
       "      <td>0.091672</td>\n",
       "      <td>9.167238</td>\n",
       "      <td>7376</td>\n",
       "    </tr>\n",
       "    <tr>\n",
       "      <th>3</th>\n",
       "      <td>0</td>\n",
       "      <td>0.096723</td>\n",
       "      <td>9.672257</td>\n",
       "      <td>7414</td>\n",
       "    </tr>\n",
       "    <tr>\n",
       "      <th>4</th>\n",
       "      <td>1</td>\n",
       "      <td>0.999530</td>\n",
       "      <td>99.952953</td>\n",
       "      <td>3521</td>\n",
       "    </tr>\n",
       "  </tbody>\n",
       "</table>\n",
       "</div>"
      ],
      "text/plain": [
       "   Converted  Converted_prob  Lead Score  Prospect Number\n",
       "0          0        0.096723    9.672257             8425\n",
       "1          0        0.096723    9.672257             8341\n",
       "2          0        0.091672    9.167238             7376\n",
       "3          0        0.096723    9.672257             7414\n",
       "4          1        0.999530   99.952953             3521"
      ]
     },
     "execution_count": 281,
     "metadata": {},
     "output_type": "execute_result"
    }
   ],
   "source": [
    "# Final dataframe\n",
    "y_train_pred_final = pd.DataFrame({'Converted':y_train.values, 'Converted_prob':y_train_pred, 'Lead Score':lead_score})\n",
    "y_train_pred_final['Prospect Number'] = y_train.index\n",
    "y_train_pred_final.head()"
   ]
  },
  {
   "cell_type": "code",
   "execution_count": 282,
   "metadata": {},
   "outputs": [
    {
     "data": {
      "text/html": [
       "<div>\n",
       "<style scoped>\n",
       "    .dataframe tbody tr th:only-of-type {\n",
       "        vertical-align: middle;\n",
       "    }\n",
       "\n",
       "    .dataframe tbody tr th {\n",
       "        vertical-align: top;\n",
       "    }\n",
       "\n",
       "    .dataframe thead th {\n",
       "        text-align: right;\n",
       "    }\n",
       "</style>\n",
       "<table border=\"1\" class=\"dataframe\">\n",
       "  <thead>\n",
       "    <tr style=\"text-align: right;\">\n",
       "      <th></th>\n",
       "      <th>Converted</th>\n",
       "      <th>Converted_prob</th>\n",
       "      <th>Lead Score</th>\n",
       "      <th>Prospect Number</th>\n",
       "      <th>Predicted</th>\n",
       "    </tr>\n",
       "  </thead>\n",
       "  <tbody>\n",
       "    <tr>\n",
       "      <th>0</th>\n",
       "      <td>0</td>\n",
       "      <td>0.096723</td>\n",
       "      <td>9.672257</td>\n",
       "      <td>8425</td>\n",
       "      <td>0</td>\n",
       "    </tr>\n",
       "    <tr>\n",
       "      <th>1</th>\n",
       "      <td>0</td>\n",
       "      <td>0.096723</td>\n",
       "      <td>9.672257</td>\n",
       "      <td>8341</td>\n",
       "      <td>0</td>\n",
       "    </tr>\n",
       "    <tr>\n",
       "      <th>2</th>\n",
       "      <td>0</td>\n",
       "      <td>0.091672</td>\n",
       "      <td>9.167238</td>\n",
       "      <td>7376</td>\n",
       "      <td>0</td>\n",
       "    </tr>\n",
       "    <tr>\n",
       "      <th>3</th>\n",
       "      <td>0</td>\n",
       "      <td>0.096723</td>\n",
       "      <td>9.672257</td>\n",
       "      <td>7414</td>\n",
       "      <td>0</td>\n",
       "    </tr>\n",
       "    <tr>\n",
       "      <th>4</th>\n",
       "      <td>1</td>\n",
       "      <td>0.999530</td>\n",
       "      <td>99.952953</td>\n",
       "      <td>3521</td>\n",
       "      <td>1</td>\n",
       "    </tr>\n",
       "  </tbody>\n",
       "</table>\n",
       "</div>"
      ],
      "text/plain": [
       "   Converted  Converted_prob  Lead Score  Prospect Number  Predicted\n",
       "0          0        0.096723    9.672257             8425          0\n",
       "1          0        0.096723    9.672257             8341          0\n",
       "2          0        0.091672    9.167238             7376          0\n",
       "3          0        0.096723    9.672257             7414          0\n",
       "4          1        0.999530   99.952953             3521          1"
      ]
     },
     "execution_count": 282,
     "metadata": {},
     "output_type": "execute_result"
    }
   ],
   "source": [
    "# Set the cutoff temporarily as 0.5 and make predictions\n",
    "y_train_pred_final['Predicted'] = y_train_pred_final['Converted_prob'].map(lambda x: 1 if x > 0.5 else 0)\n",
    "y_train_pred_final.head()"
   ]
  },
  {
   "cell_type": "code",
   "execution_count": 283,
   "metadata": {},
   "outputs": [
    {
     "name": "stdout",
     "output_type": "stream",
     "text": [
      "[[3732  207]\n",
      " [ 450 1944]]\n"
     ]
    }
   ],
   "source": [
    "# Create the confusion matrix\n",
    "from sklearn import metrics as m\n",
    "confusion = m.confusion_matrix(y_train_pred_final.Converted, y_train_pred_final.Predicted )\n",
    "print(confusion)"
   ]
  },
  {
   "cell_type": "code",
   "execution_count": 284,
   "metadata": {},
   "outputs": [
    {
     "name": "stdout",
     "output_type": "stream",
     "text": [
      "0.896257697773567\n"
     ]
    }
   ],
   "source": [
    "# Accuracy of the model\n",
    "print(m.accuracy_score(y_train_pred_final.Converted, y_train_pred_final.Predicted))"
   ]
  },
  {
   "cell_type": "code",
   "execution_count": 285,
   "metadata": {},
   "outputs": [],
   "source": [
    "# Extract TP,TN,FP,FN from Confusion Matrix\n",
    "TP = confusion[1,1] # true positive \n",
    "TN = confusion[0,0] # true negatives\n",
    "FP = confusion[0,1] # false positives\n",
    "FN = confusion[1,0] # false negatives"
   ]
  },
  {
   "cell_type": "code",
   "execution_count": 286,
   "metadata": {},
   "outputs": [
    {
     "data": {
      "text/plain": [
       "0.8120300751879699"
      ]
     },
     "execution_count": 286,
     "metadata": {},
     "output_type": "execute_result"
    }
   ],
   "source": [
    "# Sensitivity\n",
    "TP /(TP+FN)"
   ]
  },
  {
   "cell_type": "code",
   "execution_count": 287,
   "metadata": {},
   "outputs": [
    {
     "data": {
      "text/plain": [
       "0.9474485910129474"
      ]
     },
     "execution_count": 287,
     "metadata": {},
     "output_type": "execute_result"
    }
   ],
   "source": [
    "# Specificity\n",
    "TN /(TN+FP)"
   ]
  },
  {
   "cell_type": "code",
   "execution_count": 288,
   "metadata": {},
   "outputs": [
    {
     "data": {
      "text/plain": [
       "0.05255140898705255"
      ]
     },
     "execution_count": 288,
     "metadata": {},
     "output_type": "execute_result"
    }
   ],
   "source": [
    "# False Positive Rate\n",
    "FP/(TN+FP)"
   ]
  },
  {
   "cell_type": "code",
   "execution_count": 289,
   "metadata": {},
   "outputs": [
    {
     "data": {
      "text/plain": [
       "0.9037656903765691"
      ]
     },
     "execution_count": 289,
     "metadata": {},
     "output_type": "execute_result"
    }
   ],
   "source": [
    "# Positive Predictive Value \n",
    "TP/(TP+FP)"
   ]
  },
  {
   "cell_type": "code",
   "execution_count": 290,
   "metadata": {},
   "outputs": [
    {
     "data": {
      "text/plain": [
       "0.8923959827833573"
      ]
     },
     "execution_count": 290,
     "metadata": {},
     "output_type": "execute_result"
    }
   ],
   "source": [
    "# Negative predictive value\n",
    "TN /(TN+ FN)"
   ]
  },
  {
   "cell_type": "code",
   "execution_count": 291,
   "metadata": {},
   "outputs": [],
   "source": [
    "# Define function to draw ROC curve(same as used in Logistic Regression Module)\n",
    "def draw_roc( actual, probs ):\n",
    "    fpr, tpr, thresholds = m.roc_curve( actual, probs,\n",
    "                                              drop_intermediate = False )\n",
    "    auc_score = m.roc_auc_score( actual, probs )\n",
    "    plt.figure(figsize=(5, 5))\n",
    "    plt.plot( fpr, tpr, label='ROC curve (area = %0.2f)' % auc_score )\n",
    "    plt.plot([0, 1], [0, 1], 'k--')\n",
    "    plt.xlim([0.0, 1.0])\n",
    "    plt.ylim([0.0, 1.05])\n",
    "    plt.xlabel('False Positive Rate or [1 - True Negative Rate]')\n",
    "    plt.ylabel('True Positive Rate')\n",
    "    plt.title('Receiver operating characteristic for Lead Conversion')\n",
    "    plt.legend(loc=\"lower right\")\n",
    "    plt.show()\n",
    "\n",
    "    return None"
   ]
  },
  {
   "cell_type": "code",
   "execution_count": 292,
   "metadata": {},
   "outputs": [
    {
     "data": {
      "image/png": "[encoded data removed]",
      "text/plain": [
       "<Figure size 360x360 with 1 Axes>"
      ]
     },
     "metadata": {
      "needs_background": "light"
     },
     "output_type": "display_data"
    }
   ],
   "source": [
    "# Plot the ROC\n",
    "draw_roc(y_train_pred_final.Converted, y_train_pred_final.Converted_prob)"
   ]
  },
  {
   "cell_type": "markdown",
   "metadata": {},
   "source": [
    "### Finding Optimal Cutoff"
   ]
  },
  {
   "cell_type": "code",
   "execution_count": 293,
   "metadata": {},
   "outputs": [
    {
     "data": {
      "text/html": [
       "<div>\n",
       "<style scoped>\n",
       "    .dataframe tbody tr th:only-of-type {\n",
       "        vertical-align: middle;\n",
       "    }\n",
       "\n",
       "    .dataframe tbody tr th {\n",
       "        vertical-align: top;\n",
       "    }\n",
       "\n",
       "    .dataframe thead th {\n",
       "        text-align: right;\n",
       "    }\n",
       "</style>\n",
       "<table border=\"1\" class=\"dataframe\">\n",
       "  <thead>\n",
       "    <tr style=\"text-align: right;\">\n",
       "      <th></th>\n",
       "      <th>Converted</th>\n",
       "      <th>Converted_prob</th>\n",
       "      <th>Lead Score</th>\n",
       "      <th>Prospect Number</th>\n",
       "      <th>Predicted</th>\n",
       "      <th>0.0</th>\n",
       "      <th>0.1</th>\n",
       "      <th>0.2</th>\n",
       "      <th>0.3</th>\n",
       "      <th>0.4</th>\n",
       "      <th>0.5</th>\n",
       "      <th>0.6</th>\n",
       "      <th>0.7</th>\n",
       "      <th>0.8</th>\n",
       "      <th>0.9</th>\n",
       "    </tr>\n",
       "  </thead>\n",
       "  <tbody>\n",
       "    <tr>\n",
       "      <th>0</th>\n",
       "      <td>0</td>\n",
       "      <td>0.096723</td>\n",
       "      <td>9.672257</td>\n",
       "      <td>8425</td>\n",
       "      <td>0</td>\n",
       "      <td>1</td>\n",
       "      <td>0</td>\n",
       "      <td>0</td>\n",
       "      <td>0</td>\n",
       "      <td>0</td>\n",
       "      <td>0</td>\n",
       "      <td>0</td>\n",
       "      <td>0</td>\n",
       "      <td>0</td>\n",
       "      <td>0</td>\n",
       "    </tr>\n",
       "    <tr>\n",
       "      <th>1</th>\n",
       "      <td>0</td>\n",
       "      <td>0.096723</td>\n",
       "      <td>9.672257</td>\n",
       "      <td>8341</td>\n",
       "      <td>0</td>\n",
       "      <td>1</td>\n",
       "      <td>0</td>\n",
       "      <td>0</td>\n",
       "      <td>0</td>\n",
       "      <td>0</td>\n",
       "      <td>0</td>\n",
       "      <td>0</td>\n",
       "      <td>0</td>\n",
       "      <td>0</td>\n",
       "      <td>0</td>\n",
       "    </tr>\n",
       "    <tr>\n",
       "      <th>2</th>\n",
       "      <td>0</td>\n",
       "      <td>0.091672</td>\n",
       "      <td>9.167238</td>\n",
       "      <td>7376</td>\n",
       "      <td>0</td>\n",
       "      <td>1</td>\n",
       "      <td>0</td>\n",
       "      <td>0</td>\n",
       "      <td>0</td>\n",
       "      <td>0</td>\n",
       "      <td>0</td>\n",
       "      <td>0</td>\n",
       "      <td>0</td>\n",
       "      <td>0</td>\n",
       "      <td>0</td>\n",
       "    </tr>\n",
       "    <tr>\n",
       "      <th>3</th>\n",
       "      <td>0</td>\n",
       "      <td>0.096723</td>\n",
       "      <td>9.672257</td>\n",
       "      <td>7414</td>\n",
       "      <td>0</td>\n",
       "      <td>1</td>\n",
       "      <td>0</td>\n",
       "      <td>0</td>\n",
       "      <td>0</td>\n",
       "      <td>0</td>\n",
       "      <td>0</td>\n",
       "      <td>0</td>\n",
       "      <td>0</td>\n",
       "      <td>0</td>\n",
       "      <td>0</td>\n",
       "    </tr>\n",
       "    <tr>\n",
       "      <th>4</th>\n",
       "      <td>1</td>\n",
       "      <td>0.999530</td>\n",
       "      <td>99.952953</td>\n",
       "      <td>3521</td>\n",
       "      <td>1</td>\n",
       "      <td>1</td>\n",
       "      <td>1</td>\n",
       "      <td>1</td>\n",
       "      <td>1</td>\n",
       "      <td>1</td>\n",
       "      <td>1</td>\n",
       "      <td>1</td>\n",
       "      <td>1</td>\n",
       "      <td>1</td>\n",
       "      <td>1</td>\n",
       "    </tr>\n",
       "  </tbody>\n",
       "</table>\n",
       "</div>"
      ],
      "text/plain": [
       "   Converted  Converted_prob  Lead Score  Prospect Number  Predicted  0.0  \\\n",
       "0          0        0.096723    9.672257             8425          0    1   \n",
       "1          0        0.096723    9.672257             8341          0    1   \n",
       "2          0        0.091672    9.167238             7376          0    1   \n",
       "3          0        0.096723    9.672257             7414          0    1   \n",
       "4          1        0.999530   99.952953             3521          1    1   \n",
       "\n",
       "   0.1  0.2  0.3  0.4  0.5  0.6  0.7  0.8  0.9  \n",
       "0    0    0    0    0    0    0    0    0    0  \n",
       "1    0    0    0    0    0    0    0    0    0  \n",
       "2    0    0    0    0    0    0    0    0    0  \n",
       "3    0    0    0    0    0    0    0    0    0  \n",
       "4    1    1    1    1    1    1    1    1    1  "
      ]
     },
     "execution_count": 293,
     "metadata": {},
     "output_type": "execute_result"
    }
   ],
   "source": [
    "# Find the predicted value for cutoff between 0 and 1\n",
    "points = [float(n)/10 for n in range(10)]\n",
    "for i in points:\n",
    "    y_train_pred_final[i]= y_train_pred_final['Converted_prob'].map(lambda x: 1 if x > i else 0)\n",
    "y_train_pred_final.head()"
   ]
  },
  {
   "cell_type": "code",
   "execution_count": 294,
   "metadata": {},
   "outputs": [
    {
     "name": "stdout",
     "output_type": "stream",
     "text": [
      "     prob  accuracy     sensi     speci\n",
      "0.0   0.0  0.378020  1.000000  0.000000\n",
      "0.1   0.1  0.786041  0.950710  0.685961\n",
      "0.2   0.2  0.883468  0.922306  0.859863\n",
      "0.3   0.3  0.894047  0.899749  0.890581\n",
      "0.4   0.4  0.901311  0.871763  0.919269\n",
      "0.5   0.5  0.896258  0.812030  0.947449\n",
      "0.6   0.6  0.899100  0.788221  0.966489\n",
      "0.7   0.7  0.895942  0.763158  0.976644\n",
      "0.8   0.8  0.880467  0.711362  0.983244\n",
      "0.9   0.9  0.854571  0.631161  0.990353\n"
     ]
    }
   ],
   "source": [
    "# Find accuracy, sensitivity, specificity for each cutoff point defined\n",
    "find_cutoff = pd.DataFrame( columns = ['prob','accuracy','sensi','speci'])\n",
    "for i in points:\n",
    "    cm1 = m.confusion_matrix(y_train_pred_final.Converted, y_train_pred_final[i] )\n",
    "    total1=sum(sum(cm1))\n",
    "    accuracy = (cm1[0,0]+cm1[1,1])/total1\n",
    "    \n",
    "    speci = cm1[0,0]/(cm1[0,0]+cm1[0,1])\n",
    "    sensi = cm1[1,1]/(cm1[1,0]+cm1[1,1])\n",
    "    find_cutoff.loc[i] =[ i ,accuracy,sensi,speci]\n",
    "print(find_cutoff)"
   ]
  },
  {
   "cell_type": "code",
   "execution_count": 295,
   "metadata": {},
   "outputs": [
    {
     "data": {
      "image/png": "[encoded data removed]",
      "text/plain": [
       "<Figure size 432x288 with 1 Axes>"
      ]
     },
     "metadata": {
      "needs_background": "light"
     },
     "output_type": "display_data"
    }
   ],
   "source": [
    "# Plot curves using the above data\n",
    "find_cutoff.plot.line(x='prob', y=['accuracy','sensi','speci'])\n",
    "plt.show() # We find that 0.3 is the optimal cutoff"
   ]
  },
  {
   "cell_type": "code",
   "execution_count": 296,
   "metadata": {},
   "outputs": [
    {
     "data": {
      "text/html": [
       "<div>\n",
       "<style scoped>\n",
       "    .dataframe tbody tr th:only-of-type {\n",
       "        vertical-align: middle;\n",
       "    }\n",
       "\n",
       "    .dataframe tbody tr th {\n",
       "        vertical-align: top;\n",
       "    }\n",
       "\n",
       "    .dataframe thead th {\n",
       "        text-align: right;\n",
       "    }\n",
       "</style>\n",
       "<table border=\"1\" class=\"dataframe\">\n",
       "  <thead>\n",
       "    <tr style=\"text-align: right;\">\n",
       "      <th></th>\n",
       "      <th>Converted</th>\n",
       "      <th>Converted_prob</th>\n",
       "      <th>Lead Score</th>\n",
       "      <th>Prospect Number</th>\n",
       "      <th>Predicted</th>\n",
       "      <th>0.0</th>\n",
       "      <th>0.1</th>\n",
       "      <th>0.2</th>\n",
       "      <th>0.3</th>\n",
       "      <th>0.4</th>\n",
       "      <th>0.5</th>\n",
       "      <th>0.6</th>\n",
       "      <th>0.7</th>\n",
       "      <th>0.8</th>\n",
       "      <th>0.9</th>\n",
       "      <th>final_Predicted</th>\n",
       "    </tr>\n",
       "  </thead>\n",
       "  <tbody>\n",
       "    <tr>\n",
       "      <th>0</th>\n",
       "      <td>0</td>\n",
       "      <td>0.096723</td>\n",
       "      <td>9.672257</td>\n",
       "      <td>8425</td>\n",
       "      <td>0</td>\n",
       "      <td>1</td>\n",
       "      <td>0</td>\n",
       "      <td>0</td>\n",
       "      <td>0</td>\n",
       "      <td>0</td>\n",
       "      <td>0</td>\n",
       "      <td>0</td>\n",
       "      <td>0</td>\n",
       "      <td>0</td>\n",
       "      <td>0</td>\n",
       "      <td>0</td>\n",
       "    </tr>\n",
       "    <tr>\n",
       "      <th>1</th>\n",
       "      <td>0</td>\n",
       "      <td>0.096723</td>\n",
       "      <td>9.672257</td>\n",
       "      <td>8341</td>\n",
       "      <td>0</td>\n",
       "      <td>1</td>\n",
       "      <td>0</td>\n",
       "      <td>0</td>\n",
       "      <td>0</td>\n",
       "      <td>0</td>\n",
       "      <td>0</td>\n",
       "      <td>0</td>\n",
       "      <td>0</td>\n",
       "      <td>0</td>\n",
       "      <td>0</td>\n",
       "      <td>0</td>\n",
       "    </tr>\n",
       "    <tr>\n",
       "      <th>2</th>\n",
       "      <td>0</td>\n",
       "      <td>0.091672</td>\n",
       "      <td>9.167238</td>\n",
       "      <td>7376</td>\n",
       "      <td>0</td>\n",
       "      <td>1</td>\n",
       "      <td>0</td>\n",
       "      <td>0</td>\n",
       "      <td>0</td>\n",
       "      <td>0</td>\n",
       "      <td>0</td>\n",
       "      <td>0</td>\n",
       "      <td>0</td>\n",
       "      <td>0</td>\n",
       "      <td>0</td>\n",
       "      <td>0</td>\n",
       "    </tr>\n",
       "    <tr>\n",
       "      <th>3</th>\n",
       "      <td>0</td>\n",
       "      <td>0.096723</td>\n",
       "      <td>9.672257</td>\n",
       "      <td>7414</td>\n",
       "      <td>0</td>\n",
       "      <td>1</td>\n",
       "      <td>0</td>\n",
       "      <td>0</td>\n",
       "      <td>0</td>\n",
       "      <td>0</td>\n",
       "      <td>0</td>\n",
       "      <td>0</td>\n",
       "      <td>0</td>\n",
       "      <td>0</td>\n",
       "      <td>0</td>\n",
       "      <td>0</td>\n",
       "    </tr>\n",
       "    <tr>\n",
       "      <th>4</th>\n",
       "      <td>1</td>\n",
       "      <td>0.999530</td>\n",
       "      <td>99.952953</td>\n",
       "      <td>3521</td>\n",
       "      <td>1</td>\n",
       "      <td>1</td>\n",
       "      <td>1</td>\n",
       "      <td>1</td>\n",
       "      <td>1</td>\n",
       "      <td>1</td>\n",
       "      <td>1</td>\n",
       "      <td>1</td>\n",
       "      <td>1</td>\n",
       "      <td>1</td>\n",
       "      <td>1</td>\n",
       "      <td>1</td>\n",
       "    </tr>\n",
       "  </tbody>\n",
       "</table>\n",
       "</div>"
      ],
      "text/plain": [
       "   Converted  Converted_prob  Lead Score  Prospect Number  Predicted  0.0  \\\n",
       "0          0        0.096723    9.672257             8425          0    1   \n",
       "1          0        0.096723    9.672257             8341          0    1   \n",
       "2          0        0.091672    9.167238             7376          0    1   \n",
       "3          0        0.096723    9.672257             7414          0    1   \n",
       "4          1        0.999530   99.952953             3521          1    1   \n",
       "\n",
       "   0.1  0.2  0.3  0.4  0.5  0.6  0.7  0.8  0.9  final_Predicted  \n",
       "0    0    0    0    0    0    0    0    0    0                0  \n",
       "1    0    0    0    0    0    0    0    0    0                0  \n",
       "2    0    0    0    0    0    0    0    0    0                0  \n",
       "3    0    0    0    0    0    0    0    0    0                0  \n",
       "4    1    1    1    1    1    1    1    1    1                1  "
      ]
     },
     "execution_count": 296,
     "metadata": {},
     "output_type": "execute_result"
    }
   ],
   "source": [
    "# Make final prediction using optimal cutoff\n",
    "y_train_pred_final['final_Predicted'] = y_train_pred_final['Converted_prob'].map( lambda x: 1 if x > 0.3 else 0)\n",
    "\n",
    "y_train_pred_final.head()"
   ]
  },
  {
   "cell_type": "code",
   "execution_count": 297,
   "metadata": {},
   "outputs": [
    {
     "data": {
      "text/html": [
       "<div>\n",
       "<style scoped>\n",
       "    .dataframe tbody tr th:only-of-type {\n",
       "        vertical-align: middle;\n",
       "    }\n",
       "\n",
       "    .dataframe tbody tr th {\n",
       "        vertical-align: top;\n",
       "    }\n",
       "\n",
       "    .dataframe thead th {\n",
       "        text-align: right;\n",
       "    }\n",
       "</style>\n",
       "<table border=\"1\" class=\"dataframe\">\n",
       "  <thead>\n",
       "    <tr style=\"text-align: right;\">\n",
       "      <th></th>\n",
       "      <th>Converted</th>\n",
       "      <th>Converted_prob</th>\n",
       "      <th>Lead Score</th>\n",
       "      <th>Prospect Number</th>\n",
       "      <th>Predicted</th>\n",
       "      <th>0.0</th>\n",
       "      <th>0.1</th>\n",
       "      <th>0.2</th>\n",
       "      <th>0.3</th>\n",
       "      <th>0.4</th>\n",
       "      <th>0.5</th>\n",
       "      <th>0.6</th>\n",
       "      <th>0.7</th>\n",
       "      <th>0.8</th>\n",
       "      <th>0.9</th>\n",
       "      <th>final_Predicted</th>\n",
       "    </tr>\n",
       "  </thead>\n",
       "  <tbody>\n",
       "    <tr>\n",
       "      <th>0</th>\n",
       "      <td>0</td>\n",
       "      <td>0.10</td>\n",
       "      <td>9.67</td>\n",
       "      <td>8425</td>\n",
       "      <td>0</td>\n",
       "      <td>1</td>\n",
       "      <td>0</td>\n",
       "      <td>0</td>\n",
       "      <td>0</td>\n",
       "      <td>0</td>\n",
       "      <td>0</td>\n",
       "      <td>0</td>\n",
       "      <td>0</td>\n",
       "      <td>0</td>\n",
       "      <td>0</td>\n",
       "      <td>0</td>\n",
       "    </tr>\n",
       "    <tr>\n",
       "      <th>1</th>\n",
       "      <td>0</td>\n",
       "      <td>0.10</td>\n",
       "      <td>9.67</td>\n",
       "      <td>8341</td>\n",
       "      <td>0</td>\n",
       "      <td>1</td>\n",
       "      <td>0</td>\n",
       "      <td>0</td>\n",
       "      <td>0</td>\n",
       "      <td>0</td>\n",
       "      <td>0</td>\n",
       "      <td>0</td>\n",
       "      <td>0</td>\n",
       "      <td>0</td>\n",
       "      <td>0</td>\n",
       "      <td>0</td>\n",
       "    </tr>\n",
       "    <tr>\n",
       "      <th>2</th>\n",
       "      <td>0</td>\n",
       "      <td>0.09</td>\n",
       "      <td>9.17</td>\n",
       "      <td>7376</td>\n",
       "      <td>0</td>\n",
       "      <td>1</td>\n",
       "      <td>0</td>\n",
       "      <td>0</td>\n",
       "      <td>0</td>\n",
       "      <td>0</td>\n",
       "      <td>0</td>\n",
       "      <td>0</td>\n",
       "      <td>0</td>\n",
       "      <td>0</td>\n",
       "      <td>0</td>\n",
       "      <td>0</td>\n",
       "    </tr>\n",
       "    <tr>\n",
       "      <th>3</th>\n",
       "      <td>0</td>\n",
       "      <td>0.10</td>\n",
       "      <td>9.67</td>\n",
       "      <td>7414</td>\n",
       "      <td>0</td>\n",
       "      <td>1</td>\n",
       "      <td>0</td>\n",
       "      <td>0</td>\n",
       "      <td>0</td>\n",
       "      <td>0</td>\n",
       "      <td>0</td>\n",
       "      <td>0</td>\n",
       "      <td>0</td>\n",
       "      <td>0</td>\n",
       "      <td>0</td>\n",
       "      <td>0</td>\n",
       "    </tr>\n",
       "    <tr>\n",
       "      <th>4</th>\n",
       "      <td>1</td>\n",
       "      <td>1.00</td>\n",
       "      <td>99.95</td>\n",
       "      <td>3521</td>\n",
       "      <td>1</td>\n",
       "      <td>1</td>\n",
       "      <td>1</td>\n",
       "      <td>1</td>\n",
       "      <td>1</td>\n",
       "      <td>1</td>\n",
       "      <td>1</td>\n",
       "      <td>1</td>\n",
       "      <td>1</td>\n",
       "      <td>1</td>\n",
       "      <td>1</td>\n",
       "      <td>1</td>\n",
       "    </tr>\n",
       "  </tbody>\n",
       "</table>\n",
       "</div>"
      ],
      "text/plain": [
       "   Converted  Converted_prob  Lead Score  Prospect Number  Predicted  0.0  \\\n",
       "0          0            0.10        9.67             8425          0    1   \n",
       "1          0            0.10        9.67             8341          0    1   \n",
       "2          0            0.09        9.17             7376          0    1   \n",
       "3          0            0.10        9.67             7414          0    1   \n",
       "4          1            1.00       99.95             3521          1    1   \n",
       "\n",
       "   0.1  0.2  0.3  0.4  0.5  0.6  0.7  0.8  0.9  final_Predicted  \n",
       "0    0    0    0    0    0    0    0    0    0                0  \n",
       "1    0    0    0    0    0    0    0    0    0                0  \n",
       "2    0    0    0    0    0    0    0    0    0                0  \n",
       "3    0    0    0    0    0    0    0    0    0                0  \n",
       "4    1    1    1    1    1    1    1    1    1                1  "
      ]
     },
     "execution_count": 297,
     "metadata": {},
     "output_type": "execute_result"
    }
   ],
   "source": [
    "# Round converted_prob and lead score to 2 decimal places \n",
    "y_train_pred_final[['Converted_prob', 'Lead Score']] = y_train_pred_final[['Converted_prob', 'Lead Score']].apply(lambda x: round(x,2))\n",
    "y_train_pred_final.head()"
   ]
  },
  {
   "cell_type": "code",
   "execution_count": 298,
   "metadata": {},
   "outputs": [
    {
     "data": {
      "text/plain": [
       "0.8940470551081636"
      ]
     },
     "execution_count": 298,
     "metadata": {},
     "output_type": "execute_result"
    }
   ],
   "source": [
    "# Accuracy score for improved model\n",
    "m.accuracy_score(y_train_pred_final.Converted, y_train_pred_final.final_Predicted)"
   ]
  },
  {
   "cell_type": "code",
   "execution_count": 299,
   "metadata": {},
   "outputs": [
    {
     "data": {
      "text/plain": [
       "array([[3508,  431],\n",
       "       [ 240, 2154]], dtype=int64)"
      ]
     },
     "execution_count": 299,
     "metadata": {},
     "output_type": "execute_result"
    }
   ],
   "source": [
    "# Confusion matrix for the data\n",
    "confusion2 = m.confusion_matrix(y_train_pred_final.Converted, y_train_pred_final.final_Predicted )\n",
    "confusion2"
   ]
  },
  {
   "cell_type": "code",
   "execution_count": 300,
   "metadata": {},
   "outputs": [],
   "source": [
    "# Repeat the same process of calculating model parameters\n",
    "TP = confusion2[1,1] # true positives \n",
    "TN = confusion2[0,0] # true negatives\n",
    "FP = confusion2[0,1] # false positives\n",
    "FN = confusion2[1,0] # false negatives"
   ]
  },
  {
   "cell_type": "code",
   "execution_count": 301,
   "metadata": {},
   "outputs": [
    {
     "data": {
      "text/plain": [
       "0.899749373433584"
      ]
     },
     "execution_count": 301,
     "metadata": {},
     "output_type": "execute_result"
    }
   ],
   "source": [
    "# Sensitivity of final model(same as recall)\n",
    "TP/(TP+FN)"
   ]
  },
  {
   "cell_type": "code",
   "execution_count": 302,
   "metadata": {},
   "outputs": [
    {
     "data": {
      "text/plain": [
       "0.8905813658288906"
      ]
     },
     "execution_count": 302,
     "metadata": {},
     "output_type": "execute_result"
    }
   ],
   "source": [
    "# Specificity of final model \n",
    "TN/(TN+FP)"
   ]
  },
  {
   "cell_type": "code",
   "execution_count": 303,
   "metadata": {},
   "outputs": [
    {
     "data": {
      "text/plain": [
       "0.10941863417110942"
      ]
     },
     "execution_count": 303,
     "metadata": {},
     "output_type": "execute_result"
    }
   ],
   "source": [
    "# False Positive Rate\n",
    "FP/(TN+FP)"
   ]
  },
  {
   "cell_type": "code",
   "execution_count": 304,
   "metadata": {},
   "outputs": [
    {
     "data": {
      "text/plain": [
       "0.8332688588007737"
      ]
     },
     "execution_count": 304,
     "metadata": {},
     "output_type": "execute_result"
    }
   ],
   "source": [
    "# Positive predictive value(same as precision)\n",
    "TP/(TP+FP)"
   ]
  },
  {
   "cell_type": "code",
   "execution_count": 305,
   "metadata": {},
   "outputs": [
    {
     "data": {
      "text/plain": [
       "0.935965848452508"
      ]
     },
     "execution_count": 305,
     "metadata": {},
     "output_type": "execute_result"
    }
   ],
   "source": [
    "# Negative predictive value\n",
    "TN/(TN+FN)"
   ]
  },
  {
   "cell_type": "code",
   "execution_count": 306,
   "metadata": {},
   "outputs": [],
   "source": [
    "# Precision vs Recall\n",
    "from sklearn.metrics import precision_recall_curve\n",
    "p, r, thresholds = precision_recall_curve(y_train_pred_final.Converted, y_train_pred_final.Converted_prob)"
   ]
  },
  {
   "cell_type": "code",
   "execution_count": 307,
   "metadata": {},
   "outputs": [
    {
     "data": {
      "image/png": "[encoded data removed]",
      "text/plain": [
       "<Figure size 432x288 with 1 Axes>"
      ]
     },
     "metadata": {
      "needs_background": "light"
     },
     "output_type": "display_data"
    }
   ],
   "source": [
    "# Plot the precision recall curve. Green one is precision and red one is recall\n",
    "plt.plot(thresholds, p[:-1], \"g-\")\n",
    "plt.plot(thresholds, r[:-1], \"r-\")\n",
    "plt.show()"
   ]
  },
  {
   "cell_type": "code",
   "execution_count": 308,
   "metadata": {},
   "outputs": [
    {
     "data": {
      "text/html": [
       "<div>\n",
       "<style scoped>\n",
       "    .dataframe tbody tr th:only-of-type {\n",
       "        vertical-align: middle;\n",
       "    }\n",
       "\n",
       "    .dataframe tbody tr th {\n",
       "        vertical-align: top;\n",
       "    }\n",
       "\n",
       "    .dataframe thead th {\n",
       "        text-align: right;\n",
       "    }\n",
       "</style>\n",
       "<table border=\"1\" class=\"dataframe\">\n",
       "  <thead>\n",
       "    <tr style=\"text-align: right;\">\n",
       "      <th></th>\n",
       "      <th>Do Not Email</th>\n",
       "      <th>TotalVisits</th>\n",
       "      <th>Total Time Spent on Website</th>\n",
       "      <th>Page Views Per Visit</th>\n",
       "      <th>A free copy of Mastering The Interview</th>\n",
       "      <th>Lead Origin_Landing Page Submission</th>\n",
       "      <th>Lead Origin_Lead Add Form</th>\n",
       "      <th>Lead Origin_Lead Import</th>\n",
       "      <th>What is your current occupation_Housewife</th>\n",
       "      <th>What is your current occupation_Other</th>\n",
       "      <th>...</th>\n",
       "      <th>Last Notable Activity_Modified</th>\n",
       "      <th>Last Notable Activity_Olark Chat Conversation</th>\n",
       "      <th>Last Notable Activity_Page Visited on Website</th>\n",
       "      <th>Last Notable Activity_SMS Sent</th>\n",
       "      <th>Tags_Busy</th>\n",
       "      <th>Tags_Interested in other courses</th>\n",
       "      <th>Tags_Lost to EINS</th>\n",
       "      <th>Tags_Other</th>\n",
       "      <th>Tags_Ringing</th>\n",
       "      <th>Tags_Will revert after reading the email</th>\n",
       "    </tr>\n",
       "  </thead>\n",
       "  <tbody>\n",
       "    <tr>\n",
       "      <th>4462</th>\n",
       "      <td>0</td>\n",
       "      <td>-1.015121</td>\n",
       "      <td>-0.878510</td>\n",
       "      <td>-1.145788</td>\n",
       "      <td>0</td>\n",
       "      <td>0</td>\n",
       "      <td>0</td>\n",
       "      <td>0</td>\n",
       "      <td>0</td>\n",
       "      <td>0</td>\n",
       "      <td>...</td>\n",
       "      <td>0</td>\n",
       "      <td>0</td>\n",
       "      <td>0</td>\n",
       "      <td>1</td>\n",
       "      <td>0</td>\n",
       "      <td>0</td>\n",
       "      <td>0</td>\n",
       "      <td>0</td>\n",
       "      <td>0</td>\n",
       "      <td>1</td>\n",
       "    </tr>\n",
       "    <tr>\n",
       "      <th>5243</th>\n",
       "      <td>0</td>\n",
       "      <td>-0.402157</td>\n",
       "      <td>-0.582031</td>\n",
       "      <td>-0.165214</td>\n",
       "      <td>0</td>\n",
       "      <td>0</td>\n",
       "      <td>0</td>\n",
       "      <td>0</td>\n",
       "      <td>0</td>\n",
       "      <td>0</td>\n",
       "      <td>...</td>\n",
       "      <td>1</td>\n",
       "      <td>0</td>\n",
       "      <td>0</td>\n",
       "      <td>0</td>\n",
       "      <td>0</td>\n",
       "      <td>1</td>\n",
       "      <td>0</td>\n",
       "      <td>0</td>\n",
       "      <td>0</td>\n",
       "      <td>0</td>\n",
       "    </tr>\n",
       "    <tr>\n",
       "      <th>4597</th>\n",
       "      <td>0</td>\n",
       "      <td>-0.402157</td>\n",
       "      <td>-0.086672</td>\n",
       "      <td>-0.165214</td>\n",
       "      <td>1</td>\n",
       "      <td>1</td>\n",
       "      <td>0</td>\n",
       "      <td>0</td>\n",
       "      <td>0</td>\n",
       "      <td>0</td>\n",
       "      <td>...</td>\n",
       "      <td>1</td>\n",
       "      <td>0</td>\n",
       "      <td>0</td>\n",
       "      <td>0</td>\n",
       "      <td>0</td>\n",
       "      <td>0</td>\n",
       "      <td>1</td>\n",
       "      <td>0</td>\n",
       "      <td>0</td>\n",
       "      <td>0</td>\n",
       "    </tr>\n",
       "    <tr>\n",
       "      <th>4680</th>\n",
       "      <td>0</td>\n",
       "      <td>-1.015121</td>\n",
       "      <td>-0.878510</td>\n",
       "      <td>-1.145788</td>\n",
       "      <td>0</td>\n",
       "      <td>0</td>\n",
       "      <td>1</td>\n",
       "      <td>0</td>\n",
       "      <td>0</td>\n",
       "      <td>0</td>\n",
       "      <td>...</td>\n",
       "      <td>0</td>\n",
       "      <td>0</td>\n",
       "      <td>0</td>\n",
       "      <td>1</td>\n",
       "      <td>0</td>\n",
       "      <td>0</td>\n",
       "      <td>0</td>\n",
       "      <td>0</td>\n",
       "      <td>0</td>\n",
       "      <td>0</td>\n",
       "    </tr>\n",
       "    <tr>\n",
       "      <th>5355</th>\n",
       "      <td>0</td>\n",
       "      <td>-1.015121</td>\n",
       "      <td>-0.878510</td>\n",
       "      <td>-1.145788</td>\n",
       "      <td>0</td>\n",
       "      <td>0</td>\n",
       "      <td>0</td>\n",
       "      <td>0</td>\n",
       "      <td>0</td>\n",
       "      <td>0</td>\n",
       "      <td>...</td>\n",
       "      <td>1</td>\n",
       "      <td>0</td>\n",
       "      <td>0</td>\n",
       "      <td>0</td>\n",
       "      <td>0</td>\n",
       "      <td>0</td>\n",
       "      <td>0</td>\n",
       "      <td>0</td>\n",
       "      <td>0</td>\n",
       "      <td>0</td>\n",
       "    </tr>\n",
       "  </tbody>\n",
       "</table>\n",
       "<p>5 rows × 56 columns</p>\n",
       "</div>"
      ],
      "text/plain": [
       "      Do Not Email  TotalVisits  Total Time Spent on Website  \\\n",
       "4462             0    -1.015121                    -0.878510   \n",
       "5243             0    -0.402157                    -0.582031   \n",
       "4597             0    -0.402157                    -0.086672   \n",
       "4680             0    -1.015121                    -0.878510   \n",
       "5355             0    -1.015121                    -0.878510   \n",
       "\n",
       "      Page Views Per Visit  A free copy of Mastering The Interview  \\\n",
       "4462             -1.145788                                       0   \n",
       "5243             -0.165214                                       0   \n",
       "4597             -0.165214                                       1   \n",
       "4680             -1.145788                                       0   \n",
       "5355             -1.145788                                       0   \n",
       "\n",
       "      Lead Origin_Landing Page Submission  Lead Origin_Lead Add Form  \\\n",
       "4462                                    0                          0   \n",
       "5243                                    0                          0   \n",
       "4597                                    1                          0   \n",
       "4680                                    0                          1   \n",
       "5355                                    0                          0   \n",
       "\n",
       "      Lead Origin_Lead Import  What is your current occupation_Housewife  \\\n",
       "4462                        0                                          0   \n",
       "5243                        0                                          0   \n",
       "4597                        0                                          0   \n",
       "4680                        0                                          0   \n",
       "5355                        0                                          0   \n",
       "\n",
       "      What is your current occupation_Other  ...  \\\n",
       "4462                                      0  ...   \n",
       "5243                                      0  ...   \n",
       "4597                                      0  ...   \n",
       "4680                                      0  ...   \n",
       "5355                                      0  ...   \n",
       "\n",
       "      Last Notable Activity_Modified  \\\n",
       "4462                               0   \n",
       "5243                               1   \n",
       "4597                               1   \n",
       "4680                               0   \n",
       "5355                               1   \n",
       "\n",
       "      Last Notable Activity_Olark Chat Conversation  \\\n",
       "4462                                              0   \n",
       "5243                                              0   \n",
       "4597                                              0   \n",
       "4680                                              0   \n",
       "5355                                              0   \n",
       "\n",
       "      Last Notable Activity_Page Visited on Website  \\\n",
       "4462                                              0   \n",
       "5243                                              0   \n",
       "4597                                              0   \n",
       "4680                                              0   \n",
       "5355                                              0   \n",
       "\n",
       "      Last Notable Activity_SMS Sent  Tags_Busy  \\\n",
       "4462                               1          0   \n",
       "5243                               0          0   \n",
       "4597                               0          0   \n",
       "4680                               1          0   \n",
       "5355                               0          0   \n",
       "\n",
       "      Tags_Interested in other courses  Tags_Lost to EINS  Tags_Other  \\\n",
       "4462                                 0                  0           0   \n",
       "5243                                 1                  0           0   \n",
       "4597                                 0                  1           0   \n",
       "4680                                 0                  0           0   \n",
       "5355                                 0                  0           0   \n",
       "\n",
       "      Tags_Ringing  Tags_Will revert after reading the email  \n",
       "4462             0                                         1  \n",
       "5243             0                                         0  \n",
       "4597             0                                         0  \n",
       "4680             0                                         0  \n",
       "5355             0                                         0  \n",
       "\n",
       "[5 rows x 56 columns]"
      ]
     },
     "execution_count": 308,
     "metadata": {},
     "output_type": "execute_result"
    }
   ],
   "source": [
    "# Scaling test set\n",
    "X_test[cols_to_scale] = scaler.transform(X_test[cols_to_scale])\n",
    "\n",
    "X_test.head()"
   ]
  },
  {
   "cell_type": "code",
   "execution_count": 309,
   "metadata": {},
   "outputs": [
    {
     "data": {
      "text/html": [
       "<div>\n",
       "<style scoped>\n",
       "    .dataframe tbody tr th:only-of-type {\n",
       "        vertical-align: middle;\n",
       "    }\n",
       "\n",
       "    .dataframe tbody tr th {\n",
       "        vertical-align: top;\n",
       "    }\n",
       "\n",
       "    .dataframe thead th {\n",
       "        text-align: right;\n",
       "    }\n",
       "</style>\n",
       "<table border=\"1\" class=\"dataframe\">\n",
       "  <thead>\n",
       "    <tr style=\"text-align: right;\">\n",
       "      <th></th>\n",
       "      <th>Do Not Email</th>\n",
       "      <th>Total Time Spent on Website</th>\n",
       "      <th>Lead Origin_Lead Add Form</th>\n",
       "      <th>What is your current occupation_Working Professional</th>\n",
       "      <th>Lead Source_Direct Traffic</th>\n",
       "      <th>Lead Source_Welingak Website</th>\n",
       "      <th>Last Activity_Converted to Lead</th>\n",
       "      <th>Last Activity_Olark Chat Conversation</th>\n",
       "      <th>Last Notable Activity_SMS Sent</th>\n",
       "      <th>Tags_Busy</th>\n",
       "      <th>Tags_Interested in other courses</th>\n",
       "      <th>Tags_Lost to EINS</th>\n",
       "      <th>Tags_Ringing</th>\n",
       "      <th>Tags_Will revert after reading the email</th>\n",
       "    </tr>\n",
       "  </thead>\n",
       "  <tbody>\n",
       "    <tr>\n",
       "      <th>4462</th>\n",
       "      <td>0</td>\n",
       "      <td>-0.878510</td>\n",
       "      <td>0</td>\n",
       "      <td>0</td>\n",
       "      <td>0</td>\n",
       "      <td>0</td>\n",
       "      <td>0</td>\n",
       "      <td>0</td>\n",
       "      <td>1</td>\n",
       "      <td>0</td>\n",
       "      <td>0</td>\n",
       "      <td>0</td>\n",
       "      <td>0</td>\n",
       "      <td>1</td>\n",
       "    </tr>\n",
       "    <tr>\n",
       "      <th>5243</th>\n",
       "      <td>0</td>\n",
       "      <td>-0.582031</td>\n",
       "      <td>0</td>\n",
       "      <td>0</td>\n",
       "      <td>0</td>\n",
       "      <td>0</td>\n",
       "      <td>0</td>\n",
       "      <td>0</td>\n",
       "      <td>0</td>\n",
       "      <td>0</td>\n",
       "      <td>1</td>\n",
       "      <td>0</td>\n",
       "      <td>0</td>\n",
       "      <td>0</td>\n",
       "    </tr>\n",
       "    <tr>\n",
       "      <th>4597</th>\n",
       "      <td>0</td>\n",
       "      <td>-0.086672</td>\n",
       "      <td>0</td>\n",
       "      <td>0</td>\n",
       "      <td>1</td>\n",
       "      <td>0</td>\n",
       "      <td>0</td>\n",
       "      <td>0</td>\n",
       "      <td>0</td>\n",
       "      <td>0</td>\n",
       "      <td>0</td>\n",
       "      <td>1</td>\n",
       "      <td>0</td>\n",
       "      <td>0</td>\n",
       "    </tr>\n",
       "    <tr>\n",
       "      <th>4680</th>\n",
       "      <td>0</td>\n",
       "      <td>-0.878510</td>\n",
       "      <td>1</td>\n",
       "      <td>0</td>\n",
       "      <td>0</td>\n",
       "      <td>1</td>\n",
       "      <td>0</td>\n",
       "      <td>0</td>\n",
       "      <td>1</td>\n",
       "      <td>0</td>\n",
       "      <td>0</td>\n",
       "      <td>0</td>\n",
       "      <td>0</td>\n",
       "      <td>0</td>\n",
       "    </tr>\n",
       "    <tr>\n",
       "      <th>5355</th>\n",
       "      <td>0</td>\n",
       "      <td>-0.878510</td>\n",
       "      <td>0</td>\n",
       "      <td>0</td>\n",
       "      <td>0</td>\n",
       "      <td>0</td>\n",
       "      <td>0</td>\n",
       "      <td>0</td>\n",
       "      <td>0</td>\n",
       "      <td>0</td>\n",
       "      <td>0</td>\n",
       "      <td>0</td>\n",
       "      <td>0</td>\n",
       "      <td>0</td>\n",
       "    </tr>\n",
       "  </tbody>\n",
       "</table>\n",
       "</div>"
      ],
      "text/plain": [
       "      Do Not Email  Total Time Spent on Website  Lead Origin_Lead Add Form  \\\n",
       "4462             0                    -0.878510                          0   \n",
       "5243             0                    -0.582031                          0   \n",
       "4597             0                    -0.086672                          0   \n",
       "4680             0                    -0.878510                          1   \n",
       "5355             0                    -0.878510                          0   \n",
       "\n",
       "      What is your current occupation_Working Professional  \\\n",
       "4462                                                  0      \n",
       "5243                                                  0      \n",
       "4597                                                  0      \n",
       "4680                                                  0      \n",
       "5355                                                  0      \n",
       "\n",
       "      Lead Source_Direct Traffic  Lead Source_Welingak Website  \\\n",
       "4462                           0                             0   \n",
       "5243                           0                             0   \n",
       "4597                           1                             0   \n",
       "4680                           0                             1   \n",
       "5355                           0                             0   \n",
       "\n",
       "      Last Activity_Converted to Lead  Last Activity_Olark Chat Conversation  \\\n",
       "4462                                0                                      0   \n",
       "5243                                0                                      0   \n",
       "4597                                0                                      0   \n",
       "4680                                0                                      0   \n",
       "5355                                0                                      0   \n",
       "\n",
       "      Last Notable Activity_SMS Sent  Tags_Busy  \\\n",
       "4462                               1          0   \n",
       "5243                               0          0   \n",
       "4597                               0          0   \n",
       "4680                               1          0   \n",
       "5355                               0          0   \n",
       "\n",
       "      Tags_Interested in other courses  Tags_Lost to EINS  Tags_Ringing  \\\n",
       "4462                                 0                  0             0   \n",
       "5243                                 1                  0             0   \n",
       "4597                                 0                  1             0   \n",
       "4680                                 0                  0             0   \n",
       "5355                                 0                  0             0   \n",
       "\n",
       "      Tags_Will revert after reading the email  \n",
       "4462                                         1  \n",
       "5243                                         0  \n",
       "4597                                         0  \n",
       "4680                                         0  \n",
       "5355                                         0  "
      ]
     },
     "execution_count": 309,
     "metadata": {},
     "output_type": "execute_result"
    }
   ],
   "source": [
    "# Keeping the columns of our final model\n",
    "X_test = X_test[rfe_select1]\n",
    "X_test.head()"
   ]
  },
  {
   "cell_type": "code",
   "execution_count": 310,
   "metadata": {},
   "outputs": [],
   "source": [
    "# Add constant for model\n",
    "X_test_sm = sm.add_constant(X_test)"
   ]
  },
  {
   "cell_type": "code",
   "execution_count": 311,
   "metadata": {},
   "outputs": [],
   "source": [
    "# Make predictions using our model on test data\n",
    "y_test_pred = result.predict(X_test_sm)"
   ]
  },
  {
   "cell_type": "code",
   "execution_count": 312,
   "metadata": {},
   "outputs": [
    {
     "data": {
      "text/plain": [
       "4462    0.982205\n",
       "5243    0.011747\n",
       "4597    0.957715\n",
       "4680    0.997414\n",
       "5355    0.096723\n",
       "7071    0.006040\n",
       "6314    0.938330\n",
       "2688    0.999963\n",
       "6228    0.103350\n",
       "3014    0.002516\n",
       "dtype: float64"
      ]
     },
     "execution_count": 312,
     "metadata": {},
     "output_type": "execute_result"
    }
   ],
   "source": [
    "# Viewing result\n",
    "y_test_pred[:10]"
   ]
  },
  {
   "cell_type": "code",
   "execution_count": 313,
   "metadata": {},
   "outputs": [
    {
     "data": {
      "text/html": [
       "<div>\n",
       "<style scoped>\n",
       "    .dataframe tbody tr th:only-of-type {\n",
       "        vertical-align: middle;\n",
       "    }\n",
       "\n",
       "    .dataframe tbody tr th {\n",
       "        vertical-align: top;\n",
       "    }\n",
       "\n",
       "    .dataframe thead th {\n",
       "        text-align: right;\n",
       "    }\n",
       "</style>\n",
       "<table border=\"1\" class=\"dataframe\">\n",
       "  <thead>\n",
       "    <tr style=\"text-align: right;\">\n",
       "      <th></th>\n",
       "      <th>Converted_prob</th>\n",
       "    </tr>\n",
       "  </thead>\n",
       "  <tbody>\n",
       "    <tr>\n",
       "      <th>4462</th>\n",
       "      <td>0.982205</td>\n",
       "    </tr>\n",
       "    <tr>\n",
       "      <th>5243</th>\n",
       "      <td>0.011747</td>\n",
       "    </tr>\n",
       "    <tr>\n",
       "      <th>4597</th>\n",
       "      <td>0.957715</td>\n",
       "    </tr>\n",
       "    <tr>\n",
       "      <th>4680</th>\n",
       "      <td>0.997414</td>\n",
       "    </tr>\n",
       "    <tr>\n",
       "      <th>5355</th>\n",
       "      <td>0.096723</td>\n",
       "    </tr>\n",
       "  </tbody>\n",
       "</table>\n",
       "</div>"
      ],
      "text/plain": [
       "      Converted_prob\n",
       "4462        0.982205\n",
       "5243        0.011747\n",
       "4597        0.957715\n",
       "4680        0.997414\n",
       "5355        0.096723"
      ]
     },
     "execution_count": 313,
     "metadata": {},
     "output_type": "execute_result"
    }
   ],
   "source": [
    "# Converting array y_test_pred to dataframe\n",
    "y_test_pred_df = pd.DataFrame(y_test_pred, columns=['Converted_prob'])\n",
    "y_test_pred_df.head()"
   ]
  },
  {
   "cell_type": "code",
   "execution_count": 314,
   "metadata": {},
   "outputs": [
    {
     "data": {
      "text/html": [
       "<div>\n",
       "<style scoped>\n",
       "    .dataframe tbody tr th:only-of-type {\n",
       "        vertical-align: middle;\n",
       "    }\n",
       "\n",
       "    .dataframe tbody tr th {\n",
       "        vertical-align: top;\n",
       "    }\n",
       "\n",
       "    .dataframe thead th {\n",
       "        text-align: right;\n",
       "    }\n",
       "</style>\n",
       "<table border=\"1\" class=\"dataframe\">\n",
       "  <thead>\n",
       "    <tr style=\"text-align: right;\">\n",
       "      <th></th>\n",
       "      <th>Converted</th>\n",
       "    </tr>\n",
       "  </thead>\n",
       "  <tbody>\n",
       "    <tr>\n",
       "      <th>4462</th>\n",
       "      <td>1</td>\n",
       "    </tr>\n",
       "    <tr>\n",
       "      <th>5243</th>\n",
       "      <td>0</td>\n",
       "    </tr>\n",
       "    <tr>\n",
       "      <th>4597</th>\n",
       "      <td>1</td>\n",
       "    </tr>\n",
       "    <tr>\n",
       "      <th>4680</th>\n",
       "      <td>1</td>\n",
       "    </tr>\n",
       "    <tr>\n",
       "      <th>5355</th>\n",
       "      <td>0</td>\n",
       "    </tr>\n",
       "  </tbody>\n",
       "</table>\n",
       "</div>"
      ],
      "text/plain": [
       "      Converted\n",
       "4462          1\n",
       "5243          0\n",
       "4597          1\n",
       "4680          1\n",
       "5355          0"
      ]
     },
     "execution_count": 314,
     "metadata": {},
     "output_type": "execute_result"
    }
   ],
   "source": [
    "# Converting array y_test to dataframe\n",
    "y_test_df = pd.DataFrame(y_test)\n",
    "y_test_df.head()"
   ]
  },
  {
   "cell_type": "code",
   "execution_count": 315,
   "metadata": {},
   "outputs": [
    {
     "data": {
      "text/html": [
       "<div>\n",
       "<style scoped>\n",
       "    .dataframe tbody tr th:only-of-type {\n",
       "        vertical-align: middle;\n",
       "    }\n",
       "\n",
       "    .dataframe tbody tr th {\n",
       "        vertical-align: top;\n",
       "    }\n",
       "\n",
       "    .dataframe thead th {\n",
       "        text-align: right;\n",
       "    }\n",
       "</style>\n",
       "<table border=\"1\" class=\"dataframe\">\n",
       "  <thead>\n",
       "    <tr style=\"text-align: right;\">\n",
       "      <th></th>\n",
       "      <th>Converted</th>\n",
       "      <th>Prospect Number</th>\n",
       "    </tr>\n",
       "  </thead>\n",
       "  <tbody>\n",
       "    <tr>\n",
       "      <th>4462</th>\n",
       "      <td>1</td>\n",
       "      <td>4462</td>\n",
       "    </tr>\n",
       "    <tr>\n",
       "      <th>5243</th>\n",
       "      <td>0</td>\n",
       "      <td>5243</td>\n",
       "    </tr>\n",
       "    <tr>\n",
       "      <th>4597</th>\n",
       "      <td>1</td>\n",
       "      <td>4597</td>\n",
       "    </tr>\n",
       "    <tr>\n",
       "      <th>4680</th>\n",
       "      <td>1</td>\n",
       "      <td>4680</td>\n",
       "    </tr>\n",
       "    <tr>\n",
       "      <th>5355</th>\n",
       "      <td>0</td>\n",
       "      <td>5355</td>\n",
       "    </tr>\n",
       "  </tbody>\n",
       "</table>\n",
       "</div>"
      ],
      "text/plain": [
       "      Converted  Prospect Number\n",
       "4462          1             4462\n",
       "5243          0             5243\n",
       "4597          1             4597\n",
       "4680          1             4680\n",
       "5355          0             5355"
      ]
     },
     "execution_count": 315,
     "metadata": {},
     "output_type": "execute_result"
    }
   ],
   "source": [
    "# Adding Prospect Number to identify the record\n",
    "y_test_df['Prospect Number'] = y_test_df.index\n",
    "y_test_df.head()"
   ]
  },
  {
   "cell_type": "code",
   "execution_count": 316,
   "metadata": {},
   "outputs": [],
   "source": [
    "# Reset indices of both dataframes before concatenating them\n",
    "y_test_pred_df.reset_index(drop=True, inplace=True)\n",
    "y_test_df.reset_index(drop=True, inplace=True)"
   ]
  },
  {
   "cell_type": "code",
   "execution_count": 317,
   "metadata": {},
   "outputs": [
    {
     "data": {
      "text/html": [
       "<div>\n",
       "<style scoped>\n",
       "    .dataframe tbody tr th:only-of-type {\n",
       "        vertical-align: middle;\n",
       "    }\n",
       "\n",
       "    .dataframe tbody tr th {\n",
       "        vertical-align: top;\n",
       "    }\n",
       "\n",
       "    .dataframe thead th {\n",
       "        text-align: right;\n",
       "    }\n",
       "</style>\n",
       "<table border=\"1\" class=\"dataframe\">\n",
       "  <thead>\n",
       "    <tr style=\"text-align: right;\">\n",
       "      <th></th>\n",
       "      <th>Converted</th>\n",
       "      <th>Prospect Number</th>\n",
       "      <th>Converted_prob</th>\n",
       "    </tr>\n",
       "  </thead>\n",
       "  <tbody>\n",
       "    <tr>\n",
       "      <th>0</th>\n",
       "      <td>1</td>\n",
       "      <td>4462</td>\n",
       "      <td>0.982205</td>\n",
       "    </tr>\n",
       "    <tr>\n",
       "      <th>1</th>\n",
       "      <td>0</td>\n",
       "      <td>5243</td>\n",
       "      <td>0.011747</td>\n",
       "    </tr>\n",
       "    <tr>\n",
       "      <th>2</th>\n",
       "      <td>1</td>\n",
       "      <td>4597</td>\n",
       "      <td>0.957715</td>\n",
       "    </tr>\n",
       "    <tr>\n",
       "      <th>3</th>\n",
       "      <td>1</td>\n",
       "      <td>4680</td>\n",
       "      <td>0.997414</td>\n",
       "    </tr>\n",
       "    <tr>\n",
       "      <th>4</th>\n",
       "      <td>0</td>\n",
       "      <td>5355</td>\n",
       "      <td>0.096723</td>\n",
       "    </tr>\n",
       "  </tbody>\n",
       "</table>\n",
       "</div>"
      ],
      "text/plain": [
       "   Converted  Prospect Number  Converted_prob\n",
       "0          1             4462        0.982205\n",
       "1          0             5243        0.011747\n",
       "2          1             4597        0.957715\n",
       "3          1             4680        0.997414\n",
       "4          0             5355        0.096723"
      ]
     },
     "execution_count": 317,
     "metadata": {},
     "output_type": "execute_result"
    }
   ],
   "source": [
    "# Creating the combined dataframe\n",
    "y_pred_combined = pd.concat([y_test_df, y_test_pred_df], axis=1)\n",
    "y_pred_combined.head()"
   ]
  },
  {
   "cell_type": "code",
   "execution_count": 318,
   "metadata": {},
   "outputs": [
    {
     "data": {
      "text/html": [
       "<div>\n",
       "<style scoped>\n",
       "    .dataframe tbody tr th:only-of-type {\n",
       "        vertical-align: middle;\n",
       "    }\n",
       "\n",
       "    .dataframe tbody tr th {\n",
       "        vertical-align: top;\n",
       "    }\n",
       "\n",
       "    .dataframe thead th {\n",
       "        text-align: right;\n",
       "    }\n",
       "</style>\n",
       "<table border=\"1\" class=\"dataframe\">\n",
       "  <thead>\n",
       "    <tr style=\"text-align: right;\">\n",
       "      <th></th>\n",
       "      <th>Prospect Number</th>\n",
       "      <th>Converted</th>\n",
       "      <th>Converted_prob</th>\n",
       "      <th>Lead Score</th>\n",
       "    </tr>\n",
       "  </thead>\n",
       "  <tbody>\n",
       "    <tr>\n",
       "      <th>0</th>\n",
       "      <td>4462</td>\n",
       "      <td>1</td>\n",
       "      <td>0.982205</td>\n",
       "      <td>98.22</td>\n",
       "    </tr>\n",
       "    <tr>\n",
       "      <th>1</th>\n",
       "      <td>5243</td>\n",
       "      <td>0</td>\n",
       "      <td>0.011747</td>\n",
       "      <td>1.17</td>\n",
       "    </tr>\n",
       "    <tr>\n",
       "      <th>2</th>\n",
       "      <td>4597</td>\n",
       "      <td>1</td>\n",
       "      <td>0.957715</td>\n",
       "      <td>95.77</td>\n",
       "    </tr>\n",
       "    <tr>\n",
       "      <th>3</th>\n",
       "      <td>4680</td>\n",
       "      <td>1</td>\n",
       "      <td>0.997414</td>\n",
       "      <td>99.74</td>\n",
       "    </tr>\n",
       "    <tr>\n",
       "      <th>4</th>\n",
       "      <td>5355</td>\n",
       "      <td>0</td>\n",
       "      <td>0.096723</td>\n",
       "      <td>9.67</td>\n",
       "    </tr>\n",
       "  </tbody>\n",
       "</table>\n",
       "</div>"
      ],
      "text/plain": [
       "   Prospect Number  Converted  Converted_prob  Lead Score\n",
       "0             4462          1        0.982205       98.22\n",
       "1             5243          0        0.011747        1.17\n",
       "2             4597          1        0.957715       95.77\n",
       "3             4680          1        0.997414       99.74\n",
       "4             5355          0        0.096723        9.67"
      ]
     },
     "execution_count": 318,
     "metadata": {},
     "output_type": "execute_result"
    }
   ],
   "source": [
    "# Find the Lead Score\n",
    "y_pred_combined = y_pred_combined[['Prospect Number','Converted','Converted_prob']]\n",
    "y_pred_combined['Lead Score'] = y_pred_combined['Converted_prob'].map( lambda x: round(x*100,2))\n",
    "y_pred_combined.head()"
   ]
  },
  {
   "cell_type": "code",
   "execution_count": 319,
   "metadata": {},
   "outputs": [
    {
     "data": {
      "text/html": [
       "<div>\n",
       "<style scoped>\n",
       "    .dataframe tbody tr th:only-of-type {\n",
       "        vertical-align: middle;\n",
       "    }\n",
       "\n",
       "    .dataframe tbody tr th {\n",
       "        vertical-align: top;\n",
       "    }\n",
       "\n",
       "    .dataframe thead th {\n",
       "        text-align: right;\n",
       "    }\n",
       "</style>\n",
       "<table border=\"1\" class=\"dataframe\">\n",
       "  <thead>\n",
       "    <tr style=\"text-align: right;\">\n",
       "      <th></th>\n",
       "      <th>Prospect Number</th>\n",
       "      <th>Converted</th>\n",
       "      <th>Converted_prob</th>\n",
       "      <th>Lead Score</th>\n",
       "      <th>final_Predicted</th>\n",
       "    </tr>\n",
       "  </thead>\n",
       "  <tbody>\n",
       "    <tr>\n",
       "      <th>0</th>\n",
       "      <td>4462</td>\n",
       "      <td>1</td>\n",
       "      <td>0.982205</td>\n",
       "      <td>98.22</td>\n",
       "      <td>1</td>\n",
       "    </tr>\n",
       "    <tr>\n",
       "      <th>1</th>\n",
       "      <td>5243</td>\n",
       "      <td>0</td>\n",
       "      <td>0.011747</td>\n",
       "      <td>1.17</td>\n",
       "      <td>0</td>\n",
       "    </tr>\n",
       "    <tr>\n",
       "      <th>2</th>\n",
       "      <td>4597</td>\n",
       "      <td>1</td>\n",
       "      <td>0.957715</td>\n",
       "      <td>95.77</td>\n",
       "      <td>1</td>\n",
       "    </tr>\n",
       "    <tr>\n",
       "      <th>3</th>\n",
       "      <td>4680</td>\n",
       "      <td>1</td>\n",
       "      <td>0.997414</td>\n",
       "      <td>99.74</td>\n",
       "      <td>1</td>\n",
       "    </tr>\n",
       "    <tr>\n",
       "      <th>4</th>\n",
       "      <td>5355</td>\n",
       "      <td>0</td>\n",
       "      <td>0.096723</td>\n",
       "      <td>9.67</td>\n",
       "      <td>0</td>\n",
       "    </tr>\n",
       "  </tbody>\n",
       "</table>\n",
       "</div>"
      ],
      "text/plain": [
       "   Prospect Number  Converted  Converted_prob  Lead Score  final_Predicted\n",
       "0             4462          1        0.982205       98.22                1\n",
       "1             5243          0        0.011747        1.17                0\n",
       "2             4597          1        0.957715       95.77                1\n",
       "3             4680          1        0.997414       99.74                1\n",
       "4             5355          0        0.096723        9.67                0"
      ]
     },
     "execution_count": 319,
     "metadata": {},
     "output_type": "execute_result"
    }
   ],
   "source": [
    "# Assigning final predicted value based on optimal cutoff of 0.3\n",
    "y_pred_combined['final_Predicted'] = y_pred_combined['Converted_prob'].map(lambda x: 1 if x > 0.3 else 0)\n",
    "y_pred_combined.head()"
   ]
  },
  {
   "cell_type": "code",
   "execution_count": 320,
   "metadata": {},
   "outputs": [
    {
     "data": {
      "text/plain": [
       "0.8968692449355433"
      ]
     },
     "execution_count": 320,
     "metadata": {},
     "output_type": "execute_result"
    }
   ],
   "source": [
    "# Accuracy of test data\n",
    "m.accuracy_score(y_pred_combined.Converted, y_pred_combined.final_Predicted)"
   ]
  },
  {
   "cell_type": "code",
   "execution_count": 321,
   "metadata": {},
   "outputs": [
    {
     "data": {
      "text/plain": [
       "array([[1515,  166],\n",
       "       [ 114,  920]], dtype=int64)"
      ]
     },
     "execution_count": 321,
     "metadata": {},
     "output_type": "execute_result"
    }
   ],
   "source": [
    "# Confusion matrix of test data\n",
    "confusion_test = m.confusion_matrix(y_pred_combined.Converted, y_pred_combined.final_Predicted )\n",
    "confusion_test"
   ]
  },
  {
   "cell_type": "code",
   "execution_count": 322,
   "metadata": {},
   "outputs": [],
   "source": [
    "TP = confusion_test[1,1] # true positive \n",
    "TN = confusion_test[0,0] # true negatives\n",
    "FP = confusion_test[0,1] # false positives\n",
    "FN = confusion_test[1,0] # false negatives"
   ]
  },
  {
   "cell_type": "code",
   "execution_count": 323,
   "metadata": {},
   "outputs": [
    {
     "data": {
      "text/plain": [
       "0.8897485493230174"
      ]
     },
     "execution_count": 323,
     "metadata": {},
     "output_type": "execute_result"
    }
   ],
   "source": [
    "# Sensitivity of test data(same as recall)\n",
    "TP/(TP+FN)"
   ]
  },
  {
   "cell_type": "code",
   "execution_count": 324,
   "metadata": {},
   "outputs": [
    {
     "data": {
      "text/plain": [
       "0.901249256395003"
      ]
     },
     "execution_count": 324,
     "metadata": {},
     "output_type": "execute_result"
    }
   ],
   "source": [
    "# Specificity of test data\n",
    "TN/(TN+FP)"
   ]
  },
  {
   "cell_type": "code",
   "execution_count": 325,
   "metadata": {},
   "outputs": [
    {
     "data": {
      "text/plain": [
       "0.8471454880294659"
      ]
     },
     "execution_count": 325,
     "metadata": {},
     "output_type": "execute_result"
    }
   ],
   "source": [
    "# Precision of test data\n",
    "m.precision_score(y_pred_combined.Converted , y_pred_combined.final_Predicted)"
   ]
  },
  {
   "cell_type": "markdown",
   "metadata": {},
   "source": [
    "### Final Conclusion"
   ]
  },
  {
   "cell_type": "markdown",
   "metadata": {},
   "source": [
    "- Train Data(in percent):\n",
    "Accuracy = 89.40\n",
    "Sensitivity = 89.97\n",
    "Specificity = 89.06\n",
    "Precision = 83.33\n",
    "\n",
    "- Test Data(in percent):\n",
    "Accuracy = 89.67\n",
    "Sensitivity = 88.97\n",
    "Specificity = 90.12\n",
    "Precision = 84.71"
   ]
  },
  {
   "cell_type": "markdown",
   "metadata": {},
   "source": [
    "These parameters for test and train are close enough. Thus we conclude that our model works well on the test data and that we have a good model for predicting lead conversion."
   ]
  }
 ],
 "metadata": {
  "kernelspec": {
   "display_name": "Python 3",
   "language": "python",
   "name": "python3"
  },
  "language_info": {
   "codemirror_mode": {
    "name": "ipython",
    "version": 3
   },
   "file_extension": ".py",
   "mimetype": "text/x-python",
   "name": "python",
   "nbconvert_exporter": "python",
   "pygments_lexer": "ipython3",
   "version": "3.8.5"
  }
 },
 "nbformat": 4,
 "nbformat_minor": 4
}
